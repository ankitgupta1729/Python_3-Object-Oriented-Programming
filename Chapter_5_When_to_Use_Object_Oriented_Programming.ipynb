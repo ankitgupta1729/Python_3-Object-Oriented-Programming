{
 "cells": [
  {
   "cell_type": "markdown",
   "id": "643a3434",
   "metadata": {},
   "source": [
    "## Treat objects as objects"
   ]
  },
  {
   "cell_type": "markdown",
   "id": "a46cdec5",
   "metadata": {},
   "source": [
    "first, we identify objects in the problem and then model their data and behaviors."
   ]
  },
  {
   "cell_type": "markdown",
   "id": "989b792a",
   "metadata": {},
   "source": [
    "Remember, objects are things that have both data and behavior.\n",
    "If we are working only with data, we are often better off storing it in a list, set,\n",
    "dictionary, or some other Python data structure. On the other hand, if we are working only with\n",
    "behavior, but no stored data, a simple function is more suitable."
   ]
  },
  {
   "cell_type": "markdown",
   "id": "4dfb822c",
   "metadata": {},
   "source": [
    "An object, however, has both data and behavior. Proficient Python programmers\n",
    "use built-in data structures unless (or until) there is an obvious need to define a class.\n",
    "There is no reason to add an extra level of abstraction if it doesn't help organize\n",
    "our code. On the other hand, the \"obvious\" need is not always self-evident."
   ]
  },
  {
   "cell_type": "markdown",
   "id": "53d23d93",
   "metadata": {},
   "source": [
    "We can often start our Python programs by storing data in a few variables. As the\n",
    "program expands, we will later find that we are passing the same set of related\n",
    "variables to a set of functions. This is the time to think about grouping both variables\n",
    "and functions into a class. If we are designing a program to model polygons in twodimensional\n",
    "space, we might start with each polygon being represented as a list of\n",
    "points. The points would be modeled as two-tuples (x, y) describing where that point\n",
    "is located. This is all data, stored in a set of nested data structures (specifically, a list\n",
    "of tuples):"
   ]
  },
  {
   "cell_type": "code",
   "execution_count": 1,
   "id": "d47257cc",
   "metadata": {},
   "outputs": [],
   "source": [
    "square = [(1,1), (1,2), (2,2), (2,1)]"
   ]
  },
  {
   "cell_type": "markdown",
   "id": "7f84c089",
   "metadata": {},
   "source": [
    "Now, if we want to calculate the distance around the perimeter of the polygon, we\n",
    "simply need to sum the distances between the two points. To do this, we also need a\n",
    "function to calculate the distance between two points. Here are two such functions:"
   ]
  },
  {
   "cell_type": "code",
   "execution_count": 2,
   "id": "6579c292",
   "metadata": {},
   "outputs": [],
   "source": [
    "import math\n",
    "def distance(p1, p2):\n",
    "    return math.sqrt((p1[0]-p2[0])**2 + (p1[1]-p2[1])**2)\n",
    "def perimeter(polygon):\n",
    "    perimeter = 0\n",
    "    points = polygon + [polygon[0]]\n",
    "    for i in range(len(polygon)):\n",
    "        perimeter += distance(points[i], points[i+1])\n",
    "    return perimeter"
   ]
  },
  {
   "cell_type": "markdown",
   "id": "79096b5c",
   "metadata": {},
   "source": [
    "Now, as object-oriented programmers, we clearly recognize that a polygon class\n",
    "could encapsulate the list of points (data) and the perimeter function (behavior).\n",
    "Further, a point class, such as we defined in Chapter 2, Objects in Python, might\n",
    "encapsulate the x and y coordinates and the distance method. The question is:\n",
    "is it valuable to do this?"
   ]
  },
  {
   "cell_type": "markdown",
   "id": "cc394ba7",
   "metadata": {},
   "source": [
    "For the previous code, maybe yes, maybe no. With our recent experience in\n",
    "object-oriented principles, we can write an object-oriented version in record\n",
    "time. Let's compare them"
   ]
  },
  {
   "cell_type": "code",
   "execution_count": 3,
   "id": "4d1ffbcb",
   "metadata": {},
   "outputs": [],
   "source": [
    "import math\n",
    "class Point:\n",
    "    def __init__(self, x, y):\n",
    "        self.x = x\n",
    "        self.y = y\n",
    "    def distance(self, p2):\n",
    "        return math.sqrt((self.x-p2.x)**2 + (self.y-p2.y)**2)\n",
    "class Polygon:\n",
    "    def __init__(self):\n",
    "        self.vertices = []\n",
    "    def add_point(self, point):\n",
    "        self.vertices.append((point))\n",
    "    def perimeter(self):\n",
    "        perimeter = 0\n",
    "        points = self.vertices + [self.vertices[0]]\n",
    "        for i in range(len(self.vertices)):\n",
    "            perimeter += points[i].distance(points[i+1])\n",
    "        return perimeter"
   ]
  },
  {
   "cell_type": "markdown",
   "id": "1a17e0ba",
   "metadata": {},
   "source": [
    "As we can see from the highlighted sections, there is twice as much code here\n",
    "as there was in our earlier version, although we could argue that the add_point\n",
    "method is not strictly necessary."
   ]
  },
  {
   "cell_type": "markdown",
   "id": "ea341b95",
   "metadata": {},
   "source": [
    "Now, to understand the differences a little better, let's compare the two APIs in use.\n",
    "Here's how to calculate the perimeter of a square using the object-oriented code:"
   ]
  },
  {
   "cell_type": "code",
   "execution_count": 4,
   "id": "f18ccbeb",
   "metadata": {},
   "outputs": [],
   "source": [
    "square = Polygon()"
   ]
  },
  {
   "cell_type": "code",
   "execution_count": 5,
   "id": "00c5c9bc",
   "metadata": {},
   "outputs": [
    {
     "data": {
      "text/plain": [
       "[]"
      ]
     },
     "execution_count": 5,
     "metadata": {},
     "output_type": "execute_result"
    }
   ],
   "source": [
    "square.vertices"
   ]
  },
  {
   "cell_type": "code",
   "execution_count": 6,
   "id": "25c315fd",
   "metadata": {},
   "outputs": [],
   "source": [
    "square.add_point(Point(1,1))"
   ]
  },
  {
   "cell_type": "code",
   "execution_count": 7,
   "id": "7a8fa412",
   "metadata": {},
   "outputs": [
    {
     "data": {
      "text/plain": [
       "[<__main__.Point at 0x2a67fb3fb38>]"
      ]
     },
     "execution_count": 7,
     "metadata": {},
     "output_type": "execute_result"
    }
   ],
   "source": [
    "square.vertices"
   ]
  },
  {
   "cell_type": "code",
   "execution_count": 8,
   "id": "c655a9b2",
   "metadata": {},
   "outputs": [],
   "source": [
    "square.add_point(Point(1,2))\n",
    "square.add_point(Point(2,2))\n",
    "square.add_point(Point(2,1))"
   ]
  },
  {
   "cell_type": "code",
   "execution_count": 9,
   "id": "21fe025f",
   "metadata": {},
   "outputs": [
    {
     "data": {
      "text/plain": [
       "4.0"
      ]
     },
     "execution_count": 9,
     "metadata": {},
     "output_type": "execute_result"
    }
   ],
   "source": [
    "square.perimeter()"
   ]
  },
  {
   "cell_type": "markdown",
   "id": "7523d9f8",
   "metadata": {},
   "source": [
    "That's fairly succinct and easy to read, you might think, but let's compare it to the\n",
    "function-based code:"
   ]
  },
  {
   "cell_type": "code",
   "execution_count": 10,
   "id": "e1928626",
   "metadata": {},
   "outputs": [
    {
     "data": {
      "text/plain": [
       "4.0"
      ]
     },
     "execution_count": 10,
     "metadata": {},
     "output_type": "execute_result"
    }
   ],
   "source": [
    "square = [(1,1), (1,2), (2,2), (2,1)]\n",
    "perimeter(square)"
   ]
  },
  {
   "cell_type": "markdown",
   "id": "0fb0a06a",
   "metadata": {},
   "source": [
    "Hmm, maybe the object-oriented API isn't so compact! That said, I'd argue that it\n",
    "was easier to read than the functional example: How do we know what the list of\n",
    "tuples is supposed to represent in the second version? How do we remember what\n",
    "kind of object (a list of two-tuples? That's not intuitive!) we're supposed to pass into\n",
    "the perimeter function? We would need a lot of documentation to explain how\n",
    "these functions should be used.    \n",
    "                     \n",
    "In contrast, the object-oriented code is relatively self-documenting, we just have to\n",
    "look at the list of methods and their parameters to know what the object does and\n",
    "how to use it. By the time we wrote all the documentation for the functional version,\n",
    "it would probably be longer than the object-oriented code."
   ]
  },
  {
   "cell_type": "markdown",
   "id": "9587b831",
   "metadata": {},
   "source": [
    "Still, there's no clear winner between the object-oriented and more data-oriented\n",
    "versions of this code. They both do the same thing. If we have new functions that\n",
    "accept a polygon argument, such as area(polygon) or point_in_polygon(polygon,\n",
    "x, y), the benefits of the object-oriented code become increasingly obvious. Likewise,\n",
    "if we add other attributes to the polygon, such as color or texture, it makes more and\n",
    "more sense to encapsulate that data into a single class."
   ]
  },
  {
   "cell_type": "markdown",
   "id": "4b106359",
   "metadata": {},
   "source": [
    "The distinction is a design decision, but in general, the more complicated a set of\n",
    "data is, the more likely it is to have multiple functions specific to that data, and the\n",
    "more useful it is to use a class with attributes and methods instead."
   ]
  },
  {
   "cell_type": "markdown",
   "id": "8a2e44a1",
   "metadata": {},
   "source": [
    "When making this decision, it also pays to consider how the class will be used. If\n",
    "we're only trying to calculate the perimeter of one polygon in the context of a much\n",
    "greater problem, using a function will probably be quickest to code and easier to use\n",
    "\"one time only\". On the other hand, if our program needs to manipulate numerous\n",
    "polygons in a wide variety of ways (calculate perimeter, area, intersection with other\n",
    "polygons, move or scale them, and so on), we have most certainly identified an\n",
    "object; one that needs to be extremely versatile."
   ]
  },
  {
   "cell_type": "markdown",
   "id": "ee81c030",
   "metadata": {},
   "source": [
    "Additionally, pay attention to the interaction between objects. Look for inheritance\n",
    "relationships; inheritance is impossible to model elegantly without classes, so make\n",
    "sure to use them."
   ]
  },
  {
   "cell_type": "markdown",
   "id": "eda8054a",
   "metadata": {},
   "source": [
    "## Adding behavior to class data with properties"
   ]
  },
  {
   "cell_type": "markdown",
   "id": "3ca9a3ed",
   "metadata": {},
   "source": [
    "Throughout this book, we've been focusing on the separation of behavior and data.\n",
    "This is very important in object-oriented programming, but we're about to see that,\n",
    "in Python, the distinction can be uncannily blurry. Python is very good at blurring\n",
    "distinctions; it doesn't exactly help us to \"think outside the box\". Rather, it teaches\n",
    "us to stop thinking about the box."
   ]
  },
  {
   "cell_type": "markdown",
   "id": "0f55636c",
   "metadata": {},
   "source": [
    "Before we get into the details, let's discuss some bad object-oriented theory. Many\n",
    "object-oriented languages (Java is the most notorious) teach us to never access\n",
    "attributes directly. They insist that we write attribute access like this"
   ]
  },
  {
   "cell_type": "code",
   "execution_count": 11,
   "id": "65eb0765",
   "metadata": {},
   "outputs": [],
   "source": [
    "class Color:\n",
    "    def __init__(self, rgb_value, name):\n",
    "        self._rgb_value = rgb_value\n",
    "        self._name = name\n",
    "    def set_name(self, name):\n",
    "        self._name = name\n",
    "    def get_name(self):\n",
    "        return self._name"
   ]
  },
  {
   "cell_type": "markdown",
   "id": "fb53c5f0",
   "metadata": {},
   "source": [
    "The variables are prefixed with an underscore to suggest that they are private (other\n",
    "languages would actually force them to be private). Then the get and set methods\n",
    "provide access to each variable. This class would be used in practice as follows:"
   ]
  },
  {
   "cell_type": "code",
   "execution_count": 12,
   "id": "4ec6d87e",
   "metadata": {},
   "outputs": [],
   "source": [
    "c = Color(\"#ff0000\", \"bright red\")"
   ]
  },
  {
   "cell_type": "code",
   "execution_count": 13,
   "id": "8f1b6937",
   "metadata": {},
   "outputs": [
    {
     "data": {
      "text/plain": [
       "'bright red'"
      ]
     },
     "execution_count": 13,
     "metadata": {},
     "output_type": "execute_result"
    }
   ],
   "source": [
    "c.get_name()"
   ]
  },
  {
   "cell_type": "code",
   "execution_count": 14,
   "id": "cefb3856",
   "metadata": {},
   "outputs": [],
   "source": [
    "c.set_name(\"red\")"
   ]
  },
  {
   "cell_type": "code",
   "execution_count": 15,
   "id": "1e13c1ee",
   "metadata": {},
   "outputs": [
    {
     "data": {
      "text/plain": [
       "'red'"
      ]
     },
     "execution_count": 15,
     "metadata": {},
     "output_type": "execute_result"
    }
   ],
   "source": [
    "c.get_name()"
   ]
  },
  {
   "cell_type": "markdown",
   "id": "aca9884d",
   "metadata": {},
   "source": [
    "This is not nearly as readable as the direct access version that Python favors:"
   ]
  },
  {
   "cell_type": "code",
   "execution_count": 16,
   "id": "3898d826",
   "metadata": {},
   "outputs": [],
   "source": [
    "class Color:\n",
    "    def __init__(self, rgb_value, name):\n",
    "        self.rgb_value = rgb_value\n",
    "        self.name = name"
   ]
  },
  {
   "cell_type": "code",
   "execution_count": 17,
   "id": "9c47757c",
   "metadata": {},
   "outputs": [
    {
     "name": "stdout",
     "output_type": "stream",
     "text": [
      "bright red\n"
     ]
    }
   ],
   "source": [
    "c = Color(\"#ff0000\", \"bright red\")\n",
    "print(c.name)\n",
    "c.name = \"red\""
   ]
  },
  {
   "cell_type": "code",
   "execution_count": 18,
   "id": "f69035e7",
   "metadata": {},
   "outputs": [
    {
     "name": "stdout",
     "output_type": "stream",
     "text": [
      "red\n"
     ]
    }
   ],
   "source": [
    "print(c.name)"
   ]
  },
  {
   "cell_type": "markdown",
   "id": "bd5f4ce3",
   "metadata": {},
   "source": [
    "So why would anyone insist upon the method-based syntax? Their reasoning is\n",
    "that someday we may want to add extra code when a value is set or retrieved.\n",
    "For example, we could decide to cache a value and return the cached value, or\n",
    "we might want to validate that the value is a suitable input."
   ]
  },
  {
   "cell_type": "markdown",
   "id": "9b23d062",
   "metadata": {},
   "source": [
    "In code, we could decide to change the set_name() method as follows:"
   ]
  },
  {
   "cell_type": "code",
   "execution_count": 19,
   "id": "97d4a7bb",
   "metadata": {},
   "outputs": [],
   "source": [
    "def set_name(self, name):\n",
    "    if not name:\n",
    "        raise Exception(\"Invalid Name\")\n",
    "    self._name = name"
   ]
  },
  {
   "cell_type": "markdown",
   "id": "bd2cfd83",
   "metadata": {},
   "source": [
    "Now, in Java and similar languages, if we had written our original code to do direct\n",
    "attribute access, and then later changed it to a method like the preceding one, we'd\n",
    "have a problem: anyone who had written code that accessed the attribute directly\n",
    "would now have to access the method. If they don't change the access style from\n",
    "attribute access to a function call, their code will be broken. The mantra in these\n",
    "languages is that we should never make public members private. This doesn't make\n",
    "much sense in Python since there isn't any real concept of private members!"
   ]
  },
  {
   "cell_type": "code",
   "execution_count": 20,
   "id": "e499b595",
   "metadata": {},
   "outputs": [],
   "source": [
    "class Color:\n",
    "    def __init__(self, rgb_value, name):\n",
    "        self.rgb_value = rgb_value\n",
    "        self._name = name\n",
    "    def _set_name(self, name):\n",
    "        if not name:\n",
    "            raise Exception(\"Invalid Name\")\n",
    "        self._name = name\n",
    "    def _get_name(self):\n",
    "        return self._name\n",
    "    name = property(_get_name, _set_name)"
   ]
  },
  {
   "cell_type": "markdown",
   "id": "68d92f2c",
   "metadata": {},
   "source": [
    "If we had started with the earlier non-method-based class, which set the name\n",
    "attribute directly, we could later change the code to look like the preceding one.\n",
    "We first change the name attribute into a (semi-) private _name attribute. Then\n",
    "we add two more (semi-) private methods to get and set that variable, doing our\n",
    "validation when we set it."
   ]
  },
  {
   "cell_type": "markdown",
   "id": "67598986",
   "metadata": {},
   "source": [
    "Finally, we have the property declaration at the bottom. This is the magic. It creates\n",
    "a new attribute on the Color class called name, which now replaces the previous name\n",
    "attribute. It sets this attribute to be a property, which calls the two methods we just\n",
    "created whenever the property is accessed or changed. This new version of the Color\n",
    "class can be used exactly the same way as the previous version, yet it now\n",
    "does validation when we set the name attribute:"
   ]
  },
  {
   "cell_type": "code",
   "execution_count": 21,
   "id": "4e7606bf",
   "metadata": {},
   "outputs": [
    {
     "name": "stdout",
     "output_type": "stream",
     "text": [
      "bright red\n"
     ]
    }
   ],
   "source": [
    "c = Color(\"#0000ff\", \"bright red\")\n",
    "print(c.name)"
   ]
  },
  {
   "cell_type": "code",
   "execution_count": 22,
   "id": "7f40d017",
   "metadata": {},
   "outputs": [
    {
     "name": "stdout",
     "output_type": "stream",
     "text": [
      "red\n"
     ]
    }
   ],
   "source": [
    "c.name = \"red\"\n",
    "print(c.name)"
   ]
  },
  {
   "cell_type": "code",
   "execution_count": 23,
   "id": "6276ac70",
   "metadata": {},
   "outputs": [
    {
     "ename": "Exception",
     "evalue": "Invalid Name",
     "output_type": "error",
     "traceback": [
      "\u001b[1;31m---------------------------------------------------------------------------\u001b[0m",
      "\u001b[1;31mException\u001b[0m                                 Traceback (most recent call last)",
      "\u001b[1;32m<ipython-input-23-d163a332e13e>\u001b[0m in \u001b[0;36m<module>\u001b[1;34m\u001b[0m\n\u001b[1;32m----> 1\u001b[1;33m \u001b[0mc\u001b[0m\u001b[1;33m.\u001b[0m\u001b[0mname\u001b[0m \u001b[1;33m=\u001b[0m \u001b[1;34m\"\"\u001b[0m\u001b[1;33m\u001b[0m\u001b[1;33m\u001b[0m\u001b[0m\n\u001b[0m",
      "\u001b[1;32m<ipython-input-20-0ad46f84e76e>\u001b[0m in \u001b[0;36m_set_name\u001b[1;34m(self, name)\u001b[0m\n\u001b[0;32m      5\u001b[0m     \u001b[1;32mdef\u001b[0m \u001b[0m_set_name\u001b[0m\u001b[1;33m(\u001b[0m\u001b[0mself\u001b[0m\u001b[1;33m,\u001b[0m \u001b[0mname\u001b[0m\u001b[1;33m)\u001b[0m\u001b[1;33m:\u001b[0m\u001b[1;33m\u001b[0m\u001b[1;33m\u001b[0m\u001b[0m\n\u001b[0;32m      6\u001b[0m         \u001b[1;32mif\u001b[0m \u001b[1;32mnot\u001b[0m \u001b[0mname\u001b[0m\u001b[1;33m:\u001b[0m\u001b[1;33m\u001b[0m\u001b[1;33m\u001b[0m\u001b[0m\n\u001b[1;32m----> 7\u001b[1;33m             \u001b[1;32mraise\u001b[0m \u001b[0mException\u001b[0m\u001b[1;33m(\u001b[0m\u001b[1;34m\"Invalid Name\"\u001b[0m\u001b[1;33m)\u001b[0m\u001b[1;33m\u001b[0m\u001b[1;33m\u001b[0m\u001b[0m\n\u001b[0m\u001b[0;32m      8\u001b[0m         \u001b[0mself\u001b[0m\u001b[1;33m.\u001b[0m\u001b[0m_name\u001b[0m \u001b[1;33m=\u001b[0m \u001b[0mname\u001b[0m\u001b[1;33m\u001b[0m\u001b[1;33m\u001b[0m\u001b[0m\n\u001b[0;32m      9\u001b[0m     \u001b[1;32mdef\u001b[0m \u001b[0m_get_name\u001b[0m\u001b[1;33m(\u001b[0m\u001b[0mself\u001b[0m\u001b[1;33m)\u001b[0m\u001b[1;33m:\u001b[0m\u001b[1;33m\u001b[0m\u001b[1;33m\u001b[0m\u001b[0m\n",
      "\u001b[1;31mException\u001b[0m: Invalid Name"
     ]
    }
   ],
   "source": [
    "c.name = \"\""
   ]
  },
  {
   "cell_type": "markdown",
   "id": "909dc49d",
   "metadata": {},
   "source": [
    "Bear in mind that even with the name property, the previous code is not 100 percent\n",
    "safe. People can still access the _name attribute directly and set it to an empty\n",
    "string if they want to. But if they access a variable we've explicitly marked with\n",
    "an underscore to suggest it is private, they're the ones that have to deal with the\n",
    "consequences, not us."
   ]
  },
  {
   "cell_type": "markdown",
   "id": "e2c3f1f2",
   "metadata": {},
   "source": [
    "## Properties in detail"
   ]
  },
  {
   "cell_type": "markdown",
   "id": "98e4d22d",
   "metadata": {},
   "source": [
    "Think of the property function as returning an object that proxies any requests to set\n",
    "or access the attribute value through the methods we have specified. The property\n",
    "keyword is like a constructor for such an object, and that object is set as the public\n",
    "facing member for the given attribute."
   ]
  },
  {
   "cell_type": "markdown",
   "id": "3416721a",
   "metadata": {},
   "source": [
    "This property constructor can actually accept two additional arguments, a deletion\n",
    "function and a docstring for the property. The delete function is rarely supplied in\n",
    "practice, but it can be useful for logging that a value has been deleted, or possibly\n",
    "to veto deleting if we have reason to do so. The docstring is just a string describing\n",
    "what the property does, no different from the docstrings we discussed in Chapter 2,\n",
    "Objects in Python. If we do not supply this parameter, the docstring will instead be\n",
    "copied from the docstring for the first argument: the getter method. Here is a silly\n",
    "example that simply states whenever any of the methods are called:"
   ]
  },
  {
   "cell_type": "code",
   "execution_count": null,
   "id": "22d244d1",
   "metadata": {},
   "outputs": [],
   "source": [
    "class Silly:\n",
    "    def _get_silly(self):\n",
    "        print(\"You are getting silly\")\n",
    "        return self._silly\n",
    "    def _set_silly(self, value):\n",
    "        print(\"You are making silly {}\".format(value))\n",
    "        self._silly = value\n",
    "    def _del_silly(self):\n",
    "        print(\"Whoah, you killed silly!\")\n",
    "        del self._silly\n",
    "    silly = property(_get_silly, _set_silly,_del_silly, \"This is a silly property\")"
   ]
  },
  {
   "cell_type": "code",
   "execution_count": null,
   "id": "91b594fe",
   "metadata": {},
   "outputs": [],
   "source": [
    "s = Silly()\n",
    "s.silly = \"funny\""
   ]
  },
  {
   "cell_type": "code",
   "execution_count": null,
   "id": "5fd3c9bc",
   "metadata": {},
   "outputs": [],
   "source": [
    "s.silly"
   ]
  },
  {
   "cell_type": "code",
   "execution_count": null,
   "id": "0d3dd026",
   "metadata": {},
   "outputs": [],
   "source": [
    "del s.silly"
   ]
  },
  {
   "cell_type": "code",
   "execution_count": null,
   "id": "1e9b4da7",
   "metadata": {},
   "outputs": [],
   "source": [
    "help(Silly)"
   ]
  },
  {
   "cell_type": "markdown",
   "id": "96260910",
   "metadata": {},
   "source": [
    "Once again, everything is working as we planned. In practice, properties are normally\n",
    "only defined with the first two parameters: the getter and setter functions. If we\n",
    "want to supply a docstring for a property, we can define it on the getter function;\n",
    "the property proxy will copy it into its own docstring. The deletion function is often\n",
    "left empty because object attributes are rarely deleted. If a coder does try to delete\n",
    "a property that doesn't have a deletion function specified, it will raise an exception.\n",
    "Therefore, if there is a legitimate reason to delete our property, we should supply\n",
    "that function."
   ]
  },
  {
   "cell_type": "markdown",
   "id": "a699ffa7",
   "metadata": {},
   "source": [
    "## Decorators – another way to create properties"
   ]
  },
  {
   "cell_type": "markdown",
   "id": "0b229a90",
   "metadata": {},
   "source": [
    "The property function can be used with the decorator syntax to turn a get function\n",
    "into a property:"
   ]
  },
  {
   "cell_type": "code",
   "execution_count": null,
   "id": "3f5570fb",
   "metadata": {},
   "outputs": [],
   "source": [
    "class Foo:\n",
    "    @property\n",
    "    def foo(self):\n",
    "        return \"bar\""
   ]
  },
  {
   "cell_type": "markdown",
   "id": "a7674257",
   "metadata": {},
   "source": [
    "This applies the property function as a decorator, and is equivalent to the previous\n",
    "foo = property(foo) syntax"
   ]
  },
  {
   "cell_type": "markdown",
   "id": "1403f920",
   "metadata": {},
   "source": [
    "The main difference, from a readability perspective,\n",
    "is that we get to mark the foo function as a property at the top of the method, instead\n",
    "of after it is defined, where it can be easily overlooked. It also means we don't have\n",
    "to create private methods with underscore prefixes just to define a property."
   ]
  },
  {
   "cell_type": "markdown",
   "id": "f0a0c98b",
   "metadata": {},
   "source": [
    "Going one step further, we can specify a setter function for the new property\n",
    "as follows:"
   ]
  },
  {
   "cell_type": "code",
   "execution_count": null,
   "id": "683a145f",
   "metadata": {},
   "outputs": [],
   "source": [
    "class Foo:\n",
    "    @property\n",
    "    def foo(self):\n",
    "        return self._foo\n",
    "    @foo.setter\n",
    "    def foo(self, value):\n",
    "        self._foo = value"
   ]
  },
  {
   "cell_type": "markdown",
   "id": "0f35d8e5",
   "metadata": {},
   "source": [
    "This syntax looks pretty odd, although the intent is obvious. First, we decorate the\n",
    "foo method as a getter. Then, we decorate a second method with exactly the same\n",
    "name by applying the setter attribute of the originally decorated foo method! The\n",
    "property function returns an object; this object always comes with its own setter\n",
    "attribute, which can then be applied as a decorator to other functions. Using the same\n",
    "name for the get and set methods is not required, but it does help group the multiple\n",
    "methods that access one property together."
   ]
  },
  {
   "cell_type": "markdown",
   "id": "336eb629",
   "metadata": {},
   "source": [
    "We can also specify a deletion function with @foo.deleter. We cannot specify a\n",
    "docstring using property decorators, so we need to rely on the property copying\n",
    "the docstring from the initial getter method."
   ]
  },
  {
   "cell_type": "markdown",
   "id": "9ba2e800",
   "metadata": {},
   "source": [
    "Here's our previous Silly class rewritten to use property as a decorator:"
   ]
  },
  {
   "cell_type": "code",
   "execution_count": null,
   "id": "33ff40c6",
   "metadata": {},
   "outputs": [],
   "source": [
    "class Silly:\n",
    "    @property\n",
    "    def silly(self):\n",
    "        \"This is a silly property\"\n",
    "        print(\"You are getting silly\")\n",
    "        return self._silly\n",
    "    @silly.setter\n",
    "    def silly(self, value):\n",
    "        print(\"You are making silly {}\".format(value))\n",
    "        self._silly = value\n",
    "    @silly.deleter\n",
    "    def silly(self):\n",
    "        print(\"Whoah, you killed silly!\")\n",
    "        del self._silly"
   ]
  },
  {
   "cell_type": "markdown",
   "id": "174904d8",
   "metadata": {},
   "source": [
    "This class operates exactly the same as our earlier version, including the help text.\n",
    "You can use whichever syntax you feel is more readable and elegant."
   ]
  },
  {
   "cell_type": "markdown",
   "id": "3bff5c58",
   "metadata": {},
   "source": [
    "## Deciding when to use properties"
   ]
  },
  {
   "cell_type": "markdown",
   "id": "cceddcbf",
   "metadata": {},
   "source": [
    "Technically, in Python, data, properties, and methods are all attributes on a class"
   ]
  },
  {
   "cell_type": "markdown",
   "id": "da4e7120",
   "metadata": {},
   "source": [
    "The fact that methods are just callable attributes, and properties are just customizable\n",
    "attributes can help us make this decision. Methods should typically represent actions;\n",
    "things that can be done to, or performed by, the object. When you call a method, even\n",
    "with only one argument, it should do something. Method names are generally verbs."
   ]
  },
  {
   "cell_type": "markdown",
   "id": "2cda0cda",
   "metadata": {},
   "source": [
    "Once confirming that an attribute is not an action, we need to decide between\n",
    "standard data attributes and properties. In general, always use a standard attribute\n",
    "until you need to control access to that property in some way. In either case, your\n",
    "attribute is usually a noun. The only difference between an attribute and a property\n",
    "is that we can invoke custom actions automatically when a property is retrieved, set,\n",
    "or deleted."
   ]
  },
  {
   "cell_type": "markdown",
   "id": "ecf2d4f1",
   "metadata": {},
   "source": [
    "Let's look at a more realistic example. A common need for custom behavior is caching\n",
    "a value that is difficult to calculate or expensive to look up (requiring, for example,\n",
    "a network request or database query). The goal is to store the value locally to avoid\n",
    "repeated calls to the expensive calculation."
   ]
  },
  {
   "cell_type": "markdown",
   "id": "aaaa3301",
   "metadata": {},
   "source": [
    "We can do this with a custom getter on the property. The first time the value is\n",
    "retrieved, we perform the lookup or calculation. Then we could locally cache the\n",
    "value as a private attribute on our object (or in dedicated caching software), and the\n",
    "next time the value is requested, we return the stored data. Here's how we might\n",
    "cache a web page:"
   ]
  },
  {
   "cell_type": "code",
   "execution_count": null,
   "id": "37b2810b",
   "metadata": {},
   "outputs": [],
   "source": [
    "from urllib.request import urlopen\n",
    "class WebPage:\n",
    "    def __init__(self, url):\n",
    "        self.url = url\n",
    "        self._content = None\n",
    "    @property\n",
    "    def content(self):\n",
    "        if not self._content:\n",
    "            print(\"Retrieving New Page...\")\n",
    "            self._content = urlopen(self.url).read()\n",
    "        return self._content"
   ]
  },
  {
   "cell_type": "markdown",
   "id": "4b07ee4b",
   "metadata": {},
   "source": [
    "We can test this code to see that the page is only retrieved once:"
   ]
  },
  {
   "cell_type": "code",
   "execution_count": null,
   "id": "64304681",
   "metadata": {},
   "outputs": [],
   "source": [
    "import time\n",
    "webpage = WebPage(\"http://ccphillips.net/\")"
   ]
  },
  {
   "cell_type": "code",
   "execution_count": null,
   "id": "26616e39",
   "metadata": {},
   "outputs": [],
   "source": [
    "webpage.url"
   ]
  },
  {
   "cell_type": "code",
   "execution_count": null,
   "id": "736eb2be",
   "metadata": {},
   "outputs": [],
   "source": [
    "now = time.time()"
   ]
  },
  {
   "cell_type": "code",
   "execution_count": null,
   "id": "d1c76bbf",
   "metadata": {},
   "outputs": [],
   "source": [
    "content1 = webpage.content"
   ]
  },
  {
   "cell_type": "code",
   "execution_count": null,
   "id": "1351b8f5",
   "metadata": {},
   "outputs": [],
   "source": [
    "time.time() - now"
   ]
  },
  {
   "cell_type": "code",
   "execution_count": null,
   "id": "5684f6e3",
   "metadata": {},
   "outputs": [],
   "source": [
    "now = time.time()"
   ]
  },
  {
   "cell_type": "code",
   "execution_count": null,
   "id": "7abeae9a",
   "metadata": {},
   "outputs": [],
   "source": [
    "content2 = webpage.content"
   ]
  },
  {
   "cell_type": "code",
   "execution_count": null,
   "id": "e11751ea",
   "metadata": {},
   "outputs": [],
   "source": [
    "time.time() - now"
   ]
  },
  {
   "cell_type": "code",
   "execution_count": null,
   "id": "d360a986",
   "metadata": {},
   "outputs": [],
   "source": [
    "content2 == content1"
   ]
  },
  {
   "cell_type": "markdown",
   "id": "8627e1fd",
   "metadata": {},
   "source": [
    "I was on an awful satellite connection when I originally tested this code and it\n",
    "took 20 seconds the first time I loaded the content. The second time, I got the result\n",
    "in 2 seconds (which is really just the amount of time it took to type the lines into\n",
    "the interpreter)."
   ]
  },
  {
   "cell_type": "markdown",
   "id": "57a6d0a0",
   "metadata": {},
   "source": [
    "Custom getters are also useful for attributes that need to be calculated on the fly,\n",
    "based on other object attributes. For example, we might want to calculate the\n",
    "average for a list of integers:"
   ]
  },
  {
   "cell_type": "code",
   "execution_count": null,
   "id": "43fe8a6c",
   "metadata": {},
   "outputs": [],
   "source": [
    "class AverageList(list):\n",
    "    @property\n",
    "    def average(self):\n",
    "        return sum(self) / len(self)"
   ]
  },
  {
   "cell_type": "markdown",
   "id": "b2be4294",
   "metadata": {},
   "source": [
    "This very simple class inherits from list, so we get list-like behavior for free.\n",
    "We just add a property to the class, and presto, our list can have an average:"
   ]
  },
  {
   "cell_type": "code",
   "execution_count": null,
   "id": "693e7087",
   "metadata": {},
   "outputs": [],
   "source": [
    "a = AverageList([1,2,3,4])\n",
    "a.average"
   ]
  },
  {
   "cell_type": "markdown",
   "id": "a01f847b",
   "metadata": {},
   "source": [
    "Of course, we could have made this a method instead, but then we should call it\n",
    "calculate_average(), since methods represent actions. But a property called\n",
    "average is more suitable, both easier to type, and easier to read."
   ]
  },
  {
   "cell_type": "markdown",
   "id": "0f2faed1",
   "metadata": {},
   "source": [
    "Custom setters are useful for validation, as we've already seen, but they can also\n",
    "be used to proxy a value to another location. For example, we could add a content\n",
    "setter to the WebPage class that automatically logs into our web server and uploads\n",
    "a new page whenever the value is set."
   ]
  },
  {
   "cell_type": "markdown",
   "id": "cb808577",
   "metadata": {},
   "source": [
    "## Manager objects"
   ]
  },
  {
   "cell_type": "markdown",
   "id": "bdb6f0b5",
   "metadata": {},
   "source": [
    "Now, we'll take a\n",
    "look at designing higher-level objects: the kinds of objects that manage other objects.\n",
    "The objects that tie everything together."
   ]
  },
  {
   "cell_type": "markdown",
   "id": "ff881ea8",
   "metadata": {},
   "source": [
    "The difference between these objects and most of the examples we've seen so far is\n",
    "that our examples tend to represent concrete ideas. Management objects are more\n",
    "like office managers; they don't do the actual \"visible\" work out on the floor, but\n",
    "without them, there would be no communication between departments and nobody\n",
    "would know what they are supposed to do (although, this can be true anyway if the\n",
    "organization is badly managed!). Analogously, the attributes on a management class\n",
    "tend to refer to other objects that do the \"visible\" work; the behaviors on such a class\n",
    "delegate to those other classes at the right time, and pass messages between them."
   ]
  },
  {
   "cell_type": "markdown",
   "id": "13ceb901",
   "metadata": {},
   "source": [
    "As an example, we'll write a program that does a find and replace action for text files\n",
    "stored in a compressed ZIP file. We'll need objects to represent the ZIP file and each\n",
    "individual text file (luckily, we don't have to write these classes, they're available in\n",
    "the Python standard library). The manager object will be responsible for ensuring\n",
    "three steps occur in order:     \n",
    "        \n",
    "1. Unzipping the compressed file.    \n",
    "    \n",
    "2. Performing the find and replace action.    \n",
    "     \n",
    "3. Zipping up the new files."
   ]
  },
  {
   "cell_type": "markdown",
   "id": "5eb32cb3",
   "metadata": {},
   "source": [
    "The class is initialized with the .zip filename and search and replace strings. We\n",
    "create a temporary directory to store the unzipped files in, so that the folder stays\n",
    "clean. The Python 3.4 pathlib library helps out with file and directory manipulation.\n",
    "We'll learn more about that in Chapter 8, Strings and Serialization, but the interface\n",
    "should be pretty clear in the following example:"
   ]
  },
  {
   "cell_type": "code",
   "execution_count": 24,
   "id": "8b5103eb",
   "metadata": {},
   "outputs": [],
   "source": [
    "import sys\n",
    "import shutil\n",
    "import zipfile\n",
    "class ZipReplace:\n",
    "    def __init__(self, filename, search_string, replace_string):\n",
    "        self.filename = filename\n",
    "        self.search_string = search_string\n",
    "        self.replace_string = replace_string\n",
    "        self.temp_directory = Path(\"unzipped-{}\".format(filename))"
   ]
  },
  {
   "cell_type": "markdown",
   "id": "133130ca",
   "metadata": {},
   "source": [
    "Then, we create an overall \"manager\" method for each of the three steps. This\n",
    "method delegates responsibility to other methods. Obviously, we could do all\n",
    "three steps in one method, or indeed, in one script without ever creating an object.\n",
    "There are several advantages to separating the three steps:     \n",
    "        \n",
    "• Readability: The code for each step is in a self-contained unit that is easy to\n",
    "read and understand. The method names describe what the method does, and\n",
    "less additional documentation is required to understand what is going on.    \n",
    "    \n",
    "• Extensibility: If a subclass wanted to use compressed TAR files instead of\n",
    "ZIP files, it could override the zip and unzip methods without having to\n",
    "duplicate the find_replace method.     \n",
    "     \n",
    "• Partitioning: An external class could create an instance of this class and\n",
    "call the find_replace method directly on some folder without having to\n",
    "zip the content."
   ]
  },
  {
   "cell_type": "code",
   "execution_count": 30,
   "id": "162442c1",
   "metadata": {},
   "outputs": [],
   "source": [
    "import sys\n",
    "import shutil\n",
    "import zipfile\n",
    "class ZipReplace:\n",
    "    def __init__(self, filename, search_string, replace_string):\n",
    "        self.filename = filename\n",
    "        self.search_string = search_string\n",
    "        self.replace_string = replace_string\n",
    "        self.temp_directory = Path(\"unzipped-{}\".format(filename))\n",
    "\n",
    "    def zip_find_replace(self):\n",
    "        self.unzip_files()\n",
    "        self.find_replace()\n",
    "        self.zip_files()\n",
    "    def unzip_files(self):\n",
    "        self.temp_directory.mkdir()\n",
    "        with zipfile.ZipFile(self.filename) as zip:\n",
    "            zip.extractall(str(self.temp_directory))\n",
    "    def find_replace(self):\n",
    "        for filename in self.temp_directory.iterdir():\n",
    "            with filename.open() as file:\n",
    "                contents = file.read()\n",
    "            contents = contents.replace(self.search_string, self.replace_string)\n",
    "            with filename.open(\"w\") as file:\n",
    "                file.write(contents)\n",
    "    def zip_files(self):\n",
    "        with zipfile.ZipFile(self.filename, 'w') as file:\n",
    "            for filename in self.temp_directory.iterdir():\n",
    "                file.write(str(filename), filename.name)\n",
    "        shutil.rmtree(str(self.temp_directory))"
   ]
  },
  {
   "cell_type": "code",
   "execution_count": 31,
   "id": "b49d664c",
   "metadata": {},
   "outputs": [
    {
     "ename": "TypeError",
     "evalue": "__init__() missing 1 required positional argument: 'replace_string'",
     "output_type": "error",
     "traceback": [
      "\u001b[1;31m---------------------------------------------------------------------------\u001b[0m",
      "\u001b[1;31mTypeError\u001b[0m                                 Traceback (most recent call last)",
      "\u001b[1;32m<ipython-input-31-0d0278ec53da>\u001b[0m in \u001b[0;36m<module>\u001b[1;34m\u001b[0m\n\u001b[0;32m      1\u001b[0m \u001b[1;32mif\u001b[0m \u001b[0m__name__\u001b[0m \u001b[1;33m==\u001b[0m \u001b[1;34m\"__main__\"\u001b[0m\u001b[1;33m:\u001b[0m\u001b[1;33m\u001b[0m\u001b[1;33m\u001b[0m\u001b[0m\n\u001b[1;32m----> 2\u001b[1;33m     \u001b[0mZipReplace\u001b[0m\u001b[1;33m(\u001b[0m\u001b[1;33m*\u001b[0m\u001b[0msys\u001b[0m\u001b[1;33m.\u001b[0m\u001b[0margv\u001b[0m\u001b[1;33m[\u001b[0m\u001b[1;36m1\u001b[0m\u001b[1;33m:\u001b[0m\u001b[1;36m4\u001b[0m\u001b[1;33m]\u001b[0m\u001b[1;33m)\u001b[0m\u001b[1;33m.\u001b[0m\u001b[0mzip_find_replace\u001b[0m\u001b[1;33m(\u001b[0m\u001b[1;33m)\u001b[0m\u001b[1;33m\u001b[0m\u001b[1;33m\u001b[0m\u001b[0m\n\u001b[0m",
      "\u001b[1;31mTypeError\u001b[0m: __init__() missing 1 required positional argument: 'replace_string'"
     ]
    }
   ],
   "source": [
    "if __name__ == \"__main__\":\n",
    "    ZipReplace(*sys.argv[1:4]).zip_find_replace()"
   ]
  },
  {
   "cell_type": "code",
   "execution_count": 32,
   "id": "f7b99042",
   "metadata": {},
   "outputs": [],
   "source": [
    "# check zipsearch.py\n",
    "# and run from the terminal:\n",
    "#     python zipsearch.py hello.zip hello hi \n",
    "    "
   ]
  },
  {
   "cell_type": "markdown",
   "id": "1a3f9785",
   "metadata": {},
   "source": [
    "## Case study"
   ]
  },
  {
   "cell_type": "markdown",
   "id": "6d501b01",
   "metadata": {},
   "source": [
    "For this case study, we'll try to delve further into the question, \"when should I choose\n",
    "an object versus a built-in type?\" We'll be modeling a Document class that might be\n",
    "used in a text editor or word processor. What objects, functions, or properties should\n",
    "it have?      \n",
    "     \n",
    "We might start with a str for the Document contents, but in Python, strings aren't\n",
    "mutable (able to be changed). Once a str is defined, it is forever. We can't insert\n",
    "a character into it or remove one without creating a brand new string object. That\n",
    "would be leaving a lot of str objects taking up memory until Python's garbage\n",
    "collector sees fit to clean up behind us.     \n",
    "     \n",
    "So, instead of a string, we'll use a list of characters, which we can modify at will. In\n",
    "addition, a Document class would need to know the current cursor position within\n",
    "the list, and should probably also store a filename for the document."
   ]
  },
  {
   "cell_type": "markdown",
   "id": "b735037b",
   "metadata": {},
   "source": [
    "Real text editors use a binary-tree based data structure called a\n",
    "rope to model their document contents. This book's title isn't\n",
    "\"advanced data structures\", so if you're interested in learning more\n",
    "about this fascinating topic, you may want to search the web for the\n",
    "rope data structure"
   ]
  },
  {
   "cell_type": "markdown",
   "id": "ceb08fba",
   "metadata": {},
   "source": [
    "Now, what methods should it have? There are a lot of things we might want to\n",
    "do to a text document, including inserting, deleting, and selecting characters, cut,\n",
    "copy, paste, the selection, and saving or closing the document. It looks like there\n",
    "are copious amounts of both data and behavior, so it makes sense to put all this\n",
    "stuff into its own Document class.      \n",
    "     \n",
    "A pertinent question is: should this class be composed of a bunch of basic Python\n",
    "objects such as str filenames, int cursor positions, and a list of characters? Or\n",
    "should some or all of those things be specially defined objects in their own right?\n",
    "What about individual lines and characters, do they need to have classes of their own"
   ]
  },
  {
   "cell_type": "code",
   "execution_count": 33,
   "id": "f7a0f532",
   "metadata": {},
   "outputs": [],
   "source": [
    "class Document:\n",
    "    def __init__(self):\n",
    "        self.characters = []\n",
    "        self.cursor = 0\n",
    "        self.filename = ''\n",
    "    def insert(self, character):\n",
    "        self.characters.insert(self.cursor, character)\n",
    "        self.cursor += 1\n",
    "    def delete(self):\n",
    "        del self.characters[self.cursor]\n",
    "    def save(self):\n",
    "        with open(self.filename, 'w') as f:\n",
    "            f.write(''.join(self.characters))\n",
    "    def forward(self):\n",
    "        self.cursor += 1\n",
    "    def back(self):\n",
    "        self.cursor -= 1"
   ]
  },
  {
   "cell_type": "code",
   "execution_count": 34,
   "id": "60689d6b",
   "metadata": {},
   "outputs": [],
   "source": [
    "doc = Document()"
   ]
  },
  {
   "cell_type": "code",
   "execution_count": 35,
   "id": "d13a5799",
   "metadata": {},
   "outputs": [],
   "source": [
    "doc.filename = \"test_document\""
   ]
  },
  {
   "cell_type": "code",
   "execution_count": 36,
   "id": "08f1c061",
   "metadata": {},
   "outputs": [],
   "source": [
    "doc.insert('h')\n",
    "doc.insert('e')\n",
    "doc.insert('l')\n",
    "doc.insert('l')\n",
    "doc.insert('o')"
   ]
  },
  {
   "cell_type": "code",
   "execution_count": 37,
   "id": "2449e614",
   "metadata": {},
   "outputs": [
    {
     "data": {
      "text/plain": [
       "'hello'"
      ]
     },
     "execution_count": 37,
     "metadata": {},
     "output_type": "execute_result"
    }
   ],
   "source": [
    "\"\".join(doc.characters)"
   ]
  },
  {
   "cell_type": "code",
   "execution_count": 38,
   "id": "80f23a7b",
   "metadata": {},
   "outputs": [],
   "source": [
    "doc.back()\n",
    "doc.delete()\n",
    "doc.insert('p')"
   ]
  },
  {
   "cell_type": "code",
   "execution_count": 39,
   "id": "bc56aa29",
   "metadata": {},
   "outputs": [
    {
     "data": {
      "text/plain": [
       "'hellp'"
      ]
     },
     "execution_count": 39,
     "metadata": {},
     "output_type": "execute_result"
    }
   ],
   "source": [
    "\"\".join(doc.characters)"
   ]
  },
  {
   "cell_type": "markdown",
   "id": "73b8ba32",
   "metadata": {},
   "source": [
    "Looks like it's working. We could connect a keyboard's letter and arrow keys to these\n",
    "methods and the document would track everything just fine."
   ]
  },
  {
   "cell_type": "markdown",
   "id": "09c001f2",
   "metadata": {},
   "source": [
    "But what if we want to connect more than just arrow keys. What if we want to connect\n",
    "the Home and End keys as well? We could add more methods to the Document class\n",
    "that search forward or backwards for newline characters (in Python, a newline\n",
    "character, or \\n represents the end of one line and the beginning of a new one) in\n",
    "the string and jump to them, but if we did that for every possible movement action\n",
    "(move by words, move by sentences, Page Up, Page Down, end of line, beginning of\n",
    "whitespace, and more), the class would be huge. Maybe it would be better to put those\n",
    "methods on a separate object. So, let us turn the cursor attribute into an object that is\n",
    "aware of its position and can manipulate that position. We can move the forward and\n",
    "back methods to that class, and add a couple more for the Home and End keys:"
   ]
  },
  {
   "cell_type": "code",
   "execution_count": 40,
   "id": "d47ffd39",
   "metadata": {},
   "outputs": [],
   "source": [
    "class Cursor:\n",
    "    def __init__(self, document):\n",
    "        self.document = document\n",
    "        self.position = 0\n",
    "    def forward(self):\n",
    "        self.position += 1\n",
    "    def back(self):\n",
    "        self.position -= 1\n",
    "    def home(self):\n",
    "        while self.document.characters[self.position-1] != '\\n':\n",
    "            self.position -= 1\n",
    "            if self.position == 0:\n",
    "                # Got to beginning of file before newline\n",
    "                break\n",
    "    def end(self):\n",
    "        while self.position < len(self.document.characters) and self.document.characters[self.position] != '\\n':\n",
    "            self.position += 1"
   ]
  },
  {
   "cell_type": "markdown",
   "id": "3829d5f0",
   "metadata": {},
   "source": [
    "This class takes the document as an initialization parameter so the methods have\n",
    "access to the content of the document's character list. It then provides simple\n",
    "methods for moving backwards and forwards, as before, and for moving to the\n",
    "home and end positions."
   ]
  },
  {
   "cell_type": "markdown",
   "id": "20232aac",
   "metadata": {},
   "source": [
    "This code is not very safe. You can very easily move past the ending\n",
    "position, and if you try to go home on an empty file, it will crash.\n",
    "These examples are kept short to make them readable, but that doesn't\n",
    "mean they are defensive!"
   ]
  },
  {
   "cell_type": "markdown",
   "id": "0168e97f",
   "metadata": {},
   "source": [
    "The Document class itself is hardly changed, except for removing the two methods\n",
    "that were moved to the Cursor class:"
   ]
  },
  {
   "cell_type": "code",
   "execution_count": 47,
   "id": "53067232",
   "metadata": {},
   "outputs": [],
   "source": [
    "class Document:\n",
    "    def __init__(self):\n",
    "        self.characters = []\n",
    "        self.cursor = Cursor(self)\n",
    "        self.filename = ''\n",
    "    def insert(self, character):\n",
    "        self.characters.insert(self.cursor.position,character)\n",
    "        self.cursor.forward()\n",
    "    def delete(self):\n",
    "        del self.characters[self.cursor.position]\n",
    "    def save(self):\n",
    "        f = open(self.filename, 'w')\n",
    "        f.write(''.join(self.characters))\n",
    "        f.close()\n",
    "    @property\n",
    "    def string(self):\n",
    "        return \"\".join(self.characters)"
   ]
  },
  {
   "cell_type": "markdown",
   "id": "4a4a1c76",
   "metadata": {},
   "source": [
    "We simply updated anything that accessed the old cursor integer to use the new object\n",
    "instead. We can test that the home method is really moving to the newline character:"
   ]
  },
  {
   "cell_type": "code",
   "execution_count": 48,
   "id": "7049c15f",
   "metadata": {},
   "outputs": [
    {
     "name": "stdout",
     "output_type": "stream",
     "text": [
      "hello\n",
      "*world\n"
     ]
    }
   ],
   "source": [
    "d = Document()\n",
    "d.insert('h')\n",
    "d.insert('e')\n",
    "d.insert('l')\n",
    "d.insert('l')\n",
    "d.insert('o')\n",
    "d.insert('\\n')\n",
    "d.insert('w')\n",
    "d.insert('o')\n",
    "d.insert('r')\n",
    "d.insert('l')\n",
    "d.insert('d')\n",
    "d.cursor.home()\n",
    "d.insert(\"*\")\n",
    "print(\"\".join(d.characters))"
   ]
  },
  {
   "cell_type": "markdown",
   "id": "5c52868c",
   "metadata": {},
   "source": [
    "Now, since we've been using that string join function a lot (to concatenate the\n",
    "characters so we can see the actual document contents), we can add a property\n",
    "to the Document class to give us the complete string:"
   ]
  },
  {
   "cell_type": "code",
   "execution_count": 49,
   "id": "f18d001d",
   "metadata": {},
   "outputs": [
    {
     "name": "stdout",
     "output_type": "stream",
     "text": [
      "hello\n",
      "*world\n"
     ]
    }
   ],
   "source": [
    "print(d.string)"
   ]
  },
  {
   "cell_type": "markdown",
   "id": "3c1d47e5",
   "metadata": {},
   "source": [
    "This framework is simple (though it might be a bit time consuming!) to extend to\n",
    "create and edit a complete plaintext document. Now, let's extend it to work for rich\n",
    "text; text that can have bold, underlined, or italic characters.    \n",
    "     \n",
    "There are two ways we could process this; the first is to insert \"fake\" characters into\n",
    "our character list that act like instructions, such as \"bold characters until you find a\n",
    "stop bold character\". The second is to add information to each character indicating\n",
    "what formatting it should have. While the former method is probably more common,\n",
    "we'll implement the latter solution. To do that, we're obviously going to need a class\n",
    "for characters. This class will have an attribute representing the character, as well as\n",
    "three Boolean attributes representing whether it is bold, italic, or underlined.\n",
    "     \n",
    "       \n",
    "Hmm, wait! Is this Character class going to have any methods? If not, maybe we\n",
    "should use one of the many Python data structures instead; a tuple or named tuple\n",
    "would probably be sufficient. Are there any actions that we would want to do to,\n",
    "or invoke on a character?"
   ]
  },
  {
   "cell_type": "markdown",
   "id": "65153d4b",
   "metadata": {},
   "source": [
    "What sorts of methods are we talking about? There's startswith, strip, find,\n",
    "lower, and many more. Most of these methods expect to be working on strings\n",
    "that contain more than one character. In contrast, if Character were to subclass str,\n",
    "we'd probably be wise to override __init__ to raise an exception if a multi-character\n",
    "string were supplied. Since all those methods we'd get for free wouldn't really apply\n",
    "to our Character class, it seems we needn't use inheritance, after all.    \n",
    "     \n",
    "      \n",
    "This brings us back to our original question; should Character even be a class?\n",
    "There is a very important special method on the object class that we can take\n",
    "advantage of to represent our characters. This method, called __str__ (two\n",
    "underscores, like __init__), is used in string manipulation functions like print\n",
    "and the str constructor to convert any class to a string. The default implementation\n",
    "does some boring stuff like printing the name of the module and class and its\n",
    "address in memory. But if we override it, we can make it print whatever we like.\n",
    "For our implementation, we could make it prefix characters with special characters\n",
    "to represent whether they are bold, italic, or underlined. So, we will create a class\n",
    "to represent a character, and here it is:"
   ]
  },
  {
   "cell_type": "code",
   "execution_count": 50,
   "id": "d6a23edf",
   "metadata": {},
   "outputs": [],
   "source": [
    "class Character:\n",
    "    def __init__(self, character,bold=False, italic=False, underline=False):\n",
    "        assert len(character) == 1\n",
    "        self.character = character\n",
    "        self.bold = bold\n",
    "        self.italic = italic\n",
    "        self.underline = underline\n",
    "    def __str__(self):\n",
    "        bold = \"*\" if self.bold else ''\n",
    "        italic = \"/\" if self.italic else ''\n",
    "        underline = \"_\" if self.underline else ''\n",
    "        return bold + italic + underline + self.character"
   ]
  },
  {
   "cell_type": "markdown",
   "id": "8db677b5",
   "metadata": {},
   "source": [
    "This class allows us to create characters and prefix them with a special character\n",
    "when the str() function is applied to them."
   ]
  },
  {
   "cell_type": "code",
   "execution_count": 51,
   "id": "8ea49f83",
   "metadata": {},
   "outputs": [],
   "source": [
    "def insert(self, character):\n",
    "    if not hasattr(character, 'character'):\n",
    "        character = Character(character)"
   ]
  },
  {
   "cell_type": "markdown",
   "id": "0f0542da",
   "metadata": {},
   "source": [
    "This is a rather strange bit of code. Its basic purpose is to check whether the character\n",
    "being passed in is a Character or a str. If it is a string, it is wrapped in a Character\n",
    "class so all objects in the list are Character objects. However, it is entirely possible\n",
    "that someone using our code would want to use a class that is neither Character\n",
    "nor string, using duck typing. If the object has a character attribute, we assume it is\n",
    "a \"Character-like\" object. But if it does not, we assume it is a \"str-like\" object and\n",
    "wrap it in Character. This helps the program take advantage of duck typing as well\n",
    "as polymorphism; as long as an object has a character attribute, it can be used in the\n",
    "Document class.    \n",
    "    \n",
    "This generic check could be very useful, for example, if we wanted to make a\n",
    "programmer's editor with syntax highlighting: we'd need extra data on the character,\n",
    "such as what type of syntax token the character belongs to. Note that if we are doing\n",
    "a lot of this kind of comparison, it's probably better to implement Character as an\n",
    "abstract base class with an appropriate __subclasshook__, as discussed in Chapter 3,\n",
    "When Objects Are Alike.   \n",
    "    \n",
    "In addition, we need to modify the string property on Document to accept the new\n",
    "Character values. All we need to do is call str() on each character before we join it:"
   ]
  },
  {
   "cell_type": "code",
   "execution_count": 52,
   "id": "24364eaa",
   "metadata": {},
   "outputs": [],
   "source": [
    "@property\n",
    "def string(self):\n",
    "    return \"\".join((str(c) for c in self.characters))"
   ]
  },
  {
   "cell_type": "markdown",
   "id": "605dd4d1",
   "metadata": {},
   "source": [
    "This code uses a generator expression, which we'll discuss in Chapter 9, The Iterator\n",
    "Pattern. It's a shortcut to perform a specific action on all the objects in a sequence."
   ]
  },
  {
   "cell_type": "markdown",
   "id": "d8d32cd2",
   "metadata": {},
   "source": [
    "Finally, we also need to check Character.character, instead of just the string\n",
    "character we were storing before, in the home and end functions when we're looking\n",
    "to see whether it matches a newline character:"
   ]
  },
  {
   "cell_type": "code",
   "execution_count": 53,
   "id": "125b30d4",
   "metadata": {},
   "outputs": [],
   "source": [
    "def home(self):\n",
    "    while self.document.characters[self.position-1].character != '\\n':\n",
    "        self.position -= 1\n",
    "        if self.position == 0:\n",
    "            break\n",
    "def end(self):\n",
    "    while self.position < len(self.document.characters) and self.document.characters[self.position].character != '\\n':\n",
    "        self.position += 1"
   ]
  },
  {
   "cell_type": "markdown",
   "id": "40d6d697",
   "metadata": {},
   "source": [
    "Final Code:"
   ]
  },
  {
   "cell_type": "code",
   "execution_count": 54,
   "id": "e10769f6",
   "metadata": {},
   "outputs": [],
   "source": [
    "class Document:\n",
    "    def __init__(self):\n",
    "        self.characters = []\n",
    "        self.cursor = 0\n",
    "        self.filename = ''\n",
    "    def insert(self, character):\n",
    "        self.characters.insert(self.cursor, character)\n",
    "        self.cursor += 1\n",
    "    def delete(self):\n",
    "        del self.characters[self.cursor]\n",
    "    def save(self):\n",
    "        with open(self.filename, 'w') as f:\n",
    "            f.write(''.join(self.characters))\n",
    "    def forward(self):\n",
    "        self.cursor += 1\n",
    "    def back(self):\n",
    "        self.cursor -= 1\n",
    "        \n",
    "class Cursor:\n",
    "    def __init__(self, document):\n",
    "        self.document = document\n",
    "        self.position = 0\n",
    "    def forward(self):\n",
    "        self.position += 1\n",
    "    def back(self):\n",
    "        self.position -= 1\n",
    "    def home(self):\n",
    "        while self.document.characters[self.position-1].character != '\\n':\n",
    "            self.position -= 1\n",
    "            if self.position == 0:\n",
    "                break\n",
    "    def end(self):\n",
    "        while self.position < len(self.document.characters) and self.document.characters[self.position].character != '\\n':\n",
    "            self.position += 1\n",
    "            \n",
    "class Document:\n",
    "    def __init__(self):\n",
    "        self.characters = []\n",
    "        self.cursor = Cursor(self)\n",
    "        self.filename = ''\n",
    "    def insert(self, character):\n",
    "        if not hasattr(character, 'character'):\n",
    "            character = Character(character)\n",
    "        self.characters.insert(self.cursor.position,character)\n",
    "        self.cursor.forward()\n",
    "    def delete(self):\n",
    "        del self.characters[self.cursor.position]\n",
    "    def save(self):\n",
    "        f = open(self.filename, 'w')\n",
    "        f.write(''.join(self.characters))\n",
    "        f.close()\n",
    "    @property\n",
    "    def string(self):\n",
    "        return \"\".join((str(c) for c in self.characters))\n",
    "class Character:\n",
    "    def __init__(self, character,bold=False, italic=False, underline=False):\n",
    "        assert len(character) == 1\n",
    "        self.character = character\n",
    "        self.bold = bold\n",
    "        self.italic = italic\n",
    "        self.underline = underline\n",
    "    def __str__(self):\n",
    "        bold = \"*\" if self.bold else ''\n",
    "        italic = \"/\" if self.italic else ''\n",
    "        underline = \"_\" if self.underline else ''\n",
    "        return bold + italic + underline + self.character"
   ]
  },
  {
   "cell_type": "code",
   "execution_count": 55,
   "id": "75ad8864",
   "metadata": {},
   "outputs": [
    {
     "name": "stdout",
     "output_type": "stream",
     "text": [
      "he*l*lo\n",
      "/w/o_rld\n"
     ]
    }
   ],
   "source": [
    "d = Document()\n",
    "d.insert('h')\n",
    "d.insert('e')\n",
    "d.insert(Character('l', bold=True))\n",
    "d.insert(Character('l', bold=True))\n",
    "d.insert('o')\n",
    "d.insert('\\n')\n",
    "d.insert(Character('w', italic=True))\n",
    "d.insert(Character('o', italic=True))\n",
    "d.insert(Character('r', underline=True))\n",
    "d.insert('l')\n",
    "d.insert('d')\n",
    "print(d.string)"
   ]
  },
  {
   "cell_type": "code",
   "execution_count": 56,
   "id": "13335e0e",
   "metadata": {},
   "outputs": [
    {
     "name": "stdout",
     "output_type": "stream",
     "text": [
      "he*l*lo\n",
      "W/o_rld\n"
     ]
    }
   ],
   "source": [
    "d.cursor.home()\n",
    "d.delete()\n",
    "d.insert('W')\n",
    "print(d.string)"
   ]
  },
  {
   "cell_type": "code",
   "execution_count": 57,
   "id": "484464d0",
   "metadata": {},
   "outputs": [
    {
     "name": "stdout",
     "output_type": "stream",
     "text": [
      "_he*l*lo\n",
      "W/o_rld\n"
     ]
    }
   ],
   "source": [
    "d.characters[0].underline = True\n",
    "print(d.string)"
   ]
  },
  {
   "cell_type": "markdown",
   "id": "6c641850",
   "metadata": {},
   "source": [
    "As expected, whenever we print the string, each bold character is preceded by a\n",
    "* character, each italic character by a / character, and each underlined character\n",
    "by a _ character. All our functions seem to work, and we can modify characters in\n",
    "the list after the fact. We have a working rich text document object that could be\n",
    "plugged into a proper user interface and hooked up with a keyboard for input and\n",
    "a screen for output. Naturally, we'd want to display real bold, italic, and underlined\n",
    "characters on the screen, instead of using our __str__ method, but it was sufficient\n",
    "for the basic testing we demanded of it."
   ]
  },
  {
   "cell_type": "code",
   "execution_count": null,
   "id": "53ff764b",
   "metadata": {},
   "outputs": [],
   "source": []
  }
 ],
 "metadata": {
  "kernelspec": {
   "display_name": "Python 3 (ipykernel)",
   "language": "python",
   "name": "python3"
  },
  "language_info": {
   "codemirror_mode": {
    "name": "ipython",
    "version": 3
   },
   "file_extension": ".py",
   "mimetype": "text/x-python",
   "name": "python",
   "nbconvert_exporter": "python",
   "pygments_lexer": "ipython3",
   "version": "3.6.13"
  }
 },
 "nbformat": 4,
 "nbformat_minor": 5
}

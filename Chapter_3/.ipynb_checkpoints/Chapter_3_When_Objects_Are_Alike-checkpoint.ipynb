{
 "cells": [
  {
   "cell_type": "markdown",
   "metadata": {},
   "source": [
    "In the programming world, duplicate code is considered evil. \n",
    "There are many ways to merge pieces of code or objects that have a similar functionality"
   ]
  },
  {
   "cell_type": "markdown",
   "metadata": {},
   "source": [
    "inheritance allows us to create is a relationships between two or more classes, abstracting common logic into superclasses and managing specific details in the subclass."
   ]
  },
  {
   "cell_type": "markdown",
   "metadata": {},
   "source": [
    "## Basic inheritance"
   ]
  },
  {
   "cell_type": "markdown",
   "metadata": {},
   "source": [
    "Technically, every class we create uses inheritance. All Python classes are subclasses of the special class named object."
   ]
  },
  {
   "cell_type": "markdown",
   "metadata": {},
   "source": [
    "This class provides very little in terms of data and behaviors (the behaviors it does provide are all double-underscore methods intended for internal use only), but it does allow Python to treat all objects in the same way."
   ]
  },
  {
   "cell_type": "markdown",
   "metadata": {},
   "source": [
    "If we don't explicitly inherit from a different class, our classes will automatically inherit from object. However, we can openly state that our class derives from object using the following syntax:\n"
   ]
  },
  {
   "cell_type": "code",
   "execution_count": 1,
   "metadata": {},
   "outputs": [],
   "source": [
    "class MySubClass(object):\n",
    "    pass"
   ]
  },
  {
   "cell_type": "markdown",
   "metadata": {},
   "source": [
    "This is inheritance!"
   ]
  },
  {
   "cell_type": "markdown",
   "metadata": {},
   "source": [
    "Python 3 automatically inherits from object if we don't explicitly provide a different superclass"
   ]
  },
  {
   "cell_type": "markdown",
   "metadata": {},
   "source": [
    "A superclass, or parent\n",
    "class, is a class that is being inherited from. A subclass is a class that is inheriting\n",
    "from a superclass. In this case, the superclass is object, and MySubClass is the\n",
    "subclass. A subclass is also said to be derived from its parent class or that the\n",
    "subclass extends the parent."
   ]
  },
  {
   "cell_type": "markdown",
   "metadata": {},
   "source": [
    "How do we apply inheritance in practice? The simplest and most obvious use of\n",
    "inheritance is to add functionality to an existing class. Let's start with a simple\n",
    "contact manager that tracks the name and e-mail address of several people. The\n",
    "contact class is responsible for maintaining a list of all contacts in a class variable,\n",
    "and for initializing the name and address for an individual contact"
   ]
  },
  {
   "cell_type": "code",
   "execution_count": 2,
   "metadata": {},
   "outputs": [],
   "source": [
    "class Contact:\n",
    "    all_contacts = []\n",
    "    def __init__(self, name, email):\n",
    "        self.name = name\n",
    "        self.email = email\n",
    "        Contact.all_contacts.append(self)"
   ]
  },
  {
   "cell_type": "markdown",
   "metadata": {},
   "source": [
    "This example introduces us to class variables.The all_contacts list, because it is\n",
    "part of the class definition, is shared by all instances of this class. we can also access it as self.all_contacts on any object instantiated from Contact"
   ]
  },
  {
   "cell_type": "markdown",
   "metadata": {},
   "source": [
    "Be careful with this syntax, for if you ever set the variable using\n",
    "self.all_contacts, you will actually be creating a new instance\n",
    "variable associated only with that object."
   ]
  },
  {
   "cell_type": "markdown",
   "metadata": {},
   "source": [
    "This is a simple class that allows us to track a couple pieces of data about each\n",
    "contact. But what if some of our contacts are also suppliers that we need to order\n",
    "supplies from? We could add an order method to the Contact class, but that would\n",
    "allow people to accidentally order things from contacts who are customers or family\n",
    "friends. Instead, let's create a new Supplier class that acts like our Contact class,\n",
    "but has an additional order method:"
   ]
  },
  {
   "cell_type": "code",
   "execution_count": 3,
   "metadata": {},
   "outputs": [],
   "source": [
    "class Supplier(Contact):\n",
    "    def order(self, order):\n",
    "        print(\"If this were a real system we would send '{}' order to '{}'\".format(order, self.name))"
   ]
  },
  {
   "cell_type": "markdown",
   "metadata": {},
   "source": [
    "Now, if we test this class in our trusty interpreter, we see that all contacts, including\n",
    "suppliers, accept a name and e-mail address in their __init__, but only suppliers\n",
    "have a functional order method:"
   ]
  },
  {
   "cell_type": "code",
   "execution_count": 4,
   "metadata": {},
   "outputs": [],
   "source": [
    "c = Contact(\"Some Body\", \"somebody@example.net\")"
   ]
  },
  {
   "cell_type": "code",
   "execution_count": 5,
   "metadata": {},
   "outputs": [],
   "source": [
    "s = Supplier(\"Sup Plier\", \"supplier@example.net\")"
   ]
  },
  {
   "cell_type": "code",
   "execution_count": 6,
   "metadata": {},
   "outputs": [
    {
     "name": "stdout",
     "output_type": "stream",
     "text": [
      "Some Body somebody@example.net Sup Plier supplier@example.net\n"
     ]
    }
   ],
   "source": [
    "print(c.name, c.email, s.name, s.email)"
   ]
  },
  {
   "cell_type": "code",
   "execution_count": 7,
   "metadata": {},
   "outputs": [
    {
     "data": {
      "text/plain": [
       "[<__main__.Contact at 0x193d1f196a0>, <__main__.Supplier at 0x193d1f199e8>]"
      ]
     },
     "execution_count": 7,
     "metadata": {},
     "output_type": "execute_result"
    }
   ],
   "source": [
    "c.all_contacts"
   ]
  },
  {
   "cell_type": "code",
   "execution_count": 8,
   "metadata": {},
   "outputs": [
    {
     "ename": "AttributeError",
     "evalue": "'Contact' object has no attribute 'order'",
     "output_type": "error",
     "traceback": [
      "\u001b[1;31m---------------------------------------------------------------------------\u001b[0m",
      "\u001b[1;31mAttributeError\u001b[0m                            Traceback (most recent call last)",
      "\u001b[1;32m<ipython-input-8-60117610530f>\u001b[0m in \u001b[0;36m<module>\u001b[1;34m\u001b[0m\n\u001b[1;32m----> 1\u001b[1;33m \u001b[0mc\u001b[0m\u001b[1;33m.\u001b[0m\u001b[0morder\u001b[0m\u001b[1;33m(\u001b[0m\u001b[1;34m\"I need pliers\"\u001b[0m\u001b[1;33m)\u001b[0m\u001b[1;33m\u001b[0m\u001b[1;33m\u001b[0m\u001b[0m\n\u001b[0m",
      "\u001b[1;31mAttributeError\u001b[0m: 'Contact' object has no attribute 'order'"
     ]
    }
   ],
   "source": [
    "c.order(\"I need pliers\")"
   ]
  },
  {
   "cell_type": "code",
   "execution_count": null,
   "metadata": {},
   "outputs": [],
   "source": [
    "s.order(\"I need pliers\")"
   ]
  },
  {
   "cell_type": "markdown",
   "metadata": {},
   "source": [
    "So, now our Supplier class can do everything a contact can do (including adding\n",
    "itself to the list of all_contacts) and all the special things it needs to handle as a\n",
    "supplier. This is the beauty of inheritance."
   ]
  },
  {
   "cell_type": "markdown",
   "metadata": {},
   "source": [
    "## Extending built-ins"
   ]
  },
  {
   "cell_type": "markdown",
   "metadata": {},
   "source": [
    "One interesting use of this kind of inheritance is adding functionality to built-in\n",
    "classes. In the Contact class seen earlier, we are adding contacts to a list of all\n",
    "contacts. What if we also wanted to search that list by name? Well, we could add\n",
    "a method on the Contact class to search it, but it feels like this method actually\n",
    "belongs to the list itself. We can do this using inheritance:"
   ]
  },
  {
   "cell_type": "code",
   "execution_count": null,
   "metadata": {},
   "outputs": [],
   "source": [
    "class ContactList(list):\n",
    "    def search(self, name):\n",
    "        '''Return all contacts that contain the search value\n",
    "        in their name.'''\n",
    "        matching_contacts = []\n",
    "        for contact in self:\n",
    "            if name in contact.name:\n",
    "                matching_contacts.append(contact)\n",
    "        return matching_contacts\n",
    "class Contact:\n",
    "    all_contacts = ContactList()\n",
    "    def __init__(self, name, email):\n",
    "        self.name = name\n",
    "        self.email = email\n",
    "        self.all_contacts.append(self)"
   ]
  },
  {
   "cell_type": "code",
   "execution_count": null,
   "metadata": {},
   "outputs": [],
   "source": [
    "c1 = Contact(\"John A\", \"johna@example.net\")\n",
    "c2 = Contact(\"John B\", \"johnb@example.net\")\n",
    "c3 = Contact(\"Jenna C\", \"jennac@example.net\")"
   ]
  },
  {
   "cell_type": "code",
   "execution_count": null,
   "metadata": {},
   "outputs": [],
   "source": [
    "[c.name for c in Contact.all_contacts.search('John')]"
   ]
  },
  {
   "cell_type": "code",
   "execution_count": null,
   "metadata": {},
   "outputs": [],
   "source": [
    "if 'ankit' in 'ankit loves soumya':\n",
    "    print('yes')"
   ]
  },
  {
   "cell_type": "markdown",
   "metadata": {},
   "source": [
    "Are you wondering how we changed the built-in syntax [] into something we can\n",
    "inherit from? Creating an empty list with [] is actually a shorthand for creating an\n",
    "empty list using list(); the two syntaxes behave identically:"
   ]
  },
  {
   "cell_type": "code",
   "execution_count": null,
   "metadata": {},
   "outputs": [],
   "source": [
    "[] == list()"
   ]
  },
  {
   "cell_type": "markdown",
   "metadata": {},
   "source": [
    "In reality, the [] syntax is actually so-called syntax sugar that calls the list()\n",
    "constructor under the hood. The list data type is a class that we can extend.\n",
    "In fact, the list itself extends the object class"
   ]
  },
  {
   "cell_type": "code",
   "execution_count": null,
   "metadata": {},
   "outputs": [],
   "source": [
    "isinstance([], object)"
   ]
  },
  {
   "cell_type": "code",
   "execution_count": null,
   "metadata": {},
   "outputs": [],
   "source": [
    "isinstance(list(), object)"
   ]
  },
  {
   "cell_type": "markdown",
   "metadata": {},
   "source": [
    "As a second example, we can extend the dict class, which is, similar to the list, the\n",
    "class that is constructed when using the {} syntax shorthand:"
   ]
  },
  {
   "cell_type": "code",
   "execution_count": null,
   "metadata": {},
   "outputs": [],
   "source": [
    "class LongNameDict(dict):\n",
    "    def longest_key(self):\n",
    "        longest = None\n",
    "        for key in self:\n",
    "            if not longest or len(key) > len(longest):\n",
    "                longest = key\n",
    "        return longest"
   ]
  },
  {
   "cell_type": "code",
   "execution_count": null,
   "metadata": {},
   "outputs": [],
   "source": [
    "longkeys = LongNameDict()\n",
    "longkeys['hello'] = 1\n",
    "longkeys['longest yet'] = 5\n",
    "longkeys['hello2'] = 'world'\n",
    "longkeys.longest_key()"
   ]
  },
  {
   "cell_type": "markdown",
   "metadata": {},
   "source": [
    "Most built-in types can be similarly extended. Commonly extended built-ins are\n",
    "object, list, set, dict, file, and str. Numerical types such as int and float\n",
    "are also occasionally inherited from"
   ]
  },
  {
   "cell_type": "markdown",
   "metadata": {},
   "source": [
    "## Overriding and super"
   ]
  },
  {
   "cell_type": "markdown",
   "metadata": {},
   "source": [
    "So, inheritance is great for adding new behavior to existing classes, but what about\n",
    "changing behavior?"
   ]
  },
  {
   "cell_type": "markdown",
   "metadata": {},
   "source": [
    "Our contact class allows only a name and an e-mail address.\n",
    "This may be sufficient for most contacts, but what if we want to add a phone\n",
    "number for our close friends?"
   ]
  },
  {
   "cell_type": "markdown",
   "metadata": {},
   "source": [
    "we can do this easily by just setting a\n",
    "phone attribute on the contact after it is constructed. But if we want to make this\n",
    "third variable available on initialization, we have to override __init__. Overriding\n",
    "means altering or replacing a method of the superclass with a new method (with\n",
    "the same name) in the subclass. No special syntax is needed to do this; the subclass's\n",
    "newly created method is automatically called instead of the superclass's method. For\n",
    "example:"
   ]
  },
  {
   "cell_type": "code",
   "execution_count": null,
   "metadata": {},
   "outputs": [],
   "source": [
    "class Friend(Contact):\n",
    " def __init__(self, name, email, phone):\n",
    "     self.name = name\n",
    "     self.email = email\n",
    "     self.phone = phone"
   ]
  },
  {
   "cell_type": "markdown",
   "metadata": {},
   "source": [
    "Any method can be overridden, not just __init__."
   ]
  },
  {
   "cell_type": "markdown",
   "metadata": {},
   "source": [
    "Our Contact and Friend classes\n",
    "have duplicate code to set up the name and email properties; this can make code\n",
    "maintenance complicated as we have to update the code in two or more places. "
   ]
  },
  {
   "cell_type": "markdown",
   "metadata": {},
   "source": [
    "What we really need is a way to execute the original __init__ method on the\n",
    "Contact class. This is what the super function does; it returns the object as an\n",
    "instance of the parent class, allowing us to call the parent method directly:"
   ]
  },
  {
   "cell_type": "code",
   "execution_count": null,
   "metadata": {},
   "outputs": [],
   "source": [
    "class Friend(Contact):\n",
    " def __init__(self, name, email, phone):\n",
    "     super().__init__(name, email)\n",
    "     self.phone = phone"
   ]
  },
  {
   "cell_type": "markdown",
   "metadata": {},
   "source": [
    "This example first gets the instance of the parent object using super, and calls\n",
    "__init__ on that object, passing in the expected arguments. It then does its own\n",
    "initialization, namely, setting the phone attribute."
   ]
  },
  {
   "cell_type": "markdown",
   "metadata": {},
   "source": [
    "A super() call can be made inside any method, not just __init__. This means all\n",
    "methods can be modified via overriding and calls to super. The call to super can\n",
    "also be made at any point in the method; we don't have to make the call as the first\n",
    "line in the method. For example, we may need to manipulate or validate incoming\n",
    "parameters before forwarding them to the superclass."
   ]
  },
  {
   "cell_type": "markdown",
   "metadata": {},
   "source": [
    "## Multiple inheritance"
   ]
  },
  {
   "cell_type": "markdown",
   "metadata": {},
   "source": [
    "Multiple inheritance is a touchy subject. In principle, it's very simple: a subclass that\n",
    "inherits from more than one parent class is able to access functionality from both of\n",
    "them. In practice, this is less useful than it sounds and many expert programmers\n",
    "recommend against using it"
   ]
  },
  {
   "cell_type": "markdown",
   "metadata": {},
   "source": [
    "The simplest and most useful form of multiple inheritance is called a mixin. A mixin\n",
    "is generally a superclass that is not meant to exist on its own, but is meant to be\n",
    "inherited by some other class to provide extra functionality. For example, let's say\n",
    "we wanted to add functionality to our Contact class that allows sending an e-mail\n",
    "to self.email. Sending e-mail is a common task that we might want to use on many\n",
    "other classes. So, we can write a simple mixin class to do the e-mailing for us:"
   ]
  },
  {
   "cell_type": "code",
   "execution_count": null,
   "metadata": {},
   "outputs": [],
   "source": [
    "class MailSender:\n",
    " def send_mail(self, message):\n",
    "     print(\"Sending mail to \" + self.email)\n",
    "     # Add e-mail logic here"
   ]
  },
  {
   "cell_type": "markdown",
   "metadata": {},
   "source": [
    "For brevity, we won't include the actual e-mail logic here; if you're interested in\n",
    "studying how it's done, see the smtplib module in the Python standard library."
   ]
  },
  {
   "cell_type": "markdown",
   "metadata": {},
   "source": [
    "This class doesn't do anything special (in fact, it can barely function as a standalone\n",
    "class), but it does allow us to define a new class that describes both a Contact and\n",
    "a MailSender, using multiple inheritance:"
   ]
  },
  {
   "cell_type": "code",
   "execution_count": null,
   "metadata": {},
   "outputs": [],
   "source": [
    "class EmailableContact(Contact, MailSender):\n",
    " pass"
   ]
  },
  {
   "cell_type": "markdown",
   "metadata": {},
   "source": [
    "The syntax for multiple inheritance looks like a parameter list in the class definition.\n",
    "Instead of including one base class inside the parentheses, we include two (or more),\n",
    "separated by a comma. We can test this new hybrid to see the mixin at work:"
   ]
  },
  {
   "cell_type": "code",
   "execution_count": null,
   "metadata": {},
   "outputs": [],
   "source": [
    "e = EmailableContact(\"John Smith\", \"jsmith@example.net\")"
   ]
  },
  {
   "cell_type": "code",
   "execution_count": null,
   "metadata": {},
   "outputs": [],
   "source": [
    "Contact.all_contacts"
   ]
  },
  {
   "cell_type": "code",
   "execution_count": null,
   "metadata": {},
   "outputs": [],
   "source": [
    "e.send_mail(\"Hello, test e-mail here\")"
   ]
  },
  {
   "cell_type": "markdown",
   "metadata": {},
   "source": [
    "The Contact initializer is still adding the new contact to the all_contacts list, and\n",
    "the mixin is able to send mail to self.email so we know everything is working."
   ]
  },
  {
   "cell_type": "markdown",
   "metadata": {},
   "source": [
    "let's consider some other options we had, rather than using a mixin here:      \n",
    "     \n",
    "• We could have used single inheritance and added the send_mail function\n",
    "to the subclass. The disadvantage here is that the e-mail functionality then\n",
    "has to be duplicated for any other classes that need e-mail.     \n",
    "    \n",
    "• We can create a standalone Python function for sending an e-mail, and just\n",
    "call that function with the correct e-mail address supplied as a parameter\n",
    "when the e-mail needs to be sent.     \n",
    "     \n",
    "• We could have explored a few ways of using composition instead of\n",
    "inheritance. For example, EmailableContact could have a MailSender\n",
    "object instead of inheriting from it.     \n",
    "      \n",
    "• We could monkey-patch (we'll briefly cover monkey-patching in Chapter 7,\n",
    "Python Object-oriented Shortcuts) the Contact class to have a send_mail method\n",
    "after the class has been created. This is done by defining a function that accepts\n",
    "the self argument, and setting it as an attribute on an existing class."
   ]
  },
  {
   "cell_type": "markdown",
   "metadata": {},
   "source": [
    "Multiple inheritance works all right when mixing methods from different classes,\n",
    "but it gets very messy when we have to call methods on the superclass. There are\n",
    "multiple superclasses. How do we know which one to call? How do we know\n",
    "what order to call them in?"
   ]
  },
  {
   "cell_type": "markdown",
   "metadata": {},
   "source": [
    "Let's explore these questions by adding a home address to our Friend class.\n",
    "There are a few approaches we might take. An address is a collection of strings\n",
    "representing the street, city, country, and other related details of the contact. We\n",
    "could pass each of these strings as a parameter into the Friend class's __init__\n",
    "method. We could also store these strings in a tuple or dictionary and pass them\n",
    "into __init__ as a single argument. This is probably the best course of action if\n",
    "there are no methods that need to be added to the address."
   ]
  },
  {
   "cell_type": "markdown",
   "metadata": {},
   "source": [
    "Another option would be to create a new Address class to hold those strings together,\n",
    "and then pass an instance of this class into the __init__ method of our Friend class.\n",
    "The advantage of this solution is that we can add behavior (say, a method to give\n",
    "directions or to print a map) to the data instead of just storing it statically. This is an\n",
    "example of composition, as we discussed in Chapter 1, Object-oriented Design. The\n",
    "\"has a\" relationship of composition is a perfectly viable solution to this problem and\n",
    "allows us to reuse Address classes in other entities such as buildings, businesses,\n",
    "or organizations."
   ]
  },
  {
   "cell_type": "markdown",
   "metadata": {},
   "source": [
    "However, inheritance is also a viable solution, and that's what we want to explore.\n",
    "Let's add a new class that holds an address. We'll call this new class \"AddressHolder\"\n",
    "instead of \"Address\" because inheritance defines an is a relationship. It is not correct\n",
    "to say a \"Friend\" is an \"Address\" , but since a friend can have an \"Address\" , we can\n",
    "argue that a \"Friend\" is an \"AddressHolder\". Later, we could create other entities\n",
    "(companies, buildings) that also hold addresses. Here's our AddressHolder class:"
   ]
  },
  {
   "cell_type": "code",
   "execution_count": 10,
   "metadata": {},
   "outputs": [],
   "source": [
    "class AddressHolder:\n",
    " def __init__(self, street, city, state, code):\n",
    "     self.street = street\n",
    "     self.city = city\n",
    "     self.state = state\n",
    "     self.code = code"
   ]
  },
  {
   "cell_type": "markdown",
   "metadata": {},
   "source": [
    "## The diamond problem"
   ]
  },
  {
   "cell_type": "markdown",
   "metadata": {},
   "source": [
    "We can use multiple inheritance to add this new class as a parent of our existing\n",
    "Friend class. The tricky part is that we now have two parent __init__ methods\n",
    "both of which need to be initialized. And they need to be initialized with different\n",
    "arguments. How do we do this? Well, we could start with a naive approach"
   ]
  },
  {
   "cell_type": "code",
   "execution_count": 11,
   "metadata": {},
   "outputs": [],
   "source": [
    "class Friend(Contact, AddressHolder):\n",
    " def __init__(self, name, email, phone,street, city, state, code):\n",
    "     Contact.__init__(self, name, email)\n",
    "     AddressHolder.__init__(self, street, city, state, code)\n",
    "     self.phone = phone"
   ]
  },
  {
   "cell_type": "markdown",
   "metadata": {},
   "source": [
    "In this example, we directly call the __init__ function on each of the superclasses\n",
    "and explicitly pass the self argument. This example technically works; we can\n",
    "access the different variables directly on the class. But there are a few problems."
   ]
  },
  {
   "cell_type": "markdown",
   "metadata": {},
   "source": [
    "First, it is possible for a superclass to go uninitialized if we neglect to explicitly call\n",
    "the initializer. That wouldn't break this example, but it could cause hard-to-debug\n",
    "program crashes in common scenarios. Imagine trying to insert data into a database\n",
    "that has not been connected to, for example."
   ]
  },
  {
   "cell_type": "markdown",
   "metadata": {},
   "source": [
    "Second, and more sinister, is the possibility of a superclass being called multiple times\n",
    "because of the organization of the class hierarchy"
   ]
  },
  {
   "cell_type": "markdown",
   "metadata": {},
   "source": [
    "The __init__ method from the Friend class first calls __init__ on Contact,\n",
    "which implicitly initializes the object superclass (remember, all classes derive from\n",
    "object). Friend then calls __init__ on AddressHolder, which implicitly initializes\n",
    "the object superclass again. This means the parent class has been set up twice. With\n",
    "the object class, that's relatively harmless, but in some situations, it could spell\n",
    "disaster. Imagine trying to connect to a database twice for every request!"
   ]
  },
  {
   "cell_type": "markdown",
   "metadata": {},
   "source": [
    "The base class should only be called once. Once, yes, but when? Do we call Friend,\n",
    "then Contact, then Object, then AddressHolder? Or Friend, then Contact, then\n",
    "AddressHolder, then Object?"
   ]
  },
  {
   "cell_type": "markdown",
   "metadata": {},
   "source": [
    "Let's look at a second contrived example that illustrates this problem more clearly.\n",
    "Here we have a base class that has a method named call_me. Two subclasses\n",
    "override that method, and then another subclass extends both of these using multiple\n",
    "inheritance. This is called diamond inheritance because of the diamond shape of the\n",
    "class diagram:"
   ]
  },
  {
   "cell_type": "code",
   "execution_count": 12,
   "metadata": {},
   "outputs": [],
   "source": [
    "class BaseClass:\n",
    "     num_base_calls = 0\n",
    "     def call_me(self):\n",
    "         print(\"Calling method on Base Class\")\n",
    "         self.num_base_calls += 1\n",
    "class LeftSubclass(BaseClass):\n",
    " num_left_calls = 0\n",
    " def call_me(self):\n",
    "     BaseClass.call_me(self)\n",
    "     print(\"Calling method on Left Subclass\")\n",
    "     self.num_left_calls += 1\n",
    "class RightSubclass(BaseClass):\n",
    " num_right_calls = 0\n",
    " def call_me(self):\n",
    "     BaseClass.call_me(self)\n",
    "     print(\"Calling method on Right Subclass\")\n",
    "     self.num_right_calls += 1\n",
    "class Subclass(LeftSubclass, RightSubclass):\n",
    " num_sub_calls = 0\n",
    " def call_me(self):\n",
    "     LeftSubclass.call_me(self)\n",
    "     RightSubclass.call_me(self)\n",
    "     print(\"Calling method on Subclass\")\n",
    "     self.num_sub_calls += 1"
   ]
  },
  {
   "cell_type": "markdown",
   "metadata": {},
   "source": [
    "This example simply ensures that each overridden call_me method directly calls the\n",
    "parent method with the same name. It lets us know each time a method is called by\n",
    "printing the information to the screen. It also updates a static variable on the class to\n",
    "show how many times it has been called. If we instantiate one Subclass object and\n",
    "call the method on it once, we get this output:"
   ]
  },
  {
   "cell_type": "code",
   "execution_count": 13,
   "metadata": {},
   "outputs": [
    {
     "name": "stdout",
     "output_type": "stream",
     "text": [
      "Calling method on Base Class\n",
      "Calling method on Left Subclass\n",
      "Calling method on Base Class\n",
      "Calling method on Right Subclass\n",
      "Calling method on Subclass\n"
     ]
    }
   ],
   "source": [
    "s = Subclass()\n",
    "s.call_me()"
   ]
  },
  {
   "cell_type": "code",
   "execution_count": 14,
   "metadata": {},
   "outputs": [
    {
     "name": "stdout",
     "output_type": "stream",
     "text": [
      "1 1 1 2\n"
     ]
    }
   ],
   "source": [
    " print(\n",
    "... s.num_sub_calls,\n",
    "... s.num_left_calls,\n",
    "... s.num_right_calls,\n",
    "... s.num_base_calls)"
   ]
  },
  {
   "cell_type": "markdown",
   "metadata": {},
   "source": [
    "Thus we can clearly see the base class's call_me method being called twice. This\n",
    "could lead to some insidious bugs if that method is doing actual work—like\n",
    "depositing into a bank account—twice."
   ]
  },
  {
   "cell_type": "markdown",
   "metadata": {},
   "source": [
    "The thing to keep in mind with multiple inheritance is that we only want to call\n",
    "the \"next\" method in the class hierarchy, not the \"parent\" method. In fact, that next\n",
    "method may not be on a parent or ancestor of the current class. The super keyword\n",
    "comes to our rescue once again. Indeed, super was originally developed to make\n",
    "complicated forms of multiple inheritance possible. Here is the same code written\n",
    "using super:"
   ]
  },
  {
   "cell_type": "code",
   "execution_count": 15,
   "metadata": {},
   "outputs": [],
   "source": [
    "class BaseClass:\n",
    " num_base_calls = 0\n",
    " def call_me(self):\n",
    "     print(\"Calling method on Base Class\")\n",
    "     self.num_base_calls += 1\n",
    "class LeftSubclass(BaseClass):\n",
    " num_left_calls = 0\n",
    " def call_me(self):\n",
    "     super().call_me()\n",
    "     print(\"Calling method on Left Subclass\")\n",
    "     self.num_left_calls += 1\n",
    "class RightSubclass(BaseClass):\n",
    " num_right_calls = 0\n",
    " def call_me(self):\n",
    "     super().call_me()\n",
    "     print(\"Calling method on Right Subclass\")\n",
    "     self.num_right_calls += 1\n",
    "class Subclass(LeftSubclass, RightSubclass):\n",
    " num_sub_calls = 0\n",
    " def call_me(self):\n",
    "     super().call_me()\n",
    "     print(\"Calling method on Subclass\")\n",
    "     self.num_sub_calls += 1"
   ]
  },
  {
   "cell_type": "markdown",
   "metadata": {},
   "source": [
    "The change is pretty minor; we simply replaced the naive direct calls with calls to\n",
    "super(), although the bottom subclass only calls super once rather than having to\n",
    "make the calls for both the left and right. The change is simple enough, but look at\n",
    "the difference when we execute it:"
   ]
  },
  {
   "cell_type": "code",
   "execution_count": 16,
   "metadata": {},
   "outputs": [
    {
     "name": "stdout",
     "output_type": "stream",
     "text": [
      "Calling method on Base Class\n",
      "Calling method on Right Subclass\n",
      "Calling method on Left Subclass\n",
      "Calling method on Subclass\n"
     ]
    }
   ],
   "source": [
    "s = Subclass()\n",
    ">>> s.call_me()"
   ]
  },
  {
   "cell_type": "code",
   "execution_count": 17,
   "metadata": {},
   "outputs": [
    {
     "name": "stdout",
     "output_type": "stream",
     "text": [
      "1 1 1 1\n"
     ]
    }
   ],
   "source": [
    "print(s.num_sub_calls, s.num_left_calls, s.num_right_calls,s.num_base_calls)"
   ]
  },
  {
   "cell_type": "markdown",
   "metadata": {},
   "source": [
    "Looks good, our base method is only being called once. But what is super() actually\n",
    "doing here? Since the print statements are executed after the super calls, the printed\n",
    "output is in the order each method is actually executed. Let's look at the output from\n",
    "back to front to see who is calling what.     \n",
    "     \n",
    "First, call_me of Subclass calls super().call_me(), which happens to refer\n",
    "to LeftSubclass.call_me(). The LeftSubclass.call_me() method then calls\n",
    "super().call_me(), but in this case, super() is referring to RightSubclass.call_\n",
    "me().      \n",
    "     \n",
    "Pay particular attention to this: the super call is not calling the method on the\n",
    "superclass of LeftSubclass (which is BaseClass). Rather, it is calling RightSubclass,\n",
    "even though it is not a direct parent of LeftSubclass! This is the next method, not\n",
    "the parent method. RightSubclass then calls BaseClass and the super calls have\n",
    "ensured each method in the class hierarchy is executed once."
   ]
  },
  {
   "cell_type": "markdown",
   "metadata": {},
   "source": [
    "## Different sets of arguments"
   ]
  },
  {
   "cell_type": "markdown",
   "metadata": {},
   "source": [
    "This is going to make things complicated as we return to our Friend multiple\n",
    "inheritance example. In the __init__ method for Friend, we were originally\n",
    "calling __init__ for both parent classes, with different sets of arguments:"
   ]
  },
  {
   "cell_type": "code",
   "execution_count": 20,
   "metadata": {},
   "outputs": [],
   "source": [
    "# Contact.__init__(self, name, email)\n",
    "# AddressHolder.__init__(self, street, city, state, code)"
   ]
  },
  {
   "cell_type": "markdown",
   "metadata": {},
   "source": [
    "How can we manage different sets of arguments when using super? We don't\n",
    "necessarily know which class super is going to try to initialize first. Even if we\n",
    "did, we need a way to pass the \"extra\" arguments so that subsequent calls to\n",
    "super, on other subclasses, receive the right arguments."
   ]
  },
  {
   "cell_type": "markdown",
   "metadata": {},
   "source": [
    "Specifically, if the first call to super passes the name and email arguments\n",
    "to Contact.__init__, and Contact.__init__ then calls super, it needs to\n",
    "be able to pass the address-related arguments to the \"next\" method, which is\n",
    "AddressHolder.__init__."
   ]
  },
  {
   "cell_type": "markdown",
   "metadata": {},
   "source": [
    "This is a problem whenever we want to call superclass methods with the same\n",
    "name, but with different sets of arguments. Most often, the only time you\n",
    "would want to call a superclass with a completely different set of arguments is\n",
    "in __init__, as we're doing here. Even with regular methods, though, we may want\n",
    "to add optional parameters that only make sense to one subclass or set of subclasses."
   ]
  },
  {
   "cell_type": "markdown",
   "metadata": {},
   "source": [
    "Sadly, the only way to solve this problem is to plan for it from the beginning. We\n",
    "have to design our base class parameter lists to accept keyword arguments for any\n",
    "parameters that are not required by every subclass implementation. Finally, we must\n",
    "ensure the method freely accepts unexpected arguments and passes them on to its\n",
    "super call, in case they are necessary to later methods in the inheritance order."
   ]
  },
  {
   "cell_type": "markdown",
   "metadata": {},
   "source": [
    "Python's function parameter syntax provides all the tools we need to do this, but it\n",
    "makes the overall code look cumbersome. Have a look at the proper version of the\n",
    "Friend multiple inheritance code:"
   ]
  },
  {
   "cell_type": "code",
   "execution_count": 21,
   "metadata": {},
   "outputs": [],
   "source": [
    "class Contact:\n",
    " all_contacts = []\n",
    "\n",
    " def __init__(self, name='', email='', **kwargs):\n",
    "     super().__init__(**kwargs)\n",
    "     self.name = name\n",
    "     self.email = email\n",
    "     self.all_contacts.append(self)\n",
    "class AddressHolder:\n",
    " def __init__(self, street='', city='', state='', code='',**kwargs):\n",
    "     super().__init__(**kwargs)\n",
    "     self.street = street\n",
    "     self.city = city\n",
    "     self.state = state\n",
    "     self.code = code\n",
    "class Friend(Contact, AddressHolder):\n",
    " def __init__(self, phone='', **kwargs):\n",
    "     super().__init__(**kwargs)\n",
    "     self.phone = phone"
   ]
  },
  {
   "cell_type": "markdown",
   "metadata": {},
   "source": [
    "We've changed all arguments to keyword arguments by giving them an empty\n",
    "string as a default value. We've also ensured that a **kwargs parameter is included\n",
    "to capture any additional parameters that our particular method doesn't know what\n",
    "to do with. It passes these parameters up to the next class with the super call."
   ]
  },
  {
   "cell_type": "markdown",
   "metadata": {},
   "source": [
    "If you aren't familiar with the **kwargs syntax, it basically collects\n",
    "any keyword arguments passed into the method that were not\n",
    "explicitly listed in the parameter list. These arguments are stored in a\n",
    "dictionary named kwargs (we can call the variable whatever we like,\n",
    "but convention suggests kw, or kwargs). When we call a different\n",
    "method (for example, super().__init__) with a **kwargs\n",
    "syntax, it unpacks the dictionary and passes the results to the method\n",
    "as normal keyword arguments"
   ]
  },
  {
   "cell_type": "markdown",
   "metadata": {},
   "source": [
    "When we pass the **kwargs variable to super, the dictionary does\n",
    "not include any of the variables that were included as explicit keyword arguments.\n",
    "For example, in Friend.__init__, the call to super does not have phone in the\n",
    "kwargs dictionary. If any of the other classes need the phone parameter, we need\n",
    "to ensure it is in the dictionary that is passed. Worse, if we forget to do this, it will\n",
    "be tough to debug because the superclass will not complain, but will simply assign\n",
    "the default value (in this case, an empty string) to the variable."
   ]
  },
  {
   "cell_type": "markdown",
   "metadata": {},
   "source": [
    "There are a few ways to ensure that the variable is passed upwards. Assume the\n",
    "Contact class does, for some reason, need to be initialized with a phone parameter,\n",
    "and the Friend class will also need access to it. We can do any of the following:\n",
    "• Don't include phone as an explicit keyword argument. Instead, leave\n",
    "it in the kwargs dictionary. Friend can look it up using the syntax\n",
    "kwargs['phone']. When it passes **kwargs to the super call, phone\n",
    "will still be in the dictionary.\n",
    "• Make phone an explicit keyword argument but update the kwargs\n",
    "dictionary before passing it to super, using the standard dictionary\n",
    "syntax kwargs['phone'] = phone.\n",
    "• Make phone an explicit keyword argument, but update the kwargs\n",
    "dictionary using the kwargs.update method. This is useful if you have\n",
    "several arguments to update. You can create the dictionary passed into\n",
    "update using either the dict(phone=phone) constructor, or the dictionary\n",
    "syntax {'phone': phone}.\n",
    "• Make phone an explicit keyword argument, but pass it to the super call\n",
    "explicitly with the syntax super().__init__(phone=phone, **kwargs)."
   ]
  },
  {
   "cell_type": "markdown",
   "metadata": {},
   "source": [
    "## Polymorphism"
   ]
  },
  {
   "cell_type": "markdown",
   "metadata": {},
   "source": [
    "It is a\n",
    "fancy name describing a simple concept: different behaviors happen depending on\n",
    "which subclass is being used, without having to explicitly know what the subclass\n",
    "actually is."
   ]
  },
  {
   "cell_type": "markdown",
   "metadata": {},
   "source": [
    "As an example, imagine a program that plays audio files. A media player\n",
    "might need to load an AudioFile object and then play it. We'd put a play() method\n",
    "on the object, which is responsible for decompressing or extracting the audio and\n",
    "routing it to the sound card and speakers. The act of playing an AudioFile could\n",
    "feasibly be as simple as:      \n",
    "         \n",
    "audio_file.play()     \n",
    "    \n",
    "However, the process of decompressing and extracting an audio file is very different\n",
    "for different types of files. The .wav files are stored uncompressed, while .mp3, .wma,\n",
    "and .ogg files all have totally different compression algorithms.      \n",
    "        \n",
    "We can use inheritance with polymorphism to simplify the design. Each type of\n",
    "file can be represented by a different subclass of AudioFile, for example, WavFile,\n",
    "MP3File. Each of these would have a play() method, but that method would be\n",
    "implemented differently for each file to ensure the correct extraction procedure is\n",
    "followed. The media player object would never need to know which subclass of\n",
    "AudioFile it is referring to; it just calls play() and polymorphically lets the object\n",
    "take care of the actual details of playing. Let's look at a quick skeleton showing how\n",
    "this might look:"
   ]
  },
  {
   "cell_type": "code",
   "execution_count": 2,
   "metadata": {},
   "outputs": [],
   "source": [
    "class AudioFile:\n",
    "    def __init__(self, filename):\n",
    "        if not filename.endswith(self.ext):\n",
    "            raise Exception(\"Invalid file format\")\n",
    "        self.filename = filename\n",
    "class MP3File(AudioFile):\n",
    "    ext = \"mp3\"\n",
    "    def play(self):\n",
    "         print(\"playing {} as mp3\".format(self.filename))\n",
    "class WavFile(AudioFile):\n",
    "    ext = \"wav\"\n",
    "    def play(self):\n",
    "        print(\"playing {} as wav\".format(self.filename))\n",
    "class OggFile(AudioFile):\n",
    "    ext = \"ogg\"\n",
    "    def play(self):\n",
    "        print(\"playing {} as ogg\".format(self.filename))"
   ]
  },
  {
   "cell_type": "markdown",
   "metadata": {},
   "source": [
    "All audio files check to ensure that a valid extension was given upon initialization.\n",
    "But did you notice how the __init__ method in the parent class is able to access\n",
    "the ext class variable from different subclasses? That's polymorphism at work. If\n",
    "the filename doesn't end with the correct name, it raises an exception (exceptions\n",
    "will be covered in detail in the next chapter). The fact that AudioFile doesn't\n",
    "actually store a reference to the ext variable doesn't stop it from being able to\n",
    "access it on the subclass"
   ]
  },
  {
   "cell_type": "markdown",
   "metadata": {},
   "source": [
    "The media player\n",
    "can use the exact same code to play a file, no matter what type it is; it doesn't care\n",
    "what subclass of AudioFile it is looking at. The details of decompressing the audio\n",
    "file are encapsulated. If we test this example, it works as we would hope:"
   ]
  },
  {
   "cell_type": "code",
   "execution_count": 3,
   "metadata": {},
   "outputs": [
    {
     "name": "stdout",
     "output_type": "stream",
     "text": [
      "playing myfile.ogg as ogg\n"
     ]
    }
   ],
   "source": [
    "ogg = OggFile(\"myfile.ogg\")\n",
    "ogg.play()"
   ]
  },
  {
   "cell_type": "code",
   "execution_count": 4,
   "metadata": {},
   "outputs": [
    {
     "name": "stdout",
     "output_type": "stream",
     "text": [
      "playing myfile.mp3 as mp3\n"
     ]
    }
   ],
   "source": [
    "mp3 = MP3File(\"myfile.mp3\")\n",
    "mp3.play()\n"
   ]
  },
  {
   "cell_type": "code",
   "execution_count": 5,
   "metadata": {},
   "outputs": [
    {
     "ename": "Exception",
     "evalue": "Invalid file format",
     "output_type": "error",
     "traceback": [
      "\u001b[1;31m---------------------------------------------------------------------------\u001b[0m",
      "\u001b[1;31mException\u001b[0m                                 Traceback (most recent call last)",
      "\u001b[1;32m<ipython-input-5-80a298705989>\u001b[0m in \u001b[0;36m<module>\u001b[1;34m\u001b[0m\n\u001b[1;32m----> 1\u001b[1;33m \u001b[0mnot_an_mp3\u001b[0m \u001b[1;33m=\u001b[0m \u001b[0mMP3File\u001b[0m\u001b[1;33m(\u001b[0m\u001b[1;34m\"myfile.ogg\"\u001b[0m\u001b[1;33m)\u001b[0m\u001b[1;33m\u001b[0m\u001b[1;33m\u001b[0m\u001b[0m\n\u001b[0m",
      "\u001b[1;32m<ipython-input-2-8c957a2da5e7>\u001b[0m in \u001b[0;36m__init__\u001b[1;34m(self, filename)\u001b[0m\n\u001b[0;32m      2\u001b[0m     \u001b[1;32mdef\u001b[0m \u001b[0m__init__\u001b[0m\u001b[1;33m(\u001b[0m\u001b[0mself\u001b[0m\u001b[1;33m,\u001b[0m \u001b[0mfilename\u001b[0m\u001b[1;33m)\u001b[0m\u001b[1;33m:\u001b[0m\u001b[1;33m\u001b[0m\u001b[1;33m\u001b[0m\u001b[0m\n\u001b[0;32m      3\u001b[0m         \u001b[1;32mif\u001b[0m \u001b[1;32mnot\u001b[0m \u001b[0mfilename\u001b[0m\u001b[1;33m.\u001b[0m\u001b[0mendswith\u001b[0m\u001b[1;33m(\u001b[0m\u001b[0mself\u001b[0m\u001b[1;33m.\u001b[0m\u001b[0mext\u001b[0m\u001b[1;33m)\u001b[0m\u001b[1;33m:\u001b[0m\u001b[1;33m\u001b[0m\u001b[1;33m\u001b[0m\u001b[0m\n\u001b[1;32m----> 4\u001b[1;33m             \u001b[1;32mraise\u001b[0m \u001b[0mException\u001b[0m\u001b[1;33m(\u001b[0m\u001b[1;34m\"Invalid file format\"\u001b[0m\u001b[1;33m)\u001b[0m\u001b[1;33m\u001b[0m\u001b[1;33m\u001b[0m\u001b[0m\n\u001b[0m\u001b[0;32m      5\u001b[0m         \u001b[0mself\u001b[0m\u001b[1;33m.\u001b[0m\u001b[0mfilename\u001b[0m \u001b[1;33m=\u001b[0m \u001b[0mfilename\u001b[0m\u001b[1;33m\u001b[0m\u001b[1;33m\u001b[0m\u001b[0m\n\u001b[0;32m      6\u001b[0m \u001b[1;32mclass\u001b[0m \u001b[0mMP3File\u001b[0m\u001b[1;33m(\u001b[0m\u001b[0mAudioFile\u001b[0m\u001b[1;33m)\u001b[0m\u001b[1;33m:\u001b[0m\u001b[1;33m\u001b[0m\u001b[1;33m\u001b[0m\u001b[0m\n",
      "\u001b[1;31mException\u001b[0m: Invalid file format"
     ]
    }
   ],
   "source": [
    "not_an_mp3 = MP3File(\"myfile.ogg\")"
   ]
  },
  {
   "cell_type": "markdown",
   "metadata": {},
   "source": [
    "See how AudioFile.__init__ is able to check the file type without actually\n",
    "knowing what subclass it is referring to?"
   ]
  },
  {
   "cell_type": "markdown",
   "metadata": {},
   "source": [
    "Polymorphism is actually one of the coolest things about object-oriented programming,\n",
    "and it makes some programming designs obvious that weren't possible in earlier\n",
    "paradigms. However, Python makes polymorphism less cool because of duck typing.\n",
    "Duck typing in Python allows us to use any object that provides the required behavior\n",
    "without forcing it to be a subclass. The dynamic nature of Python makes this trivial.\n",
    "The following example does not extend AudioFile, but it can be interacted with in\n",
    "Python using the exact same interface:"
   ]
  },
  {
   "cell_type": "code",
   "execution_count": 7,
   "metadata": {},
   "outputs": [],
   "source": [
    "class FlacFile:\n",
    "    def __init__(self, filename):\n",
    "        if not filename.endswith(\".flac\"):\n",
    "            raise Exception(\"Invalid file format\")\n",
    "        self.filename = filename\n",
    "    def play(self):\n",
    "        print(\"playing {} as flac\".format(self.filename))"
   ]
  },
  {
   "cell_type": "markdown",
   "metadata": {},
   "source": [
    "Our media player can play this object just as easily as one that extends AudioFile."
   ]
  },
  {
   "cell_type": "markdown",
   "metadata": {},
   "source": [
    "Polymorphism is one of the most important reasons to use inheritance in many\n",
    "object-oriented contexts. Because any objects that supply the correct interface can\n",
    "be used interchangeably in Python, it reduces the need for polymorphic common\n",
    "superclasses. Inheritance can still be useful for sharing code but, if all that is being\n",
    "shared is the public interface, duck typing is all that is required. This reduced need\n",
    "for inheritance also reduces the need for multiple inheritance; often, when multiple\n",
    "inheritance appears to be a valid solution, we can just use duck typing to mimic one\n",
    "of the multiple superclasses.     \n",
    "      \n",
    "Of course, just because an object satisfies a particular interface (by providing required\n",
    "methods or attributes) does not mean it will simply work in all situations. It has to\n",
    "fulfill that interface in a way that makes sense in the overall system. Just because an\n",
    "object provides a play() method does not mean it will automatically work with a\n",
    "media player. For example, our chess AI object from Chapter 1, Object-oriented Design,\n",
    "may have a play() method that moves a chess piece. Even though it satisfies the\n",
    "interface, this class would likely break in spectacular ways if we tried to plug it into\n",
    "a media player!"
   ]
  },
  {
   "cell_type": "markdown",
   "metadata": {},
   "source": [
    "## Abstract base classes"
   ]
  },
  {
   "cell_type": "markdown",
   "metadata": {},
   "source": [
    "Python introduced the idea of abstract\n",
    "base classes. Abstract base classes, or ABCs, define a set of methods and properties\n",
    "that a class must implement in order to be considered a duck-type instance of that\n",
    "class. The class can extend the abstract base class itself in order to be used as an\n",
    "instance of that class, but it must supply all the appropriate methods.            \n",
    "In practice, it's rarely necessary to create new abstract base classes, but we may find\n",
    "occasions to implement instances of existing ABCs. We'll cover implementing ABCs\n",
    "first, and then briefly see how to create your own if you should ever need to."
   ]
  },
  {
   "cell_type": "markdown",
   "metadata": {},
   "source": [
    "### Using an abstract base class "
   ]
  },
  {
   "cell_type": "markdown",
   "metadata": {},
   "source": [
    "Most of the abstract base classes that exist in the Python Standard Library live in the\n",
    "collections module. One of the simplest ones is the Container class. Let's inspect\n",
    "it in the Python interpreter to see what methods this class requires:"
   ]
  },
  {
   "cell_type": "code",
   "execution_count": 1,
   "metadata": {},
   "outputs": [
    {
     "data": {
      "text/plain": [
       "frozenset({'__contains__'})"
      ]
     },
     "execution_count": 1,
     "metadata": {},
     "output_type": "execute_result"
    }
   ],
   "source": [
    "from collections import Container\n",
    "Container.__abstractmethods__"
   ]
  },
  {
   "cell_type": "markdown",
   "metadata": {},
   "source": [
    "So, the Container class has exactly one abstract method that needs to be\n",
    "implemented, __contains__. You can issue help(Container.__contains__)\n",
    "to see what the function signature should look like:"
   ]
  },
  {
   "cell_type": "code",
   "execution_count": 2,
   "metadata": {},
   "outputs": [
    {
     "name": "stdout",
     "output_type": "stream",
     "text": [
      "Help on function __contains__ in module collections.abc:\n",
      "\n",
      "__contains__(self, x)\n",
      "\n"
     ]
    }
   ],
   "source": [
    "help(Container.__contains__)"
   ]
  },
  {
   "cell_type": "markdown",
   "metadata": {},
   "source": [
    "So, we see that __contains__ needs to take a single argument. Unfortunately, the\n",
    "help file doesn't tell us much about what that argument should be, but it's pretty\n",
    "obvious from the name of the ABC and the single method it implements that this\n",
    "argument is the value the user is checking to see if the container holds."
   ]
  },
  {
   "cell_type": "markdown",
   "metadata": {},
   "source": [
    "This method is implemented by list, str, and dict to indicate whether or not a\n",
    "given value is in that data structure. However, we can also define a silly container\n",
    "that tells us whether a given value is in the set of odd integers:"
   ]
  },
  {
   "cell_type": "code",
   "execution_count": 3,
   "metadata": {},
   "outputs": [],
   "source": [
    "class OddContainer:\n",
    "    def __contains__(self, x):\n",
    "        if not isinstance(x, int) or not x % 2:\n",
    "            return False\n",
    "        return True"
   ]
  },
  {
   "cell_type": "markdown",
   "metadata": {},
   "source": [
    "Now, we can instantiate an OddContainer object and determine that, even though\n",
    "we did not extend Container, the class is a Container object:"
   ]
  },
  {
   "cell_type": "code",
   "execution_count": 4,
   "metadata": {},
   "outputs": [
    {
     "data": {
      "text/plain": [
       "True"
      ]
     },
     "execution_count": 4,
     "metadata": {},
     "output_type": "execute_result"
    }
   ],
   "source": [
    "from collections import Container\n",
    "odd_container = OddContainer()\n",
    "isinstance(odd_container, Container)"
   ]
  },
  {
   "cell_type": "code",
   "execution_count": 5,
   "metadata": {},
   "outputs": [
    {
     "data": {
      "text/plain": [
       "True"
      ]
     },
     "execution_count": 5,
     "metadata": {},
     "output_type": "execute_result"
    }
   ],
   "source": [
    "issubclass(OddContainer, Container)"
   ]
  },
  {
   "cell_type": "markdown",
   "metadata": {},
   "source": [
    "And that is why duck typing is way more awesome than classical polymorphism.\n",
    "We can create is a relationships without the overhead of using inheritance (or\n",
    "worse, multiple inheritance)."
   ]
  },
  {
   "cell_type": "markdown",
   "metadata": {},
   "source": [
    "The interesting thing about the Container ABC is that any class that implements\n",
    "it gets to use the in keyword for free. In fact, in is just syntax sugar that delegates\n",
    "to the __contains__ method. Any class that has a __contains__ method is a\n",
    "Container and can therefore be queried by the in keyword, for example:"
   ]
  },
  {
   "cell_type": "code",
   "execution_count": 6,
   "metadata": {},
   "outputs": [
    {
     "data": {
      "text/plain": [
       "True"
      ]
     },
     "execution_count": 6,
     "metadata": {},
     "output_type": "execute_result"
    }
   ],
   "source": [
    "1 in odd_container"
   ]
  },
  {
   "cell_type": "code",
   "execution_count": 7,
   "metadata": {},
   "outputs": [
    {
     "data": {
      "text/plain": [
       "False"
      ]
     },
     "execution_count": 7,
     "metadata": {},
     "output_type": "execute_result"
    }
   ],
   "source": [
    "2 in odd_container"
   ]
  },
  {
   "cell_type": "code",
   "execution_count": 8,
   "metadata": {},
   "outputs": [
    {
     "data": {
      "text/plain": [
       "True"
      ]
     },
     "execution_count": 8,
     "metadata": {},
     "output_type": "execute_result"
    }
   ],
   "source": [
    "3 in odd_container"
   ]
  },
  {
   "cell_type": "code",
   "execution_count": 9,
   "metadata": {},
   "outputs": [
    {
     "data": {
      "text/plain": [
       "False"
      ]
     },
     "execution_count": 9,
     "metadata": {},
     "output_type": "execute_result"
    }
   ],
   "source": [
    "\"a string\" in odd_container"
   ]
  },
  {
   "cell_type": "markdown",
   "metadata": {},
   "source": [
    "### Creating an abstract base class"
   ]
  },
  {
   "cell_type": "markdown",
   "metadata": {},
   "source": [
    "As we saw earlier, it's not necessary to have an abstract base class to enable duck\n",
    "typing. However, imagine we were creating a media player with third-party plugins. It\n",
    "is advisable to create an abstract base class in this case to document what API the thirdparty plugins should provide. The abc module provides the tools you need to do this,\n",
    "but I'll warn you in advance, this requires some of Python's most arcane concepts:"
   ]
  },
  {
   "cell_type": "code",
   "execution_count": 12,
   "metadata": {},
   "outputs": [],
   "source": [
    "import abc\n",
    "class MediaLoader(metaclass=abc.ABCMeta):\n",
    "    @abc.abstractmethod\n",
    "    def play(self):\n",
    "        pass\n",
    "    @abc.abstractproperty\n",
    "    def ext(self):\n",
    "        pass\n",
    "    @classmethod\n",
    "    def __subclasshook__(cls, C):\n",
    "        if cls is MediaLoader:\n",
    "            attrs = set(dir(C))\n",
    "            if set(cls.__abstractmethods__) <= attrs:\n",
    "                 return True\n",
    "        return NotImplemented"
   ]
  },
  {
   "cell_type": "markdown",
   "metadata": {},
   "source": [
    "This is a complicated example that includes several Python features that won't be\n",
    "explained until later in this book. It is included here for completeness, but you don't\n",
    "need to understand all of it to get the gist of how to create your own ABC."
   ]
  },
  {
   "cell_type": "markdown",
   "metadata": {},
   "source": [
    "The first weird thing is the metaclass keyword argument that is passed into the\n",
    "class where you would normally see the list of parent classes. This is a rarely used\n",
    "construct from the mystic art of metaclass programming. We won't be covering\n",
    "metaclasses in this book, so all you need to know is that by assigning the ABCMeta\n",
    "metaclass, you are giving your class superpower (or at least superclass) abilities."
   ]
  },
  {
   "cell_type": "markdown",
   "metadata": {},
   "source": [
    "Next, we see the @abc.abstractmethod and @abc.abstractproperty constructs.\n",
    "These are Python decorators. We'll discuss those in Chapter 5, When to Use\n",
    "Object-oriented Programming. For now, just know that by marking a method or\n",
    "property as being abstract, you are stating that any subclass of this class must\n",
    "implement that method or supply that property in order to be considered a\n",
    "proper member of the class."
   ]
  },
  {
   "cell_type": "markdown",
   "metadata": {},
   "source": [
    "See what happens if you implement subclasses that do or don't supply\n",
    "those properties:"
   ]
  },
  {
   "cell_type": "code",
   "execution_count": 13,
   "metadata": {},
   "outputs": [
    {
     "ename": "TypeError",
     "evalue": "Can't instantiate abstract class Wav with abstract methods ext, play",
     "output_type": "error",
     "traceback": [
      "\u001b[1;31m---------------------------------------------------------------------------\u001b[0m",
      "\u001b[1;31mTypeError\u001b[0m                                 Traceback (most recent call last)",
      "\u001b[1;32m<ipython-input-13-bebb16b25f54>\u001b[0m in \u001b[0;36m<module>\u001b[1;34m\u001b[0m\n\u001b[0;32m      1\u001b[0m \u001b[1;32mclass\u001b[0m \u001b[0mWav\u001b[0m\u001b[1;33m(\u001b[0m\u001b[0mMediaLoader\u001b[0m\u001b[1;33m)\u001b[0m\u001b[1;33m:\u001b[0m\u001b[1;33m\u001b[0m\u001b[1;33m\u001b[0m\u001b[0m\n\u001b[0;32m      2\u001b[0m     \u001b[1;32mpass\u001b[0m\u001b[1;33m\u001b[0m\u001b[1;33m\u001b[0m\u001b[0m\n\u001b[1;32m----> 3\u001b[1;33m \u001b[0mx\u001b[0m \u001b[1;33m=\u001b[0m \u001b[0mWav\u001b[0m\u001b[1;33m(\u001b[0m\u001b[1;33m)\u001b[0m\u001b[1;33m\u001b[0m\u001b[1;33m\u001b[0m\u001b[0m\n\u001b[0m",
      "\u001b[1;31mTypeError\u001b[0m: Can't instantiate abstract class Wav with abstract methods ext, play"
     ]
    }
   ],
   "source": [
    "class Wav(MediaLoader):\n",
    "    pass\n",
    "x = Wav()"
   ]
  },
  {
   "cell_type": "code",
   "execution_count": 14,
   "metadata": {},
   "outputs": [],
   "source": [
    "class Ogg(MediaLoader):\n",
    "    ext = '.ogg'\n",
    "    def play(self):\n",
    "        pass\n",
    "o = Ogg()"
   ]
  },
  {
   "cell_type": "markdown",
   "metadata": {},
   "source": [
    "Since the Wav class fails to implement the abstract attributes, it is not possible to\n",
    "instantiate that class. The class is still a legal abstract class, but you'd have to subclass it\n",
    "to actually do anything. The Ogg class supplies both attributes, so it instantiates cleanly."
   ]
  },
  {
   "cell_type": "markdown",
   "metadata": {},
   "source": [
    "Going back to the MediaLoader ABC, let's dissect that __subclasshook__ method.\n",
    "It is basically saying that any class that supplies concrete implementations of all the\n",
    "abstract attributes of this ABC should be considered a subclass of MediaLoader,\n",
    "even if it doesn't actually inherit from the MediaLoader class."
   ]
  },
  {
   "cell_type": "markdown",
   "metadata": {},
   "source": [
    "More common object-oriented languages have a clear separation between the\n",
    "interface and the implementation of a class. For example, some languages provide\n",
    "an explicit interface keyword that allows us to define the methods that a class\n",
    "must have without any implementation. In such an environment, an abstract class is\n",
    "one that provides both an interface and a concrete implementation of some but not\n",
    "all methods. Any class can explicitly state that it implements a given interface.      \n",
    "     \n",
    "Python's ABCs help to supply the functionality of interfaces without compromising\n",
    "on the benefits of duck typing"
   ]
  },
  {
   "cell_type": "markdown",
   "metadata": {},
   "source": [
    "### Demystifying the magic"
   ]
  },
  {
   "cell_type": "markdown",
   "metadata": {},
   "source": [
    "You can copy and paste the subclass code without understanding it if you want\n",
    "to make abstract classes that fulfill this particular contract. We'll cover most of\n",
    "the unusual syntaxes throughout the book, but let's go over it line by line to get\n",
    "an overview.\n"
   ]
  },
  {
   "cell_type": "markdown",
   "metadata": {},
   "source": [
    "@classmethod"
   ]
  },
  {
   "cell_type": "markdown",
   "metadata": {},
   "source": [
    "This decorator marks the method as a class method. It essentially says that the\n",
    "method can be called on a class instead of an instantiated object:"
   ]
  },
  {
   "cell_type": "markdown",
   "metadata": {},
   "source": [
    "def __subclasshook__(cls, C):"
   ]
  },
  {
   "cell_type": "markdown",
   "metadata": {},
   "source": [
    "This defines the __subclasshook__ class method. This special method is called by\n",
    "the Python interpreter to answer the question, Is the class C a subclass of this class?"
   ]
  },
  {
   "cell_type": "markdown",
   "metadata": {},
   "source": [
    "if cls is MediaLoader:"
   ]
  },
  {
   "cell_type": "markdown",
   "metadata": {},
   "source": [
    "We check to see if the method was called specifically on this class, rather than, say a\n",
    "subclass of this class. This prevents, for example, the Wav class from being thought of\n",
    "as a parent class of the Ogg class:"
   ]
  },
  {
   "cell_type": "markdown",
   "metadata": {},
   "source": [
    "attrs = set(dir(C))"
   ]
  },
  {
   "cell_type": "markdown",
   "metadata": {},
   "source": [
    "All this line does is get the set of methods and properties that the class has, including\n",
    "any parent classes in its class hierarchy:"
   ]
  },
  {
   "cell_type": "markdown",
   "metadata": {},
   "source": [
    "if set(cls.__abstractmethods__) <= attrs:\n"
   ]
  },
  {
   "cell_type": "markdown",
   "metadata": {},
   "source": [
    "This line uses set notation to see whether the set of abstract methods in this class\n",
    "have been supplied in the candidate class. Note that it doesn't check to see whether\n",
    "the methods have been implemented, just if they are there. Thus, it's possible for a\n",
    "class to be a subclass and yet still be an abstract class itself."
   ]
  },
  {
   "cell_type": "markdown",
   "metadata": {},
   "source": [
    "return True"
   ]
  },
  {
   "cell_type": "markdown",
   "metadata": {},
   "source": [
    "If all the abstract methods have been supplied, then the candidate class is a subclass\n",
    "of this class and we return True. The method can legally return one of the three\n",
    "values: True, False, or NotImplemented. True and False indicate that the class is\n",
    "or is not definitively a subclass of this class:"
   ]
  },
  {
   "cell_type": "markdown",
   "metadata": {},
   "source": [
    "return NotImplemented"
   ]
  },
  {
   "cell_type": "markdown",
   "metadata": {},
   "source": [
    "If any of the conditionals have not been met (that is, the class is not MediaLoader\n",
    "or not all abstract methods have been supplied), then return NotImplemented. This\n",
    "tells the Python machinery to use the default mechanism (does the candidate class\n",
    "explicitly extend this class?) for subclass detection.      \n",
    "     \n",
    "In short, we can now define the Ogg class as a subclass of the MediaLoader class\n",
    "without actually extending the MediaLoader class:"
   ]
  },
  {
   "cell_type": "code",
   "execution_count": 17,
   "metadata": {},
   "outputs": [
    {
     "data": {
      "text/plain": [
       "True"
      ]
     },
     "execution_count": 17,
     "metadata": {},
     "output_type": "execute_result"
    }
   ],
   "source": [
    "class Ogg():\n",
    "    ext = '.ogg'\n",
    "    def play(self):\n",
    "        print(\"this will play an ogg file\")\n",
    "issubclass(Ogg, MediaLoader)"
   ]
  },
  {
   "cell_type": "code",
   "execution_count": 18,
   "metadata": {},
   "outputs": [
    {
     "data": {
      "text/plain": [
       "True"
      ]
     },
     "execution_count": 18,
     "metadata": {},
     "output_type": "execute_result"
    }
   ],
   "source": [
    "isinstance(Ogg(), MediaLoader)"
   ]
  },
  {
   "cell_type": "markdown",
   "metadata": {},
   "source": [
    "## Case study"
   ]
  },
  {
   "cell_type": "markdown",
   "metadata": {},
   "source": [
    "We'll be\n",
    "designing a simple real estate application that allows an agent to manage properties\n",
    "available for purchase or rent. There will be two types of properties: apartments and\n",
    "houses. The agent needs to be able to enter a few relevant details about new properties,\n",
    "list all currently available properties, and mark a property as sold or rented. For\n",
    "brevity, we won't worry about editing property details or reactivating a property\n",
    "after it is sold."
   ]
  },
  {
   "cell_type": "markdown",
   "metadata": {},
   "source": [
    "House and Apartment are both types of properties, so Property can be a superclass\n",
    "of those two classes."
   ]
  },
  {
   "cell_type": "markdown",
   "metadata": {},
   "source": [
    "Rental and Purchase will need some extra thought; if we use\n",
    "inheritance, we'll need to have separate classes, for example, for HouseRental and\n",
    "HousePurchase, and use multiple inheritance to combine them. This feels a little\n",
    "clunky compared to a composition or association-based design, but let's run with\n",
    "it and see what we come up with."
   ]
  },
  {
   "cell_type": "markdown",
   "metadata": {},
   "source": [
    "Now then, what attributes might be associated with a Property class? Regardless\n",
    "of whether it is an apartment or a house, most people will want to know the square\n",
    "footage, number of bedrooms, and number of bathrooms. (There are numerous\n",
    "other attributes that might be modeled, but we'll keep it simple for our prototype.)\n"
   ]
  },
  {
   "cell_type": "markdown",
   "metadata": {},
   "source": [
    "If the property is a house, it will want to advertise the number of stories, whether\n",
    "it has a garage (attached, detached, or none), and whether the yard is fenced. An\n",
    "apartment will want to indicate if it has a balcony, and if the laundry is ensuite,\n",
    "coin, or off-site."
   ]
  },
  {
   "cell_type": "markdown",
   "metadata": {},
   "source": [
    "Both property types will require a method to display the characteristics of that\n",
    "property. At the moment, no other behaviors are apparent."
   ]
  },
  {
   "cell_type": "markdown",
   "metadata": {},
   "source": [
    "Rental properties will need to store the rent per month, whether the property is\n",
    "furnished, and whether utilities are included, and if not, what they are estimated to\n",
    "be. Properties for purchase will need to store the purchase price and estimated annual\n",
    "property taxes. For our application, we'll only need to display this data, so we can get\n",
    "away with just adding a display() method similar to that used in the other classes."
   ]
  },
  {
   "cell_type": "markdown",
   "metadata": {},
   "source": [
    "Finally, we'll need an Agent object that holds a list of all properties, displays those\n",
    "properties, and allows us to create new ones. Creating properties will entail prompting\n",
    "the user for the relevant details for each property type. This could be done in the Agent\n",
    "object, but then Agent would need to know a lot of information about the types of\n",
    "properties. This is not taking advantage of polymorphism. Another alternative would\n",
    "be to put the prompts in the initializer or even a constructor for each class, but this\n",
    "would not allow the classes to be applied in a GUI or web application in the future. A\n",
    "better idea is to create a static method that does the prompting and returns a dictionary\n",
    "of the prompted parameters. Then, all the Agent has to do is prompt the user for the\n",
    "type of property and payment method, and ask the correct class to instantiate itself."
   ]
  },
  {
   "cell_type": "code",
   "execution_count": 20,
   "metadata": {},
   "outputs": [],
   "source": [
    "class Property:\n",
    "    def __init__(self, square_feet='', beds='',baths='', **kwargs):\n",
    "        super().__init__(**kwargs)\n",
    "        self.square_feet = square_feet\n",
    "        self.num_bedrooms = beds\n",
    "        self.num_baths = baths\n",
    "    def display(self):\n",
    "        print(\"PROPERTY DETAILS\")\n",
    "        print(\"================\")\n",
    "        print(\"square footage: {}\".format(self.square_feet))\n",
    "        print(\"bedrooms: {}\".format(self.num_bedrooms))\n",
    "        print(\"bathrooms: {}\".format(self.num_baths))\n",
    "        print()\n",
    "    def prompt_init():\n",
    "        return dict(square_feet=input(\"Enter the square feet: \"),beds=input(\"Enter number of bedrooms: \"),baths=input(\"Enter number of baths: \"))\n",
    "    prompt_init = staticmethod(prompt_init)"
   ]
  },
  {
   "cell_type": "markdown",
   "metadata": {},
   "source": [
    "This class is pretty straightforward. We've already added the extra **kwargs\n",
    "parameter to __init__ because we know it's going to be used in a multiple\n",
    "inheritance situation. We've also included a call to super().__init__ in case we\n",
    "are not the last call in the multiple inheritance chain. In this case, we're consuming\n",
    "the keyword arguments because we know they won't be needed at other levels of\n",
    "the inheritance hierarchy"
   ]
  },
  {
   "cell_type": "markdown",
   "metadata": {},
   "source": [
    "We see something new in the prompt_init method. This method is made into a\n",
    "static method immediately after it is initially created. Static methods are associated\n",
    "only with a class (something like class variables), rather than a specific object\n",
    "instance. Hence, they have no self argument. Because of this, the super keyword\n",
    "won't work (there is no parent object, only a parent class), so we simply call the static\n",
    "method on the parent class directly. This method uses the Python dict constructor\n",
    "to create a dictionary of values that can be passed into __init__. The value for each\n",
    "key is prompted with a call to input."
   ]
  },
  {
   "cell_type": "markdown",
   "metadata": {},
   "source": [
    "The Apartment class extends Property, and is similar in structure:"
   ]
  },
  {
   "cell_type": "code",
   "execution_count": 22,
   "metadata": {},
   "outputs": [],
   "source": [
    "class Apartment(Property):\n",
    "    valid_laundries = (\"coin\", \"ensuite\", \"none\")\n",
    "    valid_balconies = (\"yes\", \"no\", \"solarium\")\n",
    "    def __init__(self, balcony='', laundry='', **kwargs):\n",
    "        super().__init__(**kwargs)\n",
    "        self.balcony = balcony\n",
    "        self.laundry = laundry\n",
    "    def display(self):\n",
    "        super().display()\n",
    "        print(\"APARTMENT DETAILS\")\n",
    "        print(\"laundry: %s\" % self.laundry)\n",
    "        print(\"has balcony: %s\" % self.balcony)\n",
    "    def prompt_init():\n",
    "        parent_init = Property.prompt_init()\n",
    "        laundry = ''\n",
    "        while laundry.lower() not in Apartment.valid_laundries:\n",
    "            laundry = input(\"What laundry facilities does \"\"the property have? ({})\".format(\", \".join(Apartment.valid_laundries)))\n",
    "        balcony = ''\n",
    "        while balcony.lower() not in Apartment.valid_balconies:\n",
    "            balcony = input(\"Does the property have a balcony? \"\"({})\".format(\", \".join(Apartment.valid_balconies)))\n",
    "        parent_init.update({\"laundry\": laundry,\"balcony\": balcony})\n",
    "        return parent_init\n",
    "    prompt_init = staticmethod(prompt_init)"
   ]
  },
  {
   "cell_type": "markdown",
   "metadata": {},
   "source": [
    "The display() and __init__() methods call their respective parent class methods\n",
    "using super() to ensure the Property class is properly initialized."
   ]
  },
  {
   "cell_type": "markdown",
   "metadata": {},
   "source": [
    "The prompt_init static method is now getting dictionary values from the parent\n",
    "class, and then adding some additional values of its own. It calls the dict.update\n",
    "method to merge the new dictionary values into the first one. However, that\n",
    "prompt_init method is looking pretty ugly; it loops twice until the user enters a\n",
    "valid input using structurally similar code but different variables. It would be nice\n",
    "to extract this validation logic so we can maintain it in only one location; it will likely\n",
    "also be useful to later classes."
   ]
  },
  {
   "cell_type": "markdown",
   "metadata": {},
   "source": [
    "With all the talk on inheritance, we might think this is a good place to use a mixin.\n",
    "Instead, we have a chance to study a situation where inheritance is not the best\n",
    "solution. The method we want to create will be used in a static method. If we were\n",
    "to inherit from a class that provided validation functionality, the functionality would\n",
    "also have to be provided as a static method that did not access any instance variables\n",
    "on the class. If it doesn't access any instance variables, what's the point of making it\n",
    "a class at all? Why don't we just make this validation functionality a module-level\n",
    "function that accepts an input string and a list of valid answers, and leave it at that?"
   ]
  },
  {
   "cell_type": "markdown",
   "metadata": {},
   "source": [
    "Let's explore what this validation function would look like:"
   ]
  },
  {
   "cell_type": "code",
   "execution_count": 23,
   "metadata": {},
   "outputs": [],
   "source": [
    "def get_valid_input(input_string, valid_options):\n",
    "    input_string += \" ({}) \".format(\", \".join(valid_options))\n",
    "    response = input(input_string)\n",
    "    while response.lower() not in valid_options:\n",
    "        response = input(input_string)\n",
    "    return response"
   ]
  },
  {
   "cell_type": "markdown",
   "metadata": {},
   "source": [
    "We can test this function in the interpreter, independent of all the other classes we've\n",
    "been working on. This is a good sign, it means different pieces of our design are not\n",
    "tightly coupled to each other and can later be improved independently, without\n",
    "affecting other pieces of code"
   ]
  },
  {
   "cell_type": "code",
   "execution_count": 25,
   "metadata": {},
   "outputs": [
    {
     "name": "stdout",
     "output_type": "stream",
     "text": [
      "what laundry? (coin, ensuite, none) soumi\n",
      "what laundry? (coin, ensuite, none) summu\n",
      "what laundry? (coin, ensuite, none) summi\n",
      "what laundry? (coin, ensuite, none) ensuiTe\n"
     ]
    },
    {
     "data": {
      "text/plain": [
       "'ensuiTe'"
      ]
     },
     "execution_count": 25,
     "metadata": {},
     "output_type": "execute_result"
    }
   ],
   "source": [
    "get_valid_input(\"what laundry?\", (\"coin\", \"ensuite\", \"none\"))"
   ]
  },
  {
   "cell_type": "markdown",
   "metadata": {},
   "source": [
    "Now, let's quickly update our Apartment.prompt_init method to use this new\n",
    "function for validation:"
   ]
  },
  {
   "cell_type": "code",
   "execution_count": 26,
   "metadata": {},
   "outputs": [],
   "source": [
    "def prompt_init():\n",
    "    parent_init = Property.prompt_init()\n",
    "    laundry = get_valid_input(\"What laundry facilities does \"\"the property have? \",Apartment.valid_laundries)\n",
    "    balcony = get_valid_input(\"Does the property have a balcony? \",Apartment.valid_balconies)\n",
    "    parent_init.update({\"laundry\": laundry,\"balcony\": balcony})\n",
    "    return parent_init\n",
    "prompt_init = staticmethod(prompt_init)"
   ]
  },
  {
   "cell_type": "markdown",
   "metadata": {},
   "source": [
    "That's much easier to read (and maintain!) than our original version. Now we're\n",
    "ready to build the House class. This class has a parallel structure to Apartment,\n",
    "but refers to different prompts and variables:"
   ]
  },
  {
   "cell_type": "code",
   "execution_count": 27,
   "metadata": {},
   "outputs": [],
   "source": [
    "class House(Property):\n",
    "    valid_garage = (\"attached\", \"detached\", \"none\")\n",
    "    valid_fenced = (\"yes\", \"no\")\n",
    "    def __init__(self, num_stories='',garage='', fenced='', **kwargs):\n",
    "        super().__init__(**kwargs)\n",
    "        self.garage = garage\n",
    "        self.fenced = fenced\n",
    "        self.num_stories = num_stories\n",
    "    def display(self):\n",
    "        super().display()\n",
    "        print(\"HOUSE DETAILS\")\n",
    "        print(\"# of stories: {}\".format(self.num_stories))\n",
    "        print(\"garage: {}\".format(self.garage))\n",
    "        print(\"fenced yard: {}\".format(self.fenced))\n",
    "    def prompt_init():\n",
    "        parent_init = Property.prompt_init()\n",
    "        fenced = get_valid_input(\"Is the yard fenced? \",House.valid_fenced)\n",
    "        garage = get_valid_input(\"Is there a garage? \",House.valid_garage)\n",
    "        num_stories = input(\"How many stories? \")\n",
    "        parent_init.update({\"fenced\": fenced,\"garage\": garage,\"num_stories\": num_stories})\n",
    "        return parent_init\n",
    "    prompt_init = staticmethod(prompt_init)"
   ]
  },
  {
   "cell_type": "markdown",
   "metadata": {},
   "source": [
    "There's nothing new to explore here, so let's move on to the Purchase and Rental\n",
    "classes. In spite of having apparently different purposes, they are also similar in\n",
    "design to the ones we just discussed:"
   ]
  },
  {
   "cell_type": "code",
   "execution_count": 28,
   "metadata": {},
   "outputs": [],
   "source": [
    "class Purchase:\n",
    "    def __init__(self, price='', taxes='', **kwargs):\n",
    "        super().__init__(**kwargs)\n",
    "        self.price = price\n",
    "        self.taxes = taxes\n",
    "    def display(self):\n",
    "        super().display()\n",
    "        print(\"PURCHASE DETAILS\")\n",
    "        print(\"selling price: {}\".format(self.price))\n",
    "        print(\"estimated taxes: {}\".format(self.taxes))\n",
    "    def prompt_init():\n",
    "        return dict(price=input(\"What is the selling price? \"),taxes=input(\"What are the estimated taxes? \"))\n",
    "    prompt_init = staticmethod(prompt_init)\n",
    "class Rental:\n",
    "    def __init__(self, furnished='', utilities='',rent='', **kwargs):\n",
    "        super().__init__(**kwargs)\n",
    "        self.furnished = furnished\n",
    "        self.rent = rent\n",
    "        self.utilities = utilities\n",
    "    def display(self):\n",
    "        super().display()\n",
    "        print(\"RENTAL DETAILS\")\n",
    "        print(\"rent: {}\".format(self.rent))\n",
    "        print(\"estimated utilities: {}\".format(self.utilities))\n",
    "        print(\"furnished: {}\".format(self.furnished))\n",
    "    def prompt_init():\n",
    "        return dict(rent=input(\"What is the monthly rent? \"),utilities=input(\"What are the estimated utilities? \"),furnished = get_valid_input(\"Is the property furnished? \",(\"yes\", \"no\")))\n",
    "    prompt_init = staticmethod(prompt_init)"
   ]
  },
  {
   "cell_type": "markdown",
   "metadata": {},
   "source": [
    "These two classes don't have a superclass (other than object), but we still call\n",
    "super().__init__ because they are going to be combined with the other classes, and\n",
    "we don't know what order the super calls will be made in. The interface is similar\n",
    "to that used for House and Apartment, which is very useful when we combine the\n",
    "functionality of these four classes in separate subclasses. For example:"
   ]
  },
  {
   "cell_type": "code",
   "execution_count": 30,
   "metadata": {},
   "outputs": [],
   "source": [
    "class HouseRental(Rental, House):\n",
    "    def prompt_init():\n",
    "        init = House.prompt_init()\n",
    "        init.update(Rental.prompt_init())\n",
    "        return init\n",
    "    prompt_init = staticmethod(prompt_init)"
   ]
  },
  {
   "cell_type": "markdown",
   "metadata": {},
   "source": [
    "This is slightly surprising, as the class on its own has neither an __init__ nor display\n",
    "method! Because both parent classes appropriately call super in these methods, we\n",
    "only have to extend those classes and the classes will behave in the correct order. This\n",
    "is not the case with prompt_init, of course, since it is a static method that does not call\n",
    "super, so we implement this one explicitly. We should test this class to make sure it is\n",
    "behaving properly before we write the other three combinations:"
   ]
  },
  {
   "cell_type": "code",
   "execution_count": 31,
   "metadata": {},
   "outputs": [
    {
     "name": "stdout",
     "output_type": "stream",
     "text": [
      "Enter the square feet: 1\n",
      "Enter number of bedrooms: 2\n",
      "Enter number of baths: 3\n",
      "Is the yard fenced?  (yes, no) no\n",
      "Is there a garage?  (attached, detached, none) none\n",
      "How many stories? 4\n",
      "What is the monthly rent? 5\n",
      "What are the estimated utilities? 6\n",
      "Is the property furnished?  (yes, no) no\n"
     ]
    }
   ],
   "source": [
    "init = HouseRental.prompt_init()"
   ]
  },
  {
   "cell_type": "code",
   "execution_count": 32,
   "metadata": {},
   "outputs": [],
   "source": [
    "house = HouseRental(**init)"
   ]
  },
  {
   "cell_type": "code",
   "execution_count": 33,
   "metadata": {},
   "outputs": [
    {
     "name": "stdout",
     "output_type": "stream",
     "text": [
      "PROPERTY DETAILS\n",
      "================\n",
      "square footage: 1\n",
      "bedrooms: 2\n",
      "bathrooms: 3\n",
      "\n",
      "HOUSE DETAILS\n",
      "# of stories: 4\n",
      "garage: none\n",
      "fenced yard: no\n",
      "RENTAL DETAILS\n",
      "rent: 5\n",
      "estimated utilities: 6\n",
      "furnished: no\n"
     ]
    }
   ],
   "source": [
    "house.display()"
   ]
  },
  {
   "cell_type": "markdown",
   "metadata": {},
   "source": [
    "It looks like it is working fine. The prompt_init method is prompting for initializers to\n",
    "all the super classes, and display() is also cooperatively calling all three superclasses."
   ]
  },
  {
   "cell_type": "markdown",
   "metadata": {},
   "source": [
    "The order of the inherited classes in the preceding example is important.\n",
    "If we had written class HouseRental(House, Rental) instead of\n",
    "class HouseRental(Rental, House), display() would not have\n",
    "called Rental.display()! When display is called on our version of\n",
    "HouseRental, it refers to the Rental version of the method, which calls\n",
    "super.display() to get the House version, which again calls super.\n",
    "display() to get the property version. If we reversed it, display\n",
    "would refer to the House class's display(). When super is called, it\n",
    "calls the method on the Property parent class. But Property does\n",
    "not have a call to super in its display method. This means Rental\n",
    "class's display method would not be called! By placing the inheritance\n",
    "list in the order we did, we ensure that Rental calls super, which then\n",
    "takes care of the House side of the hierarchy. You might think we could\n",
    "have added a super call to Property.display(), but that will fail\n",
    "because the next superclass of Property is object, and object does\n",
    "not have a display method. Another way to fix this is to allow Rental\n",
    "and Purchase to extend the Property class instead of deriving\n",
    "directly from object. (Or we could modify the method resolution order\n",
    "dynamically, but that is beyond the scope of this book.)"
   ]
  },
  {
   "cell_type": "markdown",
   "metadata": {},
   "source": [
    "Now that we have tested it, we are prepared to create the rest of our\n",
    "combined subclasses:"
   ]
  },
  {
   "cell_type": "code",
   "execution_count": 34,
   "metadata": {},
   "outputs": [],
   "source": [
    "class ApartmentRental(Rental, Apartment):\n",
    "    def prompt_init():\n",
    "        init = Apartment.prompt_init()\n",
    "        init.update(Rental.prompt_init())\n",
    "        return init\n",
    "    prompt_init = staticmethod(prompt_init)\n",
    "class ApartmentPurchase(Purchase, Apartment):\n",
    "    def prompt_init():\n",
    "        init = Apartment.prompt_init()\n",
    "        init.update(Purchase.prompt_init())\n",
    "        return init\n",
    "    prompt_init = staticmethod(prompt_init)\n",
    "class HousePurchase(Purchase, House):\n",
    "    def prompt_init():\n",
    "        init = House.prompt_init()\n",
    "        init.update(Purchase.prompt_init())\n",
    "        return init\n",
    "    prompt_init = staticmethod(prompt_init)"
   ]
  },
  {
   "cell_type": "markdown",
   "metadata": {},
   "source": [
    "That should be the most intense designing out of our way! Now all we have to do is\n",
    "create the Agent class, which is responsible for creating new listings and displaying\n",
    "existing ones. Let's start with the simpler storing and listing of properties:"
   ]
  },
  {
   "cell_type": "code",
   "execution_count": 46,
   "metadata": {},
   "outputs": [],
   "source": [
    "class Agent:\n",
    "    def __init__(self):\n",
    "        self.property_list = []\n",
    "    def display_properties(self):\n",
    "        for property in self.property_list:\n",
    "            property.display()\n",
    "    type_map = {(\"house\", \"rental\"): HouseRental,(\"house\", \"purchase\"): HousePurchase,(\"apartment\", \"rental\"): ApartmentRental,(\"apartment\", \"purchase\"): ApartmentPurchase}\n",
    "    def add_property(self):\n",
    "        property_type = get_valid_input(\"What type of property? \",(\"house\", \"apartment\")).lower()\n",
    "        payment_type = get_valid_input(\"What payment type? \",(\"purchase\", \"rental\")).lower()\n",
    "        PropertyClass = self.type_map[(property_type, payment_type)]\n",
    "        init_args = PropertyClass.prompt_init()\n",
    "        self.property_list.append(PropertyClass(**init_args))\n",
    "    "
   ]
  },
  {
   "cell_type": "markdown",
   "metadata": {},
   "source": [
    "Adding a property will require first querying the type of property and whether\n",
    "property is for purchase or rental. We can do this by displaying a simple menu.\n",
    "Once this has been determined, we can extract the correct subclass and prompt for\n",
    "all the details using the prompt_init hierarchy we've already developed. Sounds\n",
    "simple? It is. Let's start by adding a dictionary class variable to the Agent class:"
   ]
  },
  {
   "cell_type": "code",
   "execution_count": 47,
   "metadata": {},
   "outputs": [],
   "source": [
    "type_map = {\n",
    " (\"house\", \"rental\"): HouseRental,\n",
    " (\"house\", \"purchase\"): HousePurchase,\n",
    " (\"apartment\", \"rental\"): ApartmentRental,\n",
    " (\"apartment\", \"purchase\"): ApartmentPurchase\n",
    " }"
   ]
  },
  {
   "cell_type": "markdown",
   "metadata": {},
   "source": [
    "That's some pretty funny looking code. This is a dictionary, where the keys are tuples\n",
    "of two distinct strings, and the values are class objects. Class objects? Yes, classes\n",
    "can be passed around, renamed, and stored in containers just like normal objects or\n",
    "primitive data types. With this simple dictionary, we can simply hijack our earlier\n",
    "get_valid_input method to ensure we get the correct dictionary keys and look up\n",
    "the appropriate class, like this:\n"
   ]
  },
  {
   "cell_type": "code",
   "execution_count": 48,
   "metadata": {},
   "outputs": [],
   "source": [
    "def add_property(self):\n",
    "    property_type = get_valid_input(\"What type of property? \",(\"house\", \"apartment\")).lower()\n",
    "    payment_type = get_valid_input(\"What payment type? \",(\"purchase\", \"rental\")).lower()\n",
    "    PropertyClass = self.type_map[(property_type, payment_type)]\n",
    "    init_args = PropertyClass.prompt_init()\n",
    "    self.property_list.append(PropertyClass(**init_args))"
   ]
  },
  {
   "cell_type": "markdown",
   "metadata": {},
   "source": [
    "This may look a bit funny too! We look up the class in the dictionary and store it in\n",
    "a variable named PropertyClass. We don't know exactly which class is available,\n",
    "but the class knows itself, so we can polymorphically call prompt_init to get a\n",
    "dictionary of values appropriate to pass into the constructor. Then we use the\n",
    "keyword argument syntax to convert the dictionary into arguments and construct\n",
    "the new object to load the correct data."
   ]
  },
  {
   "cell_type": "markdown",
   "metadata": {},
   "source": [
    "Now our user can use this Agent class to add and view lists of properties. It wouldn't\n",
    "take much work to add features to mark a property as available or unavailable or\n",
    "to edit and remove properties. Our prototype is now in a good enough state to take\n",
    "to a real estate agent and demonstrate its functionality. Here's how a demo session\n",
    "might work:"
   ]
  },
  {
   "cell_type": "code",
   "execution_count": 49,
   "metadata": {},
   "outputs": [
    {
     "name": "stdout",
     "output_type": "stream",
     "text": [
      "What type of property?  (house, apartment) house\n",
      "What payment type?  (purchase, rental) rental\n",
      "Enter the square feet: 900\n",
      "Enter number of bedrooms: 2\n",
      "Enter number of baths: one and a half\n",
      "Is the yard fenced?  (yes, no) yes\n",
      "Is there a garage?  (attached, detached, none) detached\n",
      "How many stories? 1\n",
      "What is the monthly rent? 1200\n",
      "What are the estimated utilities? included\n",
      "Is the property furnished?  (yes, no) no\n"
     ]
    }
   ],
   "source": [
    "agent = Agent()\n",
    "agent.add_property()"
   ]
  },
  {
   "cell_type": "code",
   "execution_count": 50,
   "metadata": {},
   "outputs": [
    {
     "name": "stdout",
     "output_type": "stream",
     "text": [
      "What type of property?  (house, apartment) apartment\n",
      "What payment type?  (purchase, rental) purchase\n",
      "Enter the square feet: 800\n",
      "Enter number of bedrooms: 3\n",
      "Enter number of baths: 2\n",
      "What laundry facilities does the property have? (coin, ensuite, none)ensuite\n",
      "Does the property have a balcony? (yes, no, solarium)yes\n",
      "What is the selling price? $200,000\n",
      "What are the estimated taxes? 1500\n"
     ]
    }
   ],
   "source": [
    "agent.add_property()"
   ]
  },
  {
   "cell_type": "code",
   "execution_count": 51,
   "metadata": {},
   "outputs": [
    {
     "name": "stdout",
     "output_type": "stream",
     "text": [
      "PROPERTY DETAILS\n",
      "================\n",
      "square footage: 900\n",
      "bedrooms: 2\n",
      "bathrooms: one and a half\n",
      "\n",
      "HOUSE DETAILS\n",
      "# of stories: 1\n",
      "garage: detached\n",
      "fenced yard: yes\n",
      "RENTAL DETAILS\n",
      "rent: 1200\n",
      "estimated utilities: included\n",
      "furnished: no\n",
      "PROPERTY DETAILS\n",
      "================\n",
      "square footage: 800\n",
      "bedrooms: 3\n",
      "bathrooms: 2\n",
      "\n",
      "APARTMENT DETAILS\n",
      "laundry: ensuite\n",
      "has balcony: yes\n",
      "PURCHASE DETAILS\n",
      "selling price: $200,000\n",
      "estimated taxes: 1500\n"
     ]
    }
   ],
   "source": [
    "agent.display_properties()"
   ]
  },
  {
   "cell_type": "code",
   "execution_count": null,
   "metadata": {},
   "outputs": [],
   "source": []
  }
 ],
 "metadata": {
  "kernelspec": {
   "display_name": "Python 3 (ipykernel)",
   "language": "python",
   "name": "python3"
  },
  "language_info": {
   "codemirror_mode": {
    "name": "ipython",
    "version": 3
   },
   "file_extension": ".py",
   "mimetype": "text/x-python",
   "name": "python",
   "nbconvert_exporter": "python",
   "pygments_lexer": "ipython3",
   "version": "3.6.13"
  }
 },
 "nbformat": 4,
 "nbformat_minor": 4
}

{
 "cells": [
  {
   "cell_type": "markdown",
   "id": "21d0100a",
   "metadata": {},
   "source": [
    "In our examples so far, we've already seen many of the built-in Python data\n",
    "structures in action. You've probably also covered many of them in introductory\n",
    "books or tutorials. In this chapter, we'll be discussing the object-oriented features\n",
    "of these data structures, when they should be used instead of a regular class, and\n",
    "when they should not be used."
   ]
  },
  {
   "cell_type": "markdown",
   "id": "3953f4f4",
   "metadata": {},
   "source": [
    "## Empty objects"
   ]
  },
  {
   "cell_type": "markdown",
   "id": "15d7bea7",
   "metadata": {},
   "source": [
    "Let's start with the most basic Python built-in, one that we've seen many times\n",
    "already, the one that we've extended in every class we have created: the object.\n",
    "Technically, we can instantiate an object without writing a subclass:\n"
   ]
  },
  {
   "cell_type": "code",
   "execution_count": 1,
   "id": "5573940b",
   "metadata": {},
   "outputs": [
    {
     "ename": "AttributeError",
     "evalue": "'object' object has no attribute 'x'",
     "output_type": "error",
     "traceback": [
      "\u001b[1;31m---------------------------------------------------------------------------\u001b[0m",
      "\u001b[1;31mAttributeError\u001b[0m                            Traceback (most recent call last)",
      "\u001b[1;32m<ipython-input-1-dd0075b21c30>\u001b[0m in \u001b[0;36m<module>\u001b[1;34m\u001b[0m\n\u001b[0;32m      1\u001b[0m \u001b[0mo\u001b[0m \u001b[1;33m=\u001b[0m \u001b[0mobject\u001b[0m\u001b[1;33m(\u001b[0m\u001b[1;33m)\u001b[0m\u001b[1;33m\u001b[0m\u001b[1;33m\u001b[0m\u001b[0m\n\u001b[1;32m----> 2\u001b[1;33m \u001b[0mo\u001b[0m\u001b[1;33m.\u001b[0m\u001b[0mx\u001b[0m \u001b[1;33m=\u001b[0m \u001b[1;36m5\u001b[0m\u001b[1;33m\u001b[0m\u001b[1;33m\u001b[0m\u001b[0m\n\u001b[0m",
      "\u001b[1;31mAttributeError\u001b[0m: 'object' object has no attribute 'x'"
     ]
    }
   ],
   "source": [
    "o = object()\n",
    "o.x = 5"
   ]
  },
  {
   "cell_type": "markdown",
   "id": "6b5cb6b6",
   "metadata": {},
   "source": [
    "Unfortunately, as you can see, it's not possible to set any attributes on an object that\n",
    "was instantiated directly. This isn't because the Python developers wanted to force\n",
    "us to write our own classes, or anything so sinister. They did this to save memory; a\n",
    "lot of memory. When Python allows an object to have arbitrary attributes, it takes a\n",
    "certain amount of system memory to keep track of what attributes each object has, for\n",
    "storing both the attribute name and its value. Even if no attributes are stored, memory\n",
    "is allocated for potential new attributes. Given the dozens, hundreds, or thousands of\n",
    "objects (every class extends object) in a typical Python program; this small amount\n",
    "of memory would quickly become a large amount of memory. So, Python disables\n",
    "arbitrary properties on object, and several other built-ins, by default."
   ]
  },
  {
   "cell_type": "markdown",
   "id": "438c763a",
   "metadata": {},
   "source": [
    "It is possible to restrict arbitrary properties on our own classes using\n",
    "slots. Slots are beyond the scope of this book, but you now have a\n",
    "search term if you are looking for more information. In normal use,\n",
    "there isn't much benefit to using slots, but if you're writing an object\n",
    "that will be duplicated thousands of times throughout the system,\n",
    "they can help save memory, just as they do for object."
   ]
  },
  {
   "cell_type": "markdown",
   "id": "c13679d3",
   "metadata": {},
   "source": [
    "It is, however, trivial to create an empty object class of our own"
   ]
  },
  {
   "cell_type": "code",
   "execution_count": 2,
   "id": "bb046d99",
   "metadata": {},
   "outputs": [],
   "source": [
    "class MyObject:\n",
    "    pass"
   ]
  },
  {
   "cell_type": "code",
   "execution_count": 3,
   "id": "adf54227",
   "metadata": {},
   "outputs": [
    {
     "data": {
      "text/plain": [
       "'hello'"
      ]
     },
     "execution_count": 3,
     "metadata": {},
     "output_type": "execute_result"
    }
   ],
   "source": [
    "m = MyObject()\n",
    "m.x = \"hello\"\n",
    "m.x"
   ]
  },
  {
   "cell_type": "markdown",
   "id": "89b711c4",
   "metadata": {},
   "source": [
    "It has been stressed throughout this book that classes and objects should only be used when\n",
    "you want to specify both data and behaviors. The main reason to write an empty class\n",
    "is to quickly block something out, knowing we'll come back later to add behavior. It\n",
    "is much easier to adapt behaviors to a class than it is to replace a data structure with\n",
    "an object and change all references to it. Therefore, it is important to decide from the\n",
    "outset if the data is just data, or if it is an object in disguise."
   ]
  },
  {
   "cell_type": "markdown",
   "id": "f429b43f",
   "metadata": {},
   "source": [
    "## Tuples and named tuples"
   ]
  },
  {
   "cell_type": "markdown",
   "id": "f99163b9",
   "metadata": {},
   "source": [
    " The primary benefit\n",
    "of tuples' immutability is that we can use them as keys in dictionaries, and in other\n",
    "locations where an object requires a hash value"
   ]
  },
  {
   "cell_type": "markdown",
   "id": "913d942c",
   "metadata": {},
   "source": [
    "Tuples are used to store data; behavior cannot be stored in a tuple. If we require\n",
    "behavior to manipulate a tuple, we have to pass the tuple into a function (or\n",
    "method on another object) that performs the action"
   ]
  },
  {
   "cell_type": "code",
   "execution_count": 4,
   "id": "dd4701be",
   "metadata": {},
   "outputs": [],
   "source": [
    "import datetime\n",
    "def middle(stock, date):\n",
    " symbol, current, high, low = stock\n",
    " return (((high + low) / 2), date)"
   ]
  },
  {
   "cell_type": "code",
   "execution_count": 5,
   "id": "e6167fc0",
   "metadata": {},
   "outputs": [],
   "source": [
    "mid_value, date = middle((\"FB\", 75.00, 75.03, 74.90),\n",
    " datetime.date(2014, 10, 31))"
   ]
  },
  {
   "cell_type": "code",
   "execution_count": 6,
   "id": "ad36bfc0",
   "metadata": {},
   "outputs": [
    {
     "data": {
      "text/plain": [
       "74.965"
      ]
     },
     "execution_count": 6,
     "metadata": {},
     "output_type": "execute_result"
    }
   ],
   "source": [
    "mid_value"
   ]
  },
  {
   "cell_type": "code",
   "execution_count": 7,
   "id": "f307a352",
   "metadata": {},
   "outputs": [
    {
     "data": {
      "text/plain": [
       "datetime.date(2014, 10, 31)"
      ]
     },
     "execution_count": 7,
     "metadata": {},
     "output_type": "execute_result"
    }
   ],
   "source": [
    "date"
   ]
  },
  {
   "cell_type": "code",
   "execution_count": 8,
   "id": "a4c13a4d",
   "metadata": {},
   "outputs": [
    {
     "data": {
      "text/plain": [
       "75.03"
      ]
     },
     "execution_count": 8,
     "metadata": {},
     "output_type": "execute_result"
    }
   ],
   "source": [
    "stock = \"FB\", 75.00, 75.03, 74.90\n",
    "high = stock[2]\n",
    "high"
   ]
  },
  {
   "cell_type": "code",
   "execution_count": 9,
   "id": "6085b4b2",
   "metadata": {},
   "outputs": [
    {
     "data": {
      "text/plain": [
       "(75.0, 75.03)"
      ]
     },
     "execution_count": 9,
     "metadata": {},
     "output_type": "execute_result"
    }
   ],
   "source": [
    "stock[1:3]"
   ]
  },
  {
   "cell_type": "markdown",
   "id": "412da6b5",
   "metadata": {},
   "source": [
    "## Named tuples"
   ]
  },
  {
   "cell_type": "markdown",
   "id": "ca6909b3",
   "metadata": {},
   "source": [
    "If, however, we do not need to add behavior to the object, and we know in advance\n",
    "what attributes we need to store, we can use a named tuple. Named tuples are tuples\n",
    "with attitude. They are a great way to group read-only data together."
   ]
  },
  {
   "cell_type": "markdown",
   "id": "02ed15a4",
   "metadata": {},
   "source": [
    "Constructing a named tuple takes a bit more work than a normal tuple. First, we\n",
    "have to import namedtuple, as it is not in the namespace by default. Then, we\n",
    "describe the named tuple by giving it a name and outlining its attributes. This\n",
    "returns a class-like object that we can instantiate with the required values as many\n",
    "times as we want:"
   ]
  },
  {
   "cell_type": "code",
   "execution_count": 10,
   "id": "a35fa043",
   "metadata": {},
   "outputs": [],
   "source": [
    "from collections import namedtuple\n",
    "Stock = namedtuple(\"Stock\", \"symbol current high low\")\n",
    "stock = Stock(\"FB\", 75.00, high=75.03, low=74.90)"
   ]
  },
  {
   "cell_type": "code",
   "execution_count": 11,
   "id": "293007f2",
   "metadata": {},
   "outputs": [
    {
     "data": {
      "text/plain": [
       "Stock(symbol='FB', current=75.0, high=75.03, low=74.9)"
      ]
     },
     "execution_count": 11,
     "metadata": {},
     "output_type": "execute_result"
    }
   ],
   "source": [
    "stock"
   ]
  },
  {
   "cell_type": "markdown",
   "id": "d54caf3b",
   "metadata": {},
   "source": [
    "The namedtuple constructor accepts two arguments. The first is an identifier for the\n",
    "named tuple. The second is a string of space-separated attributes that the named\n",
    "tuple can have. The first attribute should be listed, followed by a space (or comma\n",
    "if you prefer), then the second attribute, then another space, and so on. The result is\n",
    "an object that can be called just like a normal class to instantiate other objects. The\n",
    "constructor must have exactly the right number of arguments that can be passed in\n",
    "as arguments or keyword arguments. As with normal objects, we can create as many\n",
    "instances of this \"class\" as we like, with different values for each."
   ]
  },
  {
   "cell_type": "markdown",
   "id": "3d942f9c",
   "metadata": {},
   "source": [
    "The resulting namedtuple can then be packed, unpacked, and otherwise treated like a\n",
    "normal tuple, but we can also access individual attributes on it as if it were an object:"
   ]
  },
  {
   "cell_type": "code",
   "execution_count": 12,
   "id": "2eac58bd",
   "metadata": {},
   "outputs": [
    {
     "data": {
      "text/plain": [
       "75.03"
      ]
     },
     "execution_count": 12,
     "metadata": {},
     "output_type": "execute_result"
    }
   ],
   "source": [
    " stock.high"
   ]
  },
  {
   "cell_type": "code",
   "execution_count": 13,
   "id": "a37b9245",
   "metadata": {},
   "outputs": [
    {
     "data": {
      "text/plain": [
       "75.0"
      ]
     },
     "execution_count": 13,
     "metadata": {},
     "output_type": "execute_result"
    }
   ],
   "source": [
    "symbol, current, high, low = stock\n",
    "current"
   ]
  },
  {
   "cell_type": "markdown",
   "id": "d78e9bde",
   "metadata": {},
   "source": [
    "Remember that creating named tuples is a two-step process.\n",
    "First, use collections.namedtuple to create a class, and\n",
    "then construct instances of that class."
   ]
  },
  {
   "cell_type": "markdown",
   "id": "42a87778",
   "metadata": {},
   "source": [
    "Named tuples are perfect for many \"data only\" representations, but they are not ideal\n",
    "for all situations. Like tuples and strings, named tuples are immutable, so we cannot\n",
    "modify an attribute once it has been set. For example, the current value of\n",
    "my company's stock has gone down since we started this discussion, but we can't\n",
    "set the new value:"
   ]
  },
  {
   "cell_type": "code",
   "execution_count": 14,
   "id": "9c1a1f69",
   "metadata": {},
   "outputs": [
    {
     "ename": "AttributeError",
     "evalue": "can't set attribute",
     "output_type": "error",
     "traceback": [
      "\u001b[1;31m---------------------------------------------------------------------------\u001b[0m",
      "\u001b[1;31mAttributeError\u001b[0m                            Traceback (most recent call last)",
      "\u001b[1;32m<ipython-input-14-72d7c9835b49>\u001b[0m in \u001b[0;36m<module>\u001b[1;34m\u001b[0m\n\u001b[1;32m----> 1\u001b[1;33m \u001b[0mstock\u001b[0m\u001b[1;33m.\u001b[0m\u001b[0mcurrent\u001b[0m \u001b[1;33m=\u001b[0m \u001b[1;36m74.98\u001b[0m\u001b[1;33m\u001b[0m\u001b[1;33m\u001b[0m\u001b[0m\n\u001b[0m",
      "\u001b[1;31mAttributeError\u001b[0m: can't set attribute"
     ]
    }
   ],
   "source": [
    " stock.current = 74.98"
   ]
  },
  {
   "cell_type": "markdown",
   "id": "06f034b7",
   "metadata": {},
   "source": [
    "If we need to be able to change stored data, a dictionary may be what we\n",
    "need instead."
   ]
  },
  {
   "cell_type": "markdown",
   "id": "81869eae",
   "metadata": {},
   "source": [
    "## Dictionaries"
   ]
  },
  {
   "cell_type": "markdown",
   "id": "0ed29d01",
   "metadata": {},
   "source": [
    "internally, objects normally represent attributes as a dictionary, where the\n",
    "values are properties or methods on the objects (see the __dict__ attribute if you don't\n",
    "believe me). Even the attributes on a module are stored, internally, in a dictionary."
   ]
  },
  {
   "cell_type": "code",
   "execution_count": 15,
   "id": "72bb21e0",
   "metadata": {},
   "outputs": [],
   "source": [
    "stocks = {\"GOOG\": (613.30, 625.86, 610.50),\"MSFT\": (30.25, 30.70, 30.19)}"
   ]
  },
  {
   "cell_type": "code",
   "execution_count": 16,
   "id": "8e29ac8c",
   "metadata": {},
   "outputs": [
    {
     "data": {
      "text/plain": [
       "(613.3, 625.86, 610.5)"
      ]
     },
     "execution_count": 16,
     "metadata": {},
     "output_type": "execute_result"
    }
   ],
   "source": [
    " stocks[\"GOOG\"]"
   ]
  },
  {
   "cell_type": "code",
   "execution_count": 17,
   "id": "80bbbeb1",
   "metadata": {},
   "outputs": [
    {
     "ename": "KeyError",
     "evalue": "'RIM'",
     "output_type": "error",
     "traceback": [
      "\u001b[1;31m---------------------------------------------------------------------------\u001b[0m",
      "\u001b[1;31mKeyError\u001b[0m                                  Traceback (most recent call last)",
      "\u001b[1;32m<ipython-input-17-1446d9ba24ea>\u001b[0m in \u001b[0;36m<module>\u001b[1;34m\u001b[0m\n\u001b[1;32m----> 1\u001b[1;33m \u001b[0mstocks\u001b[0m\u001b[1;33m[\u001b[0m\u001b[1;34m\"RIM\"\u001b[0m\u001b[1;33m]\u001b[0m\u001b[1;33m\u001b[0m\u001b[1;33m\u001b[0m\u001b[0m\n\u001b[0m",
      "\u001b[1;31mKeyError\u001b[0m: 'RIM'"
     ]
    }
   ],
   "source": [
    "stocks[\"RIM\"]"
   ]
  },
  {
   "cell_type": "markdown",
   "id": "afe28335",
   "metadata": {},
   "source": [
    "We can, of course, catch the KeyError and handle it. But we have other options.\n",
    "Remember, dictionaries are objects, even if their primary purpose is to hold other\n",
    "objects. As such, they have several behaviors associated with them. One of the most\n",
    "useful of these methods is the get method; it accepts a key as the first parameter\n",
    "and an optional default value if the key doesn't exist:"
   ]
  },
  {
   "cell_type": "code",
   "execution_count": 18,
   "id": "d8b88396",
   "metadata": {},
   "outputs": [
    {
     "name": "stdout",
     "output_type": "stream",
     "text": [
      "None\n"
     ]
    },
    {
     "data": {
      "text/plain": [
       "'NOT FOUND'"
      ]
     },
     "execution_count": 18,
     "metadata": {},
     "output_type": "execute_result"
    }
   ],
   "source": [
    "print(stocks.get(\"RIM\"))\n",
    "stocks.get(\"RIM\", \"NOT FOUND\")"
   ]
  },
  {
   "cell_type": "markdown",
   "id": "849eea5c",
   "metadata": {},
   "source": [
    "For even more control, we can use the setdefault method. If the key is in the\n",
    "dictionary, this method behaves just like get; it returns the value for that key.\n",
    "Otherwise, if the key is not in the dictionary, it will not only return the default value\n",
    "we supply in the method call (just like get does), it will also set the key to that same\n",
    "value. Another way to think of it is that setdefault sets a value in the dictionary only\n",
    "if that value has not previously been set. Then it returns the value in the dictionary,\n",
    "either the one that was already there, or the newly provided default value"
   ]
  },
  {
   "cell_type": "code",
   "execution_count": 19,
   "id": "daab75af",
   "metadata": {},
   "outputs": [
    {
     "data": {
      "text/plain": [
       "(613.3, 625.86, 610.5)"
      ]
     },
     "execution_count": 19,
     "metadata": {},
     "output_type": "execute_result"
    }
   ],
   "source": [
    "stocks.setdefault(\"GOOG\", \"INVALID\")"
   ]
  },
  {
   "cell_type": "code",
   "execution_count": 20,
   "id": "3e75fbc4",
   "metadata": {},
   "outputs": [
    {
     "data": {
      "text/plain": [
       "(10.5, 10.62, 10.39)"
      ]
     },
     "execution_count": 20,
     "metadata": {},
     "output_type": "execute_result"
    }
   ],
   "source": [
    "stocks.setdefault(\"BBRY\", (10.50, 10.62, 10.39))"
   ]
  },
  {
   "cell_type": "code",
   "execution_count": 21,
   "id": "a3ed06b0",
   "metadata": {},
   "outputs": [
    {
     "data": {
      "text/plain": [
       "(10.5, 10.62, 10.39)"
      ]
     },
     "execution_count": 21,
     "metadata": {},
     "output_type": "execute_result"
    }
   ],
   "source": [
    "stocks[\"BBRY\"]"
   ]
  },
  {
   "cell_type": "markdown",
   "id": "ae260f6c",
   "metadata": {},
   "source": [
    "The GOOG stock was already in the dictionary, so when we tried to setdefault it to\n",
    "an invalid value, it just returned the value already in the dictionary. BBRY was not in\n",
    "the dictionary, so setdefault returned the default value and set the new value in\n",
    "the dictionary for us. We then check that the new stock is, indeed, in the dictionary.\n",
    " \n",
    "      \n",
    "        \n",
    "Three other very useful dictionary methods are keys(), values(), and items(). The\n",
    "first two return an iterator over all the keys and all the values in the dictionary. We\n",
    "can use these like lists or in for loops if we want to process all the keys or values. The\n",
    "items() method is probably the most useful; it returns an iterator over tuples of (key,\n",
    "value) pairs for every item in the dictionary. This works great with tuple unpacking\n",
    "in a for loop to loop over associated keys and values. This example does just that to\n",
    "print each stock in the dictionary with its current value:"
   ]
  },
  {
   "cell_type": "code",
   "execution_count": 22,
   "id": "43bf358d",
   "metadata": {},
   "outputs": [
    {
     "name": "stdout",
     "output_type": "stream",
     "text": [
      "GOOG last value is 613.3\n",
      "MSFT last value is 30.25\n",
      "BBRY last value is 10.5\n"
     ]
    }
   ],
   "source": [
    "for stock, values in stocks.items():\n",
    "    print(\"{} last value is {}\".format(stock, values[0]))"
   ]
  },
  {
   "cell_type": "markdown",
   "id": "bc71267d",
   "metadata": {},
   "source": [
    "Notice that the stocks do not show up in the same order in which they were inserted.\n",
    "Dictionaries, due to the efficient algorithm (known as hashing) that is used to make\n",
    "key lookup so fast, are inherently unsorted."
   ]
  },
  {
   "cell_type": "code",
   "execution_count": 23,
   "id": "51e1bd68",
   "metadata": {},
   "outputs": [
    {
     "data": {
      "text/plain": [
       "(597.63, 610.0, 596.28)"
      ]
     },
     "execution_count": 23,
     "metadata": {},
     "output_type": "execute_result"
    }
   ],
   "source": [
    "stocks[\"GOOG\"] = (597.63, 610.00, 596.28)\n",
    "stocks['GOOG']"
   ]
  },
  {
   "cell_type": "markdown",
   "id": "833c61f4",
   "metadata": {},
   "source": [
    "We've been using strings as dictionary keys, so far, but we aren't limited to string\n",
    "keys. It is common to use strings as keys, especially when we're storing data in a\n",
    "dictionary to gather it together (instead of using an object with named properties).\n",
    "But we can also use tuples, numbers, or even objects we've defined ourselves as\n",
    "dictionary keys. We can even use different types of keys in a single dictionary:"
   ]
  },
  {
   "cell_type": "code",
   "execution_count": 24,
   "id": "6376ace7",
   "metadata": {},
   "outputs": [
    {
     "name": "stdout",
     "output_type": "stream",
     "text": [
      "unable to store list\n",
      "\n",
      "astring has value somestring\n",
      "5 has value aninteger\n",
      "25.2 has value floats work too\n",
      "('abc', 123) has value so do tuples\n",
      "<__main__.AnObject object at 0x0000021F83A2C550> has value We can even store objects\n"
     ]
    }
   ],
   "source": [
    "random_keys = {}\n",
    "random_keys[\"astring\"] = \"somestring\"\n",
    "random_keys[5] = \"aninteger\"\n",
    "random_keys[25.2] = \"floats work too\"\n",
    "random_keys[(\"abc\", 123)] = \"so do tuples\"\n",
    "class AnObject:\n",
    "    def __init__(self, avalue):\n",
    "        self.avalue = avalue\n",
    "my_object = AnObject(14)\n",
    "random_keys[my_object] = \"We can even store objects\"\n",
    "my_object.avalue = 12\n",
    "try:\n",
    "    random_keys[[1,2,3]] = \"we can't store lists though\"\n",
    "except:\n",
    "    print(\"unable to store list\\n\")\n",
    "for key, value in random_keys.items():\n",
    "    print(\"{} has value {}\".format(key, value))"
   ]
  },
  {
   "cell_type": "markdown",
   "id": "e091792b",
   "metadata": {},
   "source": [
    "Objects that are hashable basically have a defined algorithm that converts the object\n",
    "into a unique integer value for rapid lookup. This hash is what is actually used to\n",
    "look up values in a dictionary. For example, strings map to integers based on the\n",
    "characters in the string, while tuples combine hashes of the items inside the tuple.\n",
    "Any two objects that are somehow considered equal (like strings with the same\n",
    "characters or tuples with the same values) should have the same hash value, and the\n",
    "hash value for an object should never ever change. Lists, however, can have their\n",
    "contents changed, which would change their hash value (two lists should only be\n",
    "equal if their contents are the same). Because of this, they can't be used as dictionary\n",
    "keys. For the same reason, dictionaries cannot be used as keys into other dictionaries."
   ]
  },
  {
   "cell_type": "markdown",
   "id": "5085cf62",
   "metadata": {},
   "source": [
    "## Using defaultdict"
   ]
  },
  {
   "cell_type": "markdown",
   "id": "b2097dbd",
   "metadata": {},
   "source": [
    "We've seen how to use setdefault to set a default value if a key doesn't exist, but\n",
    "this can get a bit monotonous if we need to set a default value every time we look\n",
    "up a value. For example, if we're writing code that counts the number of times a\n",
    "letter occurs in a given sentence, we could do this:\n"
   ]
  },
  {
   "cell_type": "code",
   "execution_count": 26,
   "id": "473b70e9",
   "metadata": {},
   "outputs": [],
   "source": [
    "def letter_frequency(sentence):\n",
    " frequencies = {}\n",
    " for letter in sentence:\n",
    "     frequency = frequencies.setdefault(letter, 0)\n",
    "     frequencies[letter] = frequency + 1\n",
    " return frequencies"
   ]
  },
  {
   "cell_type": "markdown",
   "id": "4cd6f980",
   "metadata": {},
   "source": [
    "Every time we access the dictionary, we need to check that it has a value already,\n",
    "and if not, set it to zero. When something like this needs to be done every time an\n",
    "empty key is requested, we can use a different version of the dictionary, called\n",
    "defaultdict:"
   ]
  },
  {
   "cell_type": "code",
   "execution_count": 27,
   "id": "523eb5ee",
   "metadata": {},
   "outputs": [],
   "source": [
    "from collections import defaultdict\n",
    "def letter_frequency(sentence):\n",
    " frequencies = defaultdict(int)\n",
    " for letter in sentence:\n",
    "     frequencies[letter] += 1\n",
    " return frequencies"
   ]
  },
  {
   "cell_type": "markdown",
   "id": "6ff85dc1",
   "metadata": {},
   "source": [
    "This code looks like it couldn't possibly work. The defaultdict accepts a function in\n",
    "its constructor. Whenever a key is accessed that is not already in the dictionary,\n",
    "it calls that function, with no parameters, to create a default value."
   ]
  },
  {
   "cell_type": "markdown",
   "id": "eeb8414a",
   "metadata": {},
   "source": [
    "In this case, the function it calls is int, which is the constructor for an integer object.\n",
    "Normally, integers are created simply by typing an integer number into our code, and\n",
    "if we do create one using the int constructor, we pass it the item we want to create (for\n",
    "example, to convert a string of digits into an integer). But if we call int without any\n",
    "arguments, it returns, conveniently, the number zero. In this code, if the letter doesn't\n",
    "exist in the defaultdict, the number zero is returned when we access it. Then we add\n",
    "one to this number to indicate we've found an instance of that letter, and the next time\n",
    "we find one, that number will be returned and we can increment the value again."
   ]
  },
  {
   "cell_type": "markdown",
   "id": "53a95cd9",
   "metadata": {},
   "source": [
    "The defaultdict is useful for creating dictionaries of containers. If we want to\n",
    "create a dictionary of stock prices for the past 30 days, we could use a stock symbol\n",
    "as the key and store the prices in list; the first time we access the stock price, we\n",
    "would want it to create an empty list. Simply pass list into the defaultdict, and\n",
    "it will be called every time an empty key is accessed. We can do similar things with\n",
    "sets or even empty dictionaries if we want to associate one with a key."
   ]
  },
  {
   "cell_type": "markdown",
   "id": "4403ccd5",
   "metadata": {},
   "source": [
    "Of course, we can also write our own functions and pass them into the defaultdict.\n",
    "Suppose we want to create a defaultdict where each new element contains a tuple\n",
    "of the number of items inserted into the dictionary at that time and an empty list to\n",
    "hold other things. Nobody knows why we would want to create such an object, but\n",
    "let's have a look:"
   ]
  },
  {
   "cell_type": "code",
   "execution_count": 28,
   "id": "63d0ac25",
   "metadata": {},
   "outputs": [],
   "source": [
    "from collections import defaultdict\n",
    "num_items = 0\n",
    "def tuple_counter():\n",
    " global num_items\n",
    " num_items += 1\n",
    " return (num_items, [])\n",
    "d = defaultdict(tuple_counter)"
   ]
  },
  {
   "cell_type": "code",
   "execution_count": 29,
   "id": "6fc4b5c1",
   "metadata": {},
   "outputs": [],
   "source": [
    "d = defaultdict(tuple_counter)\n",
    "d['a'][1].append(\"hello\")\n",
    "d['b'][1].append('world')"
   ]
  },
  {
   "cell_type": "code",
   "execution_count": 30,
   "id": "4de9f767",
   "metadata": {},
   "outputs": [
    {
     "data": {
      "text/plain": [
       "defaultdict(<function __main__.tuple_counter()>,\n",
       "            {'a': (1, ['hello']), 'b': (2, ['world'])})"
      ]
     },
     "execution_count": 30,
     "metadata": {},
     "output_type": "execute_result"
    }
   ],
   "source": [
    "d"
   ]
  },
  {
   "cell_type": "markdown",
   "id": "7557c238",
   "metadata": {},
   "source": [
    "This example, while succinctly demonstrating how to create our own\n",
    "function for defaultdict, is not actually very good code; using a\n",
    "global variable means that if we created four different defaultdict\n",
    "segments that each used tuple_counter, it would count the number\n",
    "of entries in all dictionaries, rather than having a different count for\n",
    "each one. It would be better to create a class and pass a method on that\n",
    "class to defaultdict"
   ]
  },
  {
   "cell_type": "markdown",
   "id": "f791de14",
   "metadata": {},
   "source": [
    "## Counter"
   ]
  },
  {
   "cell_type": "markdown",
   "id": "bf1eb1cf",
   "metadata": {},
   "source": [
    "You'd think that you couldn't get much simpler than defaultdict(int), but the\n",
    "\"I want to count specific instances in an iterable\" use case is common enough that\n",
    "the Python developers created a specific class for it. The previous code that counts\n",
    "characters in a string can easily be calculated in a single line:"
   ]
  },
  {
   "cell_type": "code",
   "execution_count": 31,
   "id": "e00218d5",
   "metadata": {},
   "outputs": [],
   "source": [
    "from collections import Counter\n",
    "def letter_frequency(sentence):\n",
    " return Counter(sentence)"
   ]
  },
  {
   "cell_type": "code",
   "execution_count": 32,
   "id": "14172921",
   "metadata": {},
   "outputs": [
    {
     "data": {
      "text/plain": [
       "['__add__',\n",
       " '__class__',\n",
       " '__contains__',\n",
       " '__delattr__',\n",
       " '__delitem__',\n",
       " '__dir__',\n",
       " '__doc__',\n",
       " '__eq__',\n",
       " '__format__',\n",
       " '__ge__',\n",
       " '__getattribute__',\n",
       " '__getitem__',\n",
       " '__gt__',\n",
       " '__hash__',\n",
       " '__iadd__',\n",
       " '__imul__',\n",
       " '__init__',\n",
       " '__init_subclass__',\n",
       " '__iter__',\n",
       " '__le__',\n",
       " '__len__',\n",
       " '__lt__',\n",
       " '__mul__',\n",
       " '__ne__',\n",
       " '__new__',\n",
       " '__reduce__',\n",
       " '__reduce_ex__',\n",
       " '__repr__',\n",
       " '__reversed__',\n",
       " '__rmul__',\n",
       " '__setattr__',\n",
       " '__setitem__',\n",
       " '__sizeof__',\n",
       " '__str__',\n",
       " '__subclasshook__',\n",
       " 'append',\n",
       " 'clear',\n",
       " 'copy',\n",
       " 'count',\n",
       " 'extend',\n",
       " 'index',\n",
       " 'insert',\n",
       " 'pop',\n",
       " 'remove',\n",
       " 'reverse',\n",
       " 'sort']"
      ]
     },
     "execution_count": 32,
     "metadata": {},
     "output_type": "execute_result"
    }
   ],
   "source": [
    "dir(list)"
   ]
  },
  {
   "cell_type": "markdown",
   "id": "38885f7d",
   "metadata": {},
   "source": [
    "## Queue"
   ]
  },
  {
   "cell_type": "code",
   "execution_count": 35,
   "id": "c234558d",
   "metadata": {},
   "outputs": [
    {
     "ename": "Empty",
     "evalue": "",
     "output_type": "error",
     "traceback": [
      "\u001b[1;31m---------------------------------------------------------------------------\u001b[0m",
      "\u001b[1;31mEmpty\u001b[0m                                     Traceback (most recent call last)",
      "\u001b[1;32m<ipython-input-35-52cf0f13473d>\u001b[0m in \u001b[0;36m<module>\u001b[1;34m\u001b[0m\n\u001b[0;32m      1\u001b[0m \u001b[1;32mfrom\u001b[0m \u001b[0mqueue\u001b[0m \u001b[1;32mimport\u001b[0m \u001b[0mQueue\u001b[0m\u001b[1;33m\u001b[0m\u001b[1;33m\u001b[0m\u001b[0m\n\u001b[0;32m      2\u001b[0m \u001b[0mlineup\u001b[0m \u001b[1;33m=\u001b[0m \u001b[0mQueue\u001b[0m\u001b[1;33m(\u001b[0m\u001b[0mmaxsize\u001b[0m\u001b[1;33m=\u001b[0m\u001b[1;36m3\u001b[0m\u001b[1;33m)\u001b[0m\u001b[1;33m\u001b[0m\u001b[1;33m\u001b[0m\u001b[0m\n\u001b[1;32m----> 3\u001b[1;33m \u001b[0mlineup\u001b[0m\u001b[1;33m.\u001b[0m\u001b[0mget\u001b[0m\u001b[1;33m(\u001b[0m\u001b[0mblock\u001b[0m\u001b[1;33m=\u001b[0m\u001b[1;32mFalse\u001b[0m\u001b[1;33m)\u001b[0m\u001b[1;33m\u001b[0m\u001b[1;33m\u001b[0m\u001b[0m\n\u001b[0m",
      "\u001b[1;32m~\\OneDrive - Reliance Corporate IT Park Limited\\Desktop\\Practice_Code\\Python_Practice\\Python_For_Data_Analysis\\myenv\\lib\\queue.py\u001b[0m in \u001b[0;36mget\u001b[1;34m(self, block, timeout)\u001b[0m\n\u001b[0;32m    159\u001b[0m             \u001b[1;32mif\u001b[0m \u001b[1;32mnot\u001b[0m \u001b[0mblock\u001b[0m\u001b[1;33m:\u001b[0m\u001b[1;33m\u001b[0m\u001b[1;33m\u001b[0m\u001b[0m\n\u001b[0;32m    160\u001b[0m                 \u001b[1;32mif\u001b[0m \u001b[1;32mnot\u001b[0m \u001b[0mself\u001b[0m\u001b[1;33m.\u001b[0m\u001b[0m_qsize\u001b[0m\u001b[1;33m(\u001b[0m\u001b[1;33m)\u001b[0m\u001b[1;33m:\u001b[0m\u001b[1;33m\u001b[0m\u001b[1;33m\u001b[0m\u001b[0m\n\u001b[1;32m--> 161\u001b[1;33m                     \u001b[1;32mraise\u001b[0m \u001b[0mEmpty\u001b[0m\u001b[1;33m\u001b[0m\u001b[1;33m\u001b[0m\u001b[0m\n\u001b[0m\u001b[0;32m    162\u001b[0m             \u001b[1;32melif\u001b[0m \u001b[0mtimeout\u001b[0m \u001b[1;32mis\u001b[0m \u001b[1;32mNone\u001b[0m\u001b[1;33m:\u001b[0m\u001b[1;33m\u001b[0m\u001b[1;33m\u001b[0m\u001b[0m\n\u001b[0;32m    163\u001b[0m                 \u001b[1;32mwhile\u001b[0m \u001b[1;32mnot\u001b[0m \u001b[0mself\u001b[0m\u001b[1;33m.\u001b[0m\u001b[0m_qsize\u001b[0m\u001b[1;33m(\u001b[0m\u001b[1;33m)\u001b[0m\u001b[1;33m:\u001b[0m\u001b[1;33m\u001b[0m\u001b[1;33m\u001b[0m\u001b[0m\n",
      "\u001b[1;31mEmpty\u001b[0m: "
     ]
    }
   ],
   "source": [
    "from queue import Queue\n",
    "lineup = Queue(maxsize=3)\n",
    "lineup.get(block=False)"
   ]
  },
  {
   "cell_type": "code",
   "execution_count": 36,
   "id": "d48b24d1",
   "metadata": {},
   "outputs": [
    {
     "ename": "Full",
     "evalue": "",
     "output_type": "error",
     "traceback": [
      "\u001b[1;31m---------------------------------------------------------------------------\u001b[0m",
      "\u001b[1;31mFull\u001b[0m                                      Traceback (most recent call last)",
      "\u001b[1;32m<ipython-input-36-70653c79461d>\u001b[0m in \u001b[0;36m<module>\u001b[1;34m\u001b[0m\n\u001b[0;32m      2\u001b[0m \u001b[0mlineup\u001b[0m\u001b[1;33m.\u001b[0m\u001b[0mput\u001b[0m\u001b[1;33m(\u001b[0m\u001b[1;34m\"two\"\u001b[0m\u001b[1;33m)\u001b[0m\u001b[1;33m\u001b[0m\u001b[1;33m\u001b[0m\u001b[0m\n\u001b[0;32m      3\u001b[0m \u001b[0mlineup\u001b[0m\u001b[1;33m.\u001b[0m\u001b[0mput\u001b[0m\u001b[1;33m(\u001b[0m\u001b[1;34m\"three\"\u001b[0m\u001b[1;33m)\u001b[0m\u001b[1;33m\u001b[0m\u001b[1;33m\u001b[0m\u001b[0m\n\u001b[1;32m----> 4\u001b[1;33m \u001b[0mlineup\u001b[0m\u001b[1;33m.\u001b[0m\u001b[0mput\u001b[0m\u001b[1;33m(\u001b[0m\u001b[1;34m\"four\"\u001b[0m\u001b[1;33m,\u001b[0m \u001b[0mtimeout\u001b[0m\u001b[1;33m=\u001b[0m\u001b[1;36m1\u001b[0m\u001b[1;33m)\u001b[0m\u001b[1;33m\u001b[0m\u001b[1;33m\u001b[0m\u001b[0m\n\u001b[0m",
      "\u001b[1;32m~\\OneDrive - Reliance Corporate IT Park Limited\\Desktop\\Practice_Code\\Python_Practice\\Python_For_Data_Analysis\\myenv\\lib\\queue.py\u001b[0m in \u001b[0;36mput\u001b[1;34m(self, item, block, timeout)\u001b[0m\n\u001b[0;32m    139\u001b[0m                         \u001b[0mremaining\u001b[0m \u001b[1;33m=\u001b[0m \u001b[0mendtime\u001b[0m \u001b[1;33m-\u001b[0m \u001b[0mtime\u001b[0m\u001b[1;33m(\u001b[0m\u001b[1;33m)\u001b[0m\u001b[1;33m\u001b[0m\u001b[1;33m\u001b[0m\u001b[0m\n\u001b[0;32m    140\u001b[0m                         \u001b[1;32mif\u001b[0m \u001b[0mremaining\u001b[0m \u001b[1;33m<=\u001b[0m \u001b[1;36m0.0\u001b[0m\u001b[1;33m:\u001b[0m\u001b[1;33m\u001b[0m\u001b[1;33m\u001b[0m\u001b[0m\n\u001b[1;32m--> 141\u001b[1;33m                             \u001b[1;32mraise\u001b[0m \u001b[0mFull\u001b[0m\u001b[1;33m\u001b[0m\u001b[1;33m\u001b[0m\u001b[0m\n\u001b[0m\u001b[0;32m    142\u001b[0m                         \u001b[0mself\u001b[0m\u001b[1;33m.\u001b[0m\u001b[0mnot_full\u001b[0m\u001b[1;33m.\u001b[0m\u001b[0mwait\u001b[0m\u001b[1;33m(\u001b[0m\u001b[0mremaining\u001b[0m\u001b[1;33m)\u001b[0m\u001b[1;33m\u001b[0m\u001b[1;33m\u001b[0m\u001b[0m\n\u001b[0;32m    143\u001b[0m             \u001b[0mself\u001b[0m\u001b[1;33m.\u001b[0m\u001b[0m_put\u001b[0m\u001b[1;33m(\u001b[0m\u001b[0mitem\u001b[0m\u001b[1;33m)\u001b[0m\u001b[1;33m\u001b[0m\u001b[1;33m\u001b[0m\u001b[0m\n",
      "\u001b[1;31mFull\u001b[0m: "
     ]
    }
   ],
   "source": [
    "lineup.put(\"one\")\n",
    "lineup.put(\"two\")\n",
    "lineup.put(\"three\")\n",
    "lineup.put(\"four\", timeout=1)"
   ]
  },
  {
   "cell_type": "code",
   "execution_count": 37,
   "id": "a81392f8",
   "metadata": {},
   "outputs": [
    {
     "data": {
      "text/plain": [
       "True"
      ]
     },
     "execution_count": 37,
     "metadata": {},
     "output_type": "execute_result"
    }
   ],
   "source": [
    " lineup.full()"
   ]
  },
  {
   "cell_type": "code",
   "execution_count": 38,
   "id": "08d13904",
   "metadata": {},
   "outputs": [
    {
     "data": {
      "text/plain": [
       "'one'"
      ]
     },
     "execution_count": 38,
     "metadata": {},
     "output_type": "execute_result"
    }
   ],
   "source": [
    " lineup.get()"
   ]
  },
  {
   "cell_type": "code",
   "execution_count": 39,
   "id": "e9723bb6",
   "metadata": {},
   "outputs": [
    {
     "data": {
      "text/plain": [
       "'two'"
      ]
     },
     "execution_count": 39,
     "metadata": {},
     "output_type": "execute_result"
    }
   ],
   "source": [
    "lineup.get()\n"
   ]
  },
  {
   "cell_type": "code",
   "execution_count": 40,
   "id": "d6e538ae",
   "metadata": {},
   "outputs": [
    {
     "data": {
      "text/plain": [
       "'three'"
      ]
     },
     "execution_count": 40,
     "metadata": {},
     "output_type": "execute_result"
    }
   ],
   "source": [
    " lineup.get()"
   ]
  },
  {
   "cell_type": "code",
   "execution_count": 41,
   "id": "abd13d45",
   "metadata": {},
   "outputs": [
    {
     "data": {
      "text/plain": [
       "True"
      ]
     },
     "execution_count": 41,
     "metadata": {},
     "output_type": "execute_result"
    }
   ],
   "source": [
    "lineup.empty()"
   ]
  },
  {
   "cell_type": "markdown",
   "id": "cc245d31",
   "metadata": {},
   "source": [
    "## LIFO queues(stacks)"
   ]
  },
  {
   "cell_type": "code",
   "execution_count": 42,
   "id": "0c764a07",
   "metadata": {},
   "outputs": [
    {
     "ename": "Full",
     "evalue": "",
     "output_type": "error",
     "traceback": [
      "\u001b[1;31m---------------------------------------------------------------------------\u001b[0m",
      "\u001b[1;31mFull\u001b[0m                                      Traceback (most recent call last)",
      "\u001b[1;32m<ipython-input-42-e34a4b5f45cb>\u001b[0m in \u001b[0;36m<module>\u001b[1;34m\u001b[0m\n\u001b[0;32m      4\u001b[0m \u001b[0mstack\u001b[0m\u001b[1;33m.\u001b[0m\u001b[0mput\u001b[0m\u001b[1;33m(\u001b[0m\u001b[1;34m\"two\"\u001b[0m\u001b[1;33m)\u001b[0m\u001b[1;33m\u001b[0m\u001b[1;33m\u001b[0m\u001b[0m\n\u001b[0;32m      5\u001b[0m \u001b[0mstack\u001b[0m\u001b[1;33m.\u001b[0m\u001b[0mput\u001b[0m\u001b[1;33m(\u001b[0m\u001b[1;34m\"three\"\u001b[0m\u001b[1;33m)\u001b[0m\u001b[1;33m\u001b[0m\u001b[1;33m\u001b[0m\u001b[0m\n\u001b[1;32m----> 6\u001b[1;33m \u001b[0mstack\u001b[0m\u001b[1;33m.\u001b[0m\u001b[0mput\u001b[0m\u001b[1;33m(\u001b[0m\u001b[1;34m\"four\"\u001b[0m\u001b[1;33m,\u001b[0m \u001b[0mblock\u001b[0m\u001b[1;33m=\u001b[0m\u001b[1;32mFalse\u001b[0m\u001b[1;33m)\u001b[0m\u001b[1;33m\u001b[0m\u001b[1;33m\u001b[0m\u001b[0m\n\u001b[0m",
      "\u001b[1;32m~\\OneDrive - Reliance Corporate IT Park Limited\\Desktop\\Practice_Code\\Python_Practice\\Python_For_Data_Analysis\\myenv\\lib\\queue.py\u001b[0m in \u001b[0;36mput\u001b[1;34m(self, item, block, timeout)\u001b[0m\n\u001b[0;32m    128\u001b[0m                 \u001b[1;32mif\u001b[0m \u001b[1;32mnot\u001b[0m \u001b[0mblock\u001b[0m\u001b[1;33m:\u001b[0m\u001b[1;33m\u001b[0m\u001b[1;33m\u001b[0m\u001b[0m\n\u001b[0;32m    129\u001b[0m                     \u001b[1;32mif\u001b[0m \u001b[0mself\u001b[0m\u001b[1;33m.\u001b[0m\u001b[0m_qsize\u001b[0m\u001b[1;33m(\u001b[0m\u001b[1;33m)\u001b[0m \u001b[1;33m>=\u001b[0m \u001b[0mself\u001b[0m\u001b[1;33m.\u001b[0m\u001b[0mmaxsize\u001b[0m\u001b[1;33m:\u001b[0m\u001b[1;33m\u001b[0m\u001b[1;33m\u001b[0m\u001b[0m\n\u001b[1;32m--> 130\u001b[1;33m                         \u001b[1;32mraise\u001b[0m \u001b[0mFull\u001b[0m\u001b[1;33m\u001b[0m\u001b[1;33m\u001b[0m\u001b[0m\n\u001b[0m\u001b[0;32m    131\u001b[0m                 \u001b[1;32melif\u001b[0m \u001b[0mtimeout\u001b[0m \u001b[1;32mis\u001b[0m \u001b[1;32mNone\u001b[0m\u001b[1;33m:\u001b[0m\u001b[1;33m\u001b[0m\u001b[1;33m\u001b[0m\u001b[0m\n\u001b[0;32m    132\u001b[0m                     \u001b[1;32mwhile\u001b[0m \u001b[0mself\u001b[0m\u001b[1;33m.\u001b[0m\u001b[0m_qsize\u001b[0m\u001b[1;33m(\u001b[0m\u001b[1;33m)\u001b[0m \u001b[1;33m>=\u001b[0m \u001b[0mself\u001b[0m\u001b[1;33m.\u001b[0m\u001b[0mmaxsize\u001b[0m\u001b[1;33m:\u001b[0m\u001b[1;33m\u001b[0m\u001b[1;33m\u001b[0m\u001b[0m\n",
      "\u001b[1;31mFull\u001b[0m: "
     ]
    }
   ],
   "source": [
    "from queue import LifoQueue\n",
    "stack = LifoQueue(maxsize=3)\n",
    "stack.put(\"one\")\n",
    "stack.put(\"two\")\n",
    "stack.put(\"three\")\n",
    "stack.put(\"four\", block=False)"
   ]
  },
  {
   "cell_type": "code",
   "execution_count": 43,
   "id": "c82e8984",
   "metadata": {},
   "outputs": [
    {
     "data": {
      "text/plain": [
       "'three'"
      ]
     },
     "execution_count": 43,
     "metadata": {},
     "output_type": "execute_result"
    }
   ],
   "source": [
    "stack.get()"
   ]
  },
  {
   "cell_type": "code",
   "execution_count": 44,
   "id": "de7f7732",
   "metadata": {},
   "outputs": [
    {
     "data": {
      "text/plain": [
       "'two'"
      ]
     },
     "execution_count": 44,
     "metadata": {},
     "output_type": "execute_result"
    }
   ],
   "source": [
    "stack.get()"
   ]
  },
  {
   "cell_type": "code",
   "execution_count": 45,
   "id": "22f9d090",
   "metadata": {},
   "outputs": [
    {
     "data": {
      "text/plain": [
       "True"
      ]
     },
     "execution_count": 45,
     "metadata": {},
     "output_type": "execute_result"
    }
   ],
   "source": [
    "stack.get()\n",
    "stack.empty()"
   ]
  },
  {
   "cell_type": "code",
   "execution_count": 46,
   "id": "303aa42c",
   "metadata": {},
   "outputs": [
    {
     "ename": "Empty",
     "evalue": "",
     "output_type": "error",
     "traceback": [
      "\u001b[1;31m---------------------------------------------------------------------------\u001b[0m",
      "\u001b[1;31mEmpty\u001b[0m                                     Traceback (most recent call last)",
      "\u001b[1;32m<ipython-input-46-30e2b0986446>\u001b[0m in \u001b[0;36m<module>\u001b[1;34m\u001b[0m\n\u001b[1;32m----> 1\u001b[1;33m \u001b[0mstack\u001b[0m\u001b[1;33m.\u001b[0m\u001b[0mget\u001b[0m\u001b[1;33m(\u001b[0m\u001b[0mtimeout\u001b[0m\u001b[1;33m=\u001b[0m\u001b[1;36m1\u001b[0m\u001b[1;33m)\u001b[0m\u001b[1;33m\u001b[0m\u001b[1;33m\u001b[0m\u001b[0m\n\u001b[0m",
      "\u001b[1;32m~\\OneDrive - Reliance Corporate IT Park Limited\\Desktop\\Practice_Code\\Python_Practice\\Python_For_Data_Analysis\\myenv\\lib\\queue.py\u001b[0m in \u001b[0;36mget\u001b[1;34m(self, block, timeout)\u001b[0m\n\u001b[0;32m    170\u001b[0m                     \u001b[0mremaining\u001b[0m \u001b[1;33m=\u001b[0m \u001b[0mendtime\u001b[0m \u001b[1;33m-\u001b[0m \u001b[0mtime\u001b[0m\u001b[1;33m(\u001b[0m\u001b[1;33m)\u001b[0m\u001b[1;33m\u001b[0m\u001b[1;33m\u001b[0m\u001b[0m\n\u001b[0;32m    171\u001b[0m                     \u001b[1;32mif\u001b[0m \u001b[0mremaining\u001b[0m \u001b[1;33m<=\u001b[0m \u001b[1;36m0.0\u001b[0m\u001b[1;33m:\u001b[0m\u001b[1;33m\u001b[0m\u001b[1;33m\u001b[0m\u001b[0m\n\u001b[1;32m--> 172\u001b[1;33m                         \u001b[1;32mraise\u001b[0m \u001b[0mEmpty\u001b[0m\u001b[1;33m\u001b[0m\u001b[1;33m\u001b[0m\u001b[0m\n\u001b[0m\u001b[0;32m    173\u001b[0m                     \u001b[0mself\u001b[0m\u001b[1;33m.\u001b[0m\u001b[0mnot_empty\u001b[0m\u001b[1;33m.\u001b[0m\u001b[0mwait\u001b[0m\u001b[1;33m(\u001b[0m\u001b[0mremaining\u001b[0m\u001b[1;33m)\u001b[0m\u001b[1;33m\u001b[0m\u001b[1;33m\u001b[0m\u001b[0m\n\u001b[0;32m    174\u001b[0m             \u001b[0mitem\u001b[0m \u001b[1;33m=\u001b[0m \u001b[0mself\u001b[0m\u001b[1;33m.\u001b[0m\u001b[0m_get\u001b[0m\u001b[1;33m(\u001b[0m\u001b[1;33m)\u001b[0m\u001b[1;33m\u001b[0m\u001b[1;33m\u001b[0m\u001b[0m\n",
      "\u001b[1;31mEmpty\u001b[0m: "
     ]
    }
   ],
   "source": [
    "stack.get(timeout=1)"
   ]
  },
  {
   "cell_type": "markdown",
   "id": "2fa66405",
   "metadata": {},
   "source": [
    "There are a couple of reasons that you might want to use LifoQueue instead of a\n",
    "list. The most important one is that LifoQueue supports clean concurrent access\n",
    "from multiple threads. If you need stack-like behavior in a concurrent setting, you\n",
    "should leave the list at home. Second, LifoQueue enforces the stack interface. You\n",
    "can't unwittingly insert a value to the wrong position in a LifoQueue, for example\n",
    "(although, as an exercise, you can work out how to do this completely wittingly)."
   ]
  },
  {
   "cell_type": "markdown",
   "id": "6fc61529",
   "metadata": {},
   "source": [
    "## Priority queues"
   ]
  },
  {
   "cell_type": "markdown",
   "id": "b6b7c312",
   "metadata": {},
   "source": [
    "The priority queue enforces a very different style of ordering from the previous queue\n",
    "implementations. Once again, they follow the exact same get() and put() API, but\n",
    "instead of relying on the order that items arrive to determine when they should be\n",
    "returned, the most \"important\" item is returned. By convention, the most important,\n",
    "or highest priority item is the one that sorts lowest using the less than operator."
   ]
  },
  {
   "cell_type": "markdown",
   "id": "b85c43bb",
   "metadata": {},
   "source": [
    "A common convention is to store tuples in the priority queue, where the first element\n",
    "in the tuple is the priority for that element, and the second element is the data. Another\n",
    "common paradigm is to implement the __lt__ method, as we discussed earlier in this\n",
    "chapter. It is perfectly acceptable to have multiple elements with the same priority in\n",
    "the queue, although there are no guarantees on which one will be returned first.\n"
   ]
  },
  {
   "cell_type": "markdown",
   "id": "2af0519d",
   "metadata": {},
   "source": [
    "A priority queue might be used, for example, by a search engine to ensure it refreshes\n",
    "the content of the most popular web pages before crawling sites that are less likely to\n",
    "be searched for. A product recommendation tool might use one to display information\n",
    "about the most highly ranked products while still loading data for the lower ranks."
   ]
  },
  {
   "cell_type": "markdown",
   "id": "882441d4",
   "metadata": {},
   "source": [
    "Note that a priority queue will always return the most important element currently\n",
    "in the queue. The get() method will block (by default) if the queue is empty, but it\n",
    "will not block and wait for a higher priority element to be added if there is already\n",
    "something in the queue. The queue knows nothing about elements that have not\n",
    "been added yet (or even about elements that have been previously extracted), and\n",
    "only makes decisions based on the current contents of the queue."
   ]
  },
  {
   "cell_type": "code",
   "execution_count": 50,
   "id": "c08d265d",
   "metadata": {},
   "outputs": [
    {
     "ename": "NameError",
     "evalue": "name 'heap' is not defined",
     "output_type": "error",
     "traceback": [
      "\u001b[1;31m---------------------------------------------------------------------------\u001b[0m",
      "\u001b[1;31mNameError\u001b[0m                                 Traceback (most recent call last)",
      "\u001b[1;32m<ipython-input-50-0f8be373568f>\u001b[0m in \u001b[0;36m<module>\u001b[1;34m\u001b[0m\n\u001b[1;32m----> 1\u001b[1;33m \u001b[0mheap\u001b[0m\u001b[1;33m.\u001b[0m\u001b[0mput\u001b[0m\u001b[1;33m(\u001b[0m\u001b[1;33m(\u001b[0m\u001b[1;36m3\u001b[0m\u001b[1;33m,\u001b[0m \u001b[1;34m\"three\"\u001b[0m\u001b[1;33m)\u001b[0m\u001b[1;33m)\u001b[0m\u001b[1;33m\u001b[0m\u001b[1;33m\u001b[0m\u001b[0m\n\u001b[0m\u001b[0;32m      2\u001b[0m \u001b[0mheap\u001b[0m\u001b[1;33m.\u001b[0m\u001b[0mput\u001b[0m\u001b[1;33m(\u001b[0m\u001b[1;33m(\u001b[0m\u001b[1;36m4\u001b[0m\u001b[1;33m,\u001b[0m \u001b[1;34m\"four\"\u001b[0m\u001b[1;33m)\u001b[0m\u001b[1;33m)\u001b[0m\u001b[1;33m\u001b[0m\u001b[1;33m\u001b[0m\u001b[0m\n\u001b[0;32m      3\u001b[0m \u001b[0mheap\u001b[0m\u001b[1;33m.\u001b[0m\u001b[0mput\u001b[0m\u001b[1;33m(\u001b[0m\u001b[1;33m(\u001b[0m\u001b[1;36m1\u001b[0m\u001b[1;33m,\u001b[0m \u001b[1;34m\"one\"\u001b[0m\u001b[1;33m)\u001b[0m \u001b[1;33m)\u001b[0m\u001b[1;33m\u001b[0m\u001b[1;33m\u001b[0m\u001b[0m\n\u001b[0;32m      4\u001b[0m \u001b[0mheap\u001b[0m\u001b[1;33m.\u001b[0m\u001b[0mput\u001b[0m\u001b[1;33m(\u001b[0m\u001b[1;33m(\u001b[0m\u001b[1;36m2\u001b[0m\u001b[1;33m,\u001b[0m \u001b[1;34m\"two\"\u001b[0m\u001b[1;33m)\u001b[0m\u001b[1;33m)\u001b[0m\u001b[1;33m\u001b[0m\u001b[1;33m\u001b[0m\u001b[0m\n\u001b[0;32m      5\u001b[0m \u001b[0mheap\u001b[0m\u001b[1;33m.\u001b[0m\u001b[0mput\u001b[0m\u001b[1;33m(\u001b[0m\u001b[1;33m(\u001b[0m\u001b[1;36m5\u001b[0m\u001b[1;33m,\u001b[0m \u001b[1;34m\"five\"\u001b[0m\u001b[1;33m)\u001b[0m\u001b[1;33m,\u001b[0m \u001b[0mblock\u001b[0m\u001b[1;33m=\u001b[0m\u001b[1;32mFalse\u001b[0m\u001b[1;33m)\u001b[0m\u001b[1;33m\u001b[0m\u001b[1;33m\u001b[0m\u001b[0m\n",
      "\u001b[1;31mNameError\u001b[0m: name 'heap' is not defined"
     ]
    }
   ],
   "source": [
    " heap.put((3, \"three\"))\n",
    ">>> heap.put((4, \"four\"))\n",
    ">>> heap.put((1, \"one\") )\n",
    ">>> heap.put((2, \"two\"))\n",
    ">>> heap.put((5, \"five\"), block=False)\n"
   ]
  },
  {
   "cell_type": "markdown",
   "id": "73f63b01",
   "metadata": {},
   "source": [
    "## Case Study"
   ]
  },
  {
   "cell_type": "markdown",
   "id": "fab505c5",
   "metadata": {},
   "source": [
    "To tie everything together, we'll be writing a simple link collector, which will visit\n",
    "a website and collect every link on every page it finds in that site. Before we start,\n",
    "though, we'll need some test data to work with."
   ]
  },
  {
   "cell_type": "code",
   "execution_count": 51,
   "id": "24526208",
   "metadata": {},
   "outputs": [
    {
     "ename": "ValueError",
     "evalue": "unknown url type: '/'",
     "output_type": "error",
     "traceback": [
      "\u001b[1;31m---------------------------------------------------------------------------\u001b[0m",
      "\u001b[1;31mValueError\u001b[0m                                Traceback (most recent call last)",
      "\u001b[1;32m<ipython-input-51-a8fbaacf6c3a>\u001b[0m in \u001b[0;36m<module>\u001b[1;34m\u001b[0m\n\u001b[0;32m     14\u001b[0m         \u001b[0mprint\u001b[0m\u001b[1;33m(\u001b[0m\u001b[0mlinks\u001b[0m\u001b[1;33m)\u001b[0m\u001b[1;33m\u001b[0m\u001b[1;33m\u001b[0m\u001b[0m\n\u001b[0;32m     15\u001b[0m \u001b[1;32mif\u001b[0m \u001b[0m__name__\u001b[0m \u001b[1;33m==\u001b[0m \u001b[1;34m\"__main__\"\u001b[0m\u001b[1;33m:\u001b[0m\u001b[1;33m\u001b[0m\u001b[1;33m\u001b[0m\u001b[0m\n\u001b[1;32m---> 16\u001b[1;33m     \u001b[0mLinkCollector\u001b[0m\u001b[1;33m(\u001b[0m\u001b[0msys\u001b[0m\u001b[1;33m.\u001b[0m\u001b[0margv\u001b[0m\u001b[1;33m[\u001b[0m\u001b[1;36m1\u001b[0m\u001b[1;33m]\u001b[0m\u001b[1;33m)\u001b[0m\u001b[1;33m.\u001b[0m\u001b[0mcollect_links\u001b[0m\u001b[1;33m(\u001b[0m\u001b[1;33m)\u001b[0m\u001b[1;33m\u001b[0m\u001b[1;33m\u001b[0m\u001b[0m\n\u001b[0m",
      "\u001b[1;32m<ipython-input-51-a8fbaacf6c3a>\u001b[0m in \u001b[0;36mcollect_links\u001b[1;34m(self, path)\u001b[0m\n\u001b[0;32m     10\u001b[0m     \u001b[1;32mdef\u001b[0m \u001b[0mcollect_links\u001b[0m\u001b[1;33m(\u001b[0m\u001b[0mself\u001b[0m\u001b[1;33m,\u001b[0m \u001b[0mpath\u001b[0m\u001b[1;33m=\u001b[0m\u001b[1;34m\"/\"\u001b[0m\u001b[1;33m)\u001b[0m\u001b[1;33m:\u001b[0m\u001b[1;33m\u001b[0m\u001b[1;33m\u001b[0m\u001b[0m\n\u001b[0;32m     11\u001b[0m         \u001b[0mfull_url\u001b[0m \u001b[1;33m=\u001b[0m \u001b[0mself\u001b[0m\u001b[1;33m.\u001b[0m\u001b[0murl\u001b[0m \u001b[1;33m+\u001b[0m \u001b[0mpath\u001b[0m\u001b[1;33m\u001b[0m\u001b[1;33m\u001b[0m\u001b[0m\n\u001b[1;32m---> 12\u001b[1;33m         \u001b[0mpage\u001b[0m \u001b[1;33m=\u001b[0m \u001b[0mstr\u001b[0m\u001b[1;33m(\u001b[0m\u001b[0murlopen\u001b[0m\u001b[1;33m(\u001b[0m\u001b[0mfull_url\u001b[0m\u001b[1;33m)\u001b[0m\u001b[1;33m.\u001b[0m\u001b[0mread\u001b[0m\u001b[1;33m(\u001b[0m\u001b[1;33m)\u001b[0m\u001b[1;33m)\u001b[0m\u001b[1;33m\u001b[0m\u001b[1;33m\u001b[0m\u001b[0m\n\u001b[0m\u001b[0;32m     13\u001b[0m         \u001b[0mlinks\u001b[0m \u001b[1;33m=\u001b[0m \u001b[0mLINK_REGEX\u001b[0m\u001b[1;33m.\u001b[0m\u001b[0mfindall\u001b[0m\u001b[1;33m(\u001b[0m\u001b[0mpage\u001b[0m\u001b[1;33m)\u001b[0m\u001b[1;33m\u001b[0m\u001b[1;33m\u001b[0m\u001b[0m\n\u001b[0;32m     14\u001b[0m         \u001b[0mprint\u001b[0m\u001b[1;33m(\u001b[0m\u001b[0mlinks\u001b[0m\u001b[1;33m)\u001b[0m\u001b[1;33m\u001b[0m\u001b[1;33m\u001b[0m\u001b[0m\n",
      "\u001b[1;32m~\\OneDrive - Reliance Corporate IT Park Limited\\Desktop\\Practice_Code\\Python_Practice\\Python_For_Data_Analysis\\myenv\\lib\\urllib\\request.py\u001b[0m in \u001b[0;36murlopen\u001b[1;34m(url, data, timeout, cafile, capath, cadefault, context)\u001b[0m\n\u001b[0;32m    221\u001b[0m     \u001b[1;32melse\u001b[0m\u001b[1;33m:\u001b[0m\u001b[1;33m\u001b[0m\u001b[1;33m\u001b[0m\u001b[0m\n\u001b[0;32m    222\u001b[0m         \u001b[0mopener\u001b[0m \u001b[1;33m=\u001b[0m \u001b[0m_opener\u001b[0m\u001b[1;33m\u001b[0m\u001b[1;33m\u001b[0m\u001b[0m\n\u001b[1;32m--> 223\u001b[1;33m     \u001b[1;32mreturn\u001b[0m \u001b[0mopener\u001b[0m\u001b[1;33m.\u001b[0m\u001b[0mopen\u001b[0m\u001b[1;33m(\u001b[0m\u001b[0murl\u001b[0m\u001b[1;33m,\u001b[0m \u001b[0mdata\u001b[0m\u001b[1;33m,\u001b[0m \u001b[0mtimeout\u001b[0m\u001b[1;33m)\u001b[0m\u001b[1;33m\u001b[0m\u001b[1;33m\u001b[0m\u001b[0m\n\u001b[0m\u001b[0;32m    224\u001b[0m \u001b[1;33m\u001b[0m\u001b[0m\n\u001b[0;32m    225\u001b[0m \u001b[1;32mdef\u001b[0m \u001b[0minstall_opener\u001b[0m\u001b[1;33m(\u001b[0m\u001b[0mopener\u001b[0m\u001b[1;33m)\u001b[0m\u001b[1;33m:\u001b[0m\u001b[1;33m\u001b[0m\u001b[1;33m\u001b[0m\u001b[0m\n",
      "\u001b[1;32m~\\OneDrive - Reliance Corporate IT Park Limited\\Desktop\\Practice_Code\\Python_Practice\\Python_For_Data_Analysis\\myenv\\lib\\urllib\\request.py\u001b[0m in \u001b[0;36mopen\u001b[1;34m(self, fullurl, data, timeout)\u001b[0m\n\u001b[0;32m    509\u001b[0m         \u001b[1;31m# accept a URL or a Request object\u001b[0m\u001b[1;33m\u001b[0m\u001b[1;33m\u001b[0m\u001b[1;33m\u001b[0m\u001b[0m\n\u001b[0;32m    510\u001b[0m         \u001b[1;32mif\u001b[0m \u001b[0misinstance\u001b[0m\u001b[1;33m(\u001b[0m\u001b[0mfullurl\u001b[0m\u001b[1;33m,\u001b[0m \u001b[0mstr\u001b[0m\u001b[1;33m)\u001b[0m\u001b[1;33m:\u001b[0m\u001b[1;33m\u001b[0m\u001b[1;33m\u001b[0m\u001b[0m\n\u001b[1;32m--> 511\u001b[1;33m             \u001b[0mreq\u001b[0m \u001b[1;33m=\u001b[0m \u001b[0mRequest\u001b[0m\u001b[1;33m(\u001b[0m\u001b[0mfullurl\u001b[0m\u001b[1;33m,\u001b[0m \u001b[0mdata\u001b[0m\u001b[1;33m)\u001b[0m\u001b[1;33m\u001b[0m\u001b[1;33m\u001b[0m\u001b[0m\n\u001b[0m\u001b[0;32m    512\u001b[0m         \u001b[1;32melse\u001b[0m\u001b[1;33m:\u001b[0m\u001b[1;33m\u001b[0m\u001b[1;33m\u001b[0m\u001b[0m\n\u001b[0;32m    513\u001b[0m             \u001b[0mreq\u001b[0m \u001b[1;33m=\u001b[0m \u001b[0mfullurl\u001b[0m\u001b[1;33m\u001b[0m\u001b[1;33m\u001b[0m\u001b[0m\n",
      "\u001b[1;32m~\\OneDrive - Reliance Corporate IT Park Limited\\Desktop\\Practice_Code\\Python_Practice\\Python_For_Data_Analysis\\myenv\\lib\\urllib\\request.py\u001b[0m in \u001b[0;36m__init__\u001b[1;34m(self, url, data, headers, origin_req_host, unverifiable, method)\u001b[0m\n\u001b[0;32m    327\u001b[0m                  \u001b[0morigin_req_host\u001b[0m\u001b[1;33m=\u001b[0m\u001b[1;32mNone\u001b[0m\u001b[1;33m,\u001b[0m \u001b[0munverifiable\u001b[0m\u001b[1;33m=\u001b[0m\u001b[1;32mFalse\u001b[0m\u001b[1;33m,\u001b[0m\u001b[1;33m\u001b[0m\u001b[1;33m\u001b[0m\u001b[0m\n\u001b[0;32m    328\u001b[0m                  method=None):\n\u001b[1;32m--> 329\u001b[1;33m         \u001b[0mself\u001b[0m\u001b[1;33m.\u001b[0m\u001b[0mfull_url\u001b[0m \u001b[1;33m=\u001b[0m \u001b[0murl\u001b[0m\u001b[1;33m\u001b[0m\u001b[1;33m\u001b[0m\u001b[0m\n\u001b[0m\u001b[0;32m    330\u001b[0m         \u001b[0mself\u001b[0m\u001b[1;33m.\u001b[0m\u001b[0mheaders\u001b[0m \u001b[1;33m=\u001b[0m \u001b[1;33m{\u001b[0m\u001b[1;33m}\u001b[0m\u001b[1;33m\u001b[0m\u001b[1;33m\u001b[0m\u001b[0m\n\u001b[0;32m    331\u001b[0m         \u001b[0mself\u001b[0m\u001b[1;33m.\u001b[0m\u001b[0munredirected_hdrs\u001b[0m \u001b[1;33m=\u001b[0m \u001b[1;33m{\u001b[0m\u001b[1;33m}\u001b[0m\u001b[1;33m\u001b[0m\u001b[1;33m\u001b[0m\u001b[0m\n",
      "\u001b[1;32m~\\OneDrive - Reliance Corporate IT Park Limited\\Desktop\\Practice_Code\\Python_Practice\\Python_For_Data_Analysis\\myenv\\lib\\urllib\\request.py\u001b[0m in \u001b[0;36mfull_url\u001b[1;34m(self, url)\u001b[0m\n\u001b[0;32m    353\u001b[0m         \u001b[0mself\u001b[0m\u001b[1;33m.\u001b[0m\u001b[0m_full_url\u001b[0m \u001b[1;33m=\u001b[0m \u001b[0munwrap\u001b[0m\u001b[1;33m(\u001b[0m\u001b[0murl\u001b[0m\u001b[1;33m)\u001b[0m\u001b[1;33m\u001b[0m\u001b[1;33m\u001b[0m\u001b[0m\n\u001b[0;32m    354\u001b[0m         \u001b[0mself\u001b[0m\u001b[1;33m.\u001b[0m\u001b[0m_full_url\u001b[0m\u001b[1;33m,\u001b[0m \u001b[0mself\u001b[0m\u001b[1;33m.\u001b[0m\u001b[0mfragment\u001b[0m \u001b[1;33m=\u001b[0m \u001b[0msplittag\u001b[0m\u001b[1;33m(\u001b[0m\u001b[0mself\u001b[0m\u001b[1;33m.\u001b[0m\u001b[0m_full_url\u001b[0m\u001b[1;33m)\u001b[0m\u001b[1;33m\u001b[0m\u001b[1;33m\u001b[0m\u001b[0m\n\u001b[1;32m--> 355\u001b[1;33m         \u001b[0mself\u001b[0m\u001b[1;33m.\u001b[0m\u001b[0m_parse\u001b[0m\u001b[1;33m(\u001b[0m\u001b[1;33m)\u001b[0m\u001b[1;33m\u001b[0m\u001b[1;33m\u001b[0m\u001b[0m\n\u001b[0m\u001b[0;32m    356\u001b[0m \u001b[1;33m\u001b[0m\u001b[0m\n\u001b[0;32m    357\u001b[0m     \u001b[1;33m@\u001b[0m\u001b[0mfull_url\u001b[0m\u001b[1;33m.\u001b[0m\u001b[0mdeleter\u001b[0m\u001b[1;33m\u001b[0m\u001b[1;33m\u001b[0m\u001b[0m\n",
      "\u001b[1;32m~\\OneDrive - Reliance Corporate IT Park Limited\\Desktop\\Practice_Code\\Python_Practice\\Python_For_Data_Analysis\\myenv\\lib\\urllib\\request.py\u001b[0m in \u001b[0;36m_parse\u001b[1;34m(self)\u001b[0m\n\u001b[0;32m    382\u001b[0m         \u001b[0mself\u001b[0m\u001b[1;33m.\u001b[0m\u001b[0mtype\u001b[0m\u001b[1;33m,\u001b[0m \u001b[0mrest\u001b[0m \u001b[1;33m=\u001b[0m \u001b[0msplittype\u001b[0m\u001b[1;33m(\u001b[0m\u001b[0mself\u001b[0m\u001b[1;33m.\u001b[0m\u001b[0m_full_url\u001b[0m\u001b[1;33m)\u001b[0m\u001b[1;33m\u001b[0m\u001b[1;33m\u001b[0m\u001b[0m\n\u001b[0;32m    383\u001b[0m         \u001b[1;32mif\u001b[0m \u001b[0mself\u001b[0m\u001b[1;33m.\u001b[0m\u001b[0mtype\u001b[0m \u001b[1;32mis\u001b[0m \u001b[1;32mNone\u001b[0m\u001b[1;33m:\u001b[0m\u001b[1;33m\u001b[0m\u001b[1;33m\u001b[0m\u001b[0m\n\u001b[1;32m--> 384\u001b[1;33m             \u001b[1;32mraise\u001b[0m \u001b[0mValueError\u001b[0m\u001b[1;33m(\u001b[0m\u001b[1;34m\"unknown url type: %r\"\u001b[0m \u001b[1;33m%\u001b[0m \u001b[0mself\u001b[0m\u001b[1;33m.\u001b[0m\u001b[0mfull_url\u001b[0m\u001b[1;33m)\u001b[0m\u001b[1;33m\u001b[0m\u001b[1;33m\u001b[0m\u001b[0m\n\u001b[0m\u001b[0;32m    385\u001b[0m         \u001b[0mself\u001b[0m\u001b[1;33m.\u001b[0m\u001b[0mhost\u001b[0m\u001b[1;33m,\u001b[0m \u001b[0mself\u001b[0m\u001b[1;33m.\u001b[0m\u001b[0mselector\u001b[0m \u001b[1;33m=\u001b[0m \u001b[0msplithost\u001b[0m\u001b[1;33m(\u001b[0m\u001b[0mrest\u001b[0m\u001b[1;33m)\u001b[0m\u001b[1;33m\u001b[0m\u001b[1;33m\u001b[0m\u001b[0m\n\u001b[0;32m    386\u001b[0m         \u001b[1;32mif\u001b[0m \u001b[0mself\u001b[0m\u001b[1;33m.\u001b[0m\u001b[0mhost\u001b[0m\u001b[1;33m:\u001b[0m\u001b[1;33m\u001b[0m\u001b[1;33m\u001b[0m\u001b[0m\n",
      "\u001b[1;31mValueError\u001b[0m: unknown url type: '/'"
     ]
    }
   ],
   "source": [
    "from urllib.request import urlopen\n",
    "from urllib.parse import urlparse\n",
    "import re\n",
    "import sys\n",
    "LINK_REGEX = re.compile(\n",
    " \"<a [^>]*href=['\\\"]([^'\\\"]+)['\\\"][^>]*>\")\n",
    "class LinkCollector:\n",
    "    def __init__(self, url):\n",
    "        self.url = \"\" + urlparse(url).netloc\n",
    "    def collect_links(self, path=\"/\"):\n",
    "        full_url = self.url + path\n",
    "        page = str(urlopen(full_url).read())\n",
    "        links = LINK_REGEX.findall(page)\n",
    "        print(links)\n",
    "if __name__ == \"__main__\":\n",
    "    LinkCollector(sys.argv[1]).collect_links()"
   ]
  },
  {
   "cell_type": "code",
   "execution_count": null,
   "id": "8a64b297",
   "metadata": {},
   "outputs": [],
   "source": []
  }
 ],
 "metadata": {
  "kernelspec": {
   "display_name": "Python 3 (ipykernel)",
   "language": "python",
   "name": "python3"
  },
  "language_info": {
   "codemirror_mode": {
    "name": "ipython",
    "version": 3
   },
   "file_extension": ".py",
   "mimetype": "text/x-python",
   "name": "python",
   "nbconvert_exporter": "python",
   "pygments_lexer": "ipython3",
   "version": "3.6.13"
  }
 },
 "nbformat": 4,
 "nbformat_minor": 5
}

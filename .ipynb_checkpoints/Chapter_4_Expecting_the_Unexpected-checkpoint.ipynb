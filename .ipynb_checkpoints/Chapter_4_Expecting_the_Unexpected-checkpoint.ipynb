{
 "cells": [
  {
   "cell_type": "markdown",
   "id": "21718347",
   "metadata": {},
   "source": [
    "Programs are very fragile. It would be ideal if code always returned a valid result,\n",
    "but sometimes a valid result can't be calculated. For example, it's not possible to\n",
    "divide by zero, or to access the eighth item in a five-item list"
   ]
  },
  {
   "cell_type": "markdown",
   "id": "b7ef8fb2",
   "metadata": {},
   "source": [
    "Exceptions are special error objects that only need to be\n",
    "handled when it makes sense to handle them"
   ]
  },
  {
   "cell_type": "markdown",
   "id": "28f26e5c",
   "metadata": {},
   "source": [
    "## Raising exceptions"
   ]
  },
  {
   "cell_type": "markdown",
   "id": "d375ed44",
   "metadata": {},
   "source": [
    "In principle, an exception is just an object. There are many different exception classes\n",
    "available, and we can easily define more of our own. The one thing they all have\n",
    "in common is that they inherit from a built-in class called BaseException. These\n",
    "exception objects become special when they are handled inside the program's flow of\n",
    "control. When an exception occurs, everything that was supposed to happen doesn't\n",
    "happen, unless it was supposed to happen when an exception occurred. Make sense?\n",
    "Don't worry, it will!"
   ]
  },
  {
   "cell_type": "markdown",
   "id": "b845d10e",
   "metadata": {},
   "source": [
    "The easiest way to cause an exception to occur is to do something silly"
   ]
  },
  {
   "cell_type": "markdown",
   "id": "e1b660e6",
   "metadata": {},
   "source": [
    "For example, any time\n",
    "Python encounters a line in your program that it can't understand, it bails with\n",
    "SyntaxError, which is a type of exception. Here's a common one:"
   ]
  },
  {
   "cell_type": "code",
   "execution_count": 1,
   "id": "78971824",
   "metadata": {},
   "outputs": [
    {
     "ename": "SyntaxError",
     "evalue": "Missing parentheses in call to 'print'. Did you mean print(\"hello world\")? (<ipython-input-1-6d29d8fb337c>, line 1)",
     "output_type": "error",
     "traceback": [
      "\u001b[1;36m  File \u001b[1;32m\"<ipython-input-1-6d29d8fb337c>\"\u001b[1;36m, line \u001b[1;32m1\u001b[0m\n\u001b[1;33m    print \"hello world\"\u001b[0m\n\u001b[1;37m                      ^\u001b[0m\n\u001b[1;31mSyntaxError\u001b[0m\u001b[1;31m:\u001b[0m Missing parentheses in call to 'print'. Did you mean print(\"hello world\")?\n"
     ]
    }
   ],
   "source": [
    "print \"hello world\""
   ]
  },
  {
   "cell_type": "code",
   "execution_count": 2,
   "id": "ce2ffda6",
   "metadata": {},
   "outputs": [
    {
     "ename": "ZeroDivisionError",
     "evalue": "division by zero",
     "output_type": "error",
     "traceback": [
      "\u001b[1;31m---------------------------------------------------------------------------\u001b[0m",
      "\u001b[1;31mZeroDivisionError\u001b[0m                         Traceback (most recent call last)",
      "\u001b[1;32m<ipython-input-2-663c7a933a87>\u001b[0m in \u001b[0;36m<module>\u001b[1;34m\u001b[0m\n\u001b[1;32m----> 1\u001b[1;33m \u001b[0mx\u001b[0m \u001b[1;33m=\u001b[0m \u001b[1;36m5\u001b[0m \u001b[1;33m/\u001b[0m \u001b[1;36m0\u001b[0m\u001b[1;33m\u001b[0m\u001b[1;33m\u001b[0m\u001b[0m\n\u001b[0m",
      "\u001b[1;31mZeroDivisionError\u001b[0m: division by zero"
     ]
    }
   ],
   "source": [
    "x = 5 / 0"
   ]
  },
  {
   "cell_type": "code",
   "execution_count": 3,
   "id": "178a8ac6",
   "metadata": {},
   "outputs": [
    {
     "ename": "IndexError",
     "evalue": "list index out of range",
     "output_type": "error",
     "traceback": [
      "\u001b[1;31m---------------------------------------------------------------------------\u001b[0m",
      "\u001b[1;31mIndexError\u001b[0m                                Traceback (most recent call last)",
      "\u001b[1;32m<ipython-input-3-9bad12320794>\u001b[0m in \u001b[0;36m<module>\u001b[1;34m\u001b[0m\n\u001b[0;32m      1\u001b[0m \u001b[0mlst\u001b[0m \u001b[1;33m=\u001b[0m \u001b[1;33m[\u001b[0m\u001b[1;36m1\u001b[0m\u001b[1;33m,\u001b[0m\u001b[1;36m2\u001b[0m\u001b[1;33m,\u001b[0m\u001b[1;36m3\u001b[0m\u001b[1;33m]\u001b[0m\u001b[1;33m\u001b[0m\u001b[1;33m\u001b[0m\u001b[0m\n\u001b[1;32m----> 2\u001b[1;33m \u001b[0mprint\u001b[0m\u001b[1;33m(\u001b[0m\u001b[0mlst\u001b[0m\u001b[1;33m[\u001b[0m\u001b[1;36m3\u001b[0m\u001b[1;33m]\u001b[0m\u001b[1;33m)\u001b[0m\u001b[1;33m\u001b[0m\u001b[1;33m\u001b[0m\u001b[0m\n\u001b[0m",
      "\u001b[1;31mIndexError\u001b[0m: list index out of range"
     ]
    }
   ],
   "source": [
    "lst = [1,2,3]\n",
    "print(lst[3])"
   ]
  },
  {
   "cell_type": "code",
   "execution_count": 4,
   "id": "e2bb43bc",
   "metadata": {},
   "outputs": [
    {
     "ename": "TypeError",
     "evalue": "can only concatenate list (not \"int\") to list",
     "output_type": "error",
     "traceback": [
      "\u001b[1;31m---------------------------------------------------------------------------\u001b[0m",
      "\u001b[1;31mTypeError\u001b[0m                                 Traceback (most recent call last)",
      "\u001b[1;32m<ipython-input-4-ffe4e6e220bf>\u001b[0m in \u001b[0;36m<module>\u001b[1;34m\u001b[0m\n\u001b[1;32m----> 1\u001b[1;33m \u001b[0mlst\u001b[0m \u001b[1;33m+\u001b[0m \u001b[1;36m2\u001b[0m\u001b[1;33m\u001b[0m\u001b[1;33m\u001b[0m\u001b[0m\n\u001b[0m",
      "\u001b[1;31mTypeError\u001b[0m: can only concatenate list (not \"int\") to list"
     ]
    }
   ],
   "source": [
    "lst + 2"
   ]
  },
  {
   "cell_type": "code",
   "execution_count": 5,
   "id": "ce45f76d",
   "metadata": {},
   "outputs": [
    {
     "ename": "AttributeError",
     "evalue": "'list' object has no attribute 'add'",
     "output_type": "error",
     "traceback": [
      "\u001b[1;31m---------------------------------------------------------------------------\u001b[0m",
      "\u001b[1;31mAttributeError\u001b[0m                            Traceback (most recent call last)",
      "\u001b[1;32m<ipython-input-5-50e4efd52cad>\u001b[0m in \u001b[0;36m<module>\u001b[1;34m\u001b[0m\n\u001b[1;32m----> 1\u001b[1;33m \u001b[0mlst\u001b[0m\u001b[1;33m.\u001b[0m\u001b[0madd\u001b[0m\u001b[1;33m\u001b[0m\u001b[1;33m\u001b[0m\u001b[0m\n\u001b[0m",
      "\u001b[1;31mAttributeError\u001b[0m: 'list' object has no attribute 'add'"
     ]
    }
   ],
   "source": [
    "lst.add"
   ]
  },
  {
   "cell_type": "code",
   "execution_count": 6,
   "id": "3eaf18eb",
   "metadata": {},
   "outputs": [
    {
     "ename": "KeyError",
     "evalue": "'b'",
     "output_type": "error",
     "traceback": [
      "\u001b[1;31m---------------------------------------------------------------------------\u001b[0m",
      "\u001b[1;31mKeyError\u001b[0m                                  Traceback (most recent call last)",
      "\u001b[1;32m<ipython-input-6-fe86502d0f3c>\u001b[0m in \u001b[0;36m<module>\u001b[1;34m\u001b[0m\n\u001b[0;32m      1\u001b[0m \u001b[0md\u001b[0m \u001b[1;33m=\u001b[0m \u001b[1;33m{\u001b[0m\u001b[1;34m'a'\u001b[0m\u001b[1;33m:\u001b[0m \u001b[1;34m'hello'\u001b[0m\u001b[1;33m}\u001b[0m\u001b[1;33m\u001b[0m\u001b[1;33m\u001b[0m\u001b[0m\n\u001b[1;32m----> 2\u001b[1;33m \u001b[0md\u001b[0m\u001b[1;33m[\u001b[0m\u001b[1;34m'b'\u001b[0m\u001b[1;33m]\u001b[0m\u001b[1;33m\u001b[0m\u001b[1;33m\u001b[0m\u001b[0m\n\u001b[0m",
      "\u001b[1;31mKeyError\u001b[0m: 'b'"
     ]
    }
   ],
   "source": [
    "d = {'a': 'hello'}\n",
    "d['b']"
   ]
  },
  {
   "cell_type": "code",
   "execution_count": 7,
   "id": "a82432d3",
   "metadata": {},
   "outputs": [
    {
     "ename": "NameError",
     "evalue": "name 'this_is_not_a_var' is not defined",
     "output_type": "error",
     "traceback": [
      "\u001b[1;31m---------------------------------------------------------------------------\u001b[0m",
      "\u001b[1;31mNameError\u001b[0m                                 Traceback (most recent call last)",
      "\u001b[1;32m<ipython-input-7-98aee2dae7f8>\u001b[0m in \u001b[0;36m<module>\u001b[1;34m\u001b[0m\n\u001b[1;32m----> 1\u001b[1;33m \u001b[0mprint\u001b[0m\u001b[1;33m(\u001b[0m\u001b[0mthis_is_not_a_var\u001b[0m\u001b[1;33m)\u001b[0m\u001b[1;33m\u001b[0m\u001b[1;33m\u001b[0m\u001b[0m\n\u001b[0m",
      "\u001b[1;31mNameError\u001b[0m: name 'this_is_not_a_var' is not defined"
     ]
    }
   ],
   "source": [
    "print(this_is_not_a_var)"
   ]
  },
  {
   "cell_type": "markdown",
   "id": "9c16a075",
   "metadata": {},
   "source": [
    "Sometimes these exceptions are indicators of something wrong in our program\n",
    "(in which case we would go to the indicated line number and fix it), but they also\n",
    "occur in legitimate situations. A ZeroDivisionError doesn't always mean we\n",
    "received an invalid input. It could also mean we have received a different input.\n",
    "The user may have entered a zero by mistake, or on purpose, or it may represent\n",
    "a legitimate value, such as an empty bank account or the age of a newborn child."
   ]
  },
  {
   "cell_type": "markdown",
   "id": "fddf482c",
   "metadata": {},
   "source": [
    "In Python, the words error and exception are used almost interchangeably.\n",
    "Errors are sometimes considered more dire than exceptions, but they are dealt with\n",
    "in exactly the same way. Indeed, all the error classes in the preceding example have\n",
    "Exception (which extends BaseException) as their superclass."
   ]
  },
  {
   "cell_type": "markdown",
   "id": "a25d2e6e",
   "metadata": {},
   "source": [
    "## Raising an exception"
   ]
  },
  {
   "cell_type": "code",
   "execution_count": 1,
   "id": "f1e91294",
   "metadata": {},
   "outputs": [],
   "source": [
    "class EvenOnly(list):\n",
    "    def append(self, integer):\n",
    "        if not isinstance(integer, int):\n",
    "            raise TypeError(\"Only integers can be added\")\n",
    "        if integer % 2:\n",
    "            raise ValueError(\"Only even numbers can be added\")\n",
    "        super().append(integer)"
   ]
  },
  {
   "cell_type": "markdown",
   "id": "c716e8f2",
   "metadata": {},
   "source": [
    "The raise keyword is simply\n",
    "followed by the object being raised as an exception."
   ]
  },
  {
   "cell_type": "markdown",
   "id": "3815c759",
   "metadata": {},
   "source": [
    "In the preceding example, two\n",
    "objects are newly constructed from the built-in classes TypeError and ValueError.\n",
    "The raised object could just as easily be an instance of a new exception class we create\n",
    "ourselves (we'll see how shortly), an exception that was defined elsewhere, or even an\n",
    "exception object that has been previously raised and handled. If we test this class in\n",
    "the Python interpreter, we can see that it is outputting useful error information when\n",
    "exceptions occur, just as before:"
   ]
  },
  {
   "cell_type": "code",
   "execution_count": 2,
   "id": "bca609d5",
   "metadata": {},
   "outputs": [],
   "source": [
    "e = EvenOnly()"
   ]
  },
  {
   "cell_type": "code",
   "execution_count": 3,
   "id": "1063a31b",
   "metadata": {},
   "outputs": [
    {
     "ename": "TypeError",
     "evalue": "Only integers can be added",
     "output_type": "error",
     "traceback": [
      "\u001b[1;31m---------------------------------------------------------------------------\u001b[0m",
      "\u001b[1;31mTypeError\u001b[0m                                 Traceback (most recent call last)",
      "\u001b[1;32m<ipython-input-3-9cff98c34dae>\u001b[0m in \u001b[0;36m<module>\u001b[1;34m\u001b[0m\n\u001b[1;32m----> 1\u001b[1;33m \u001b[0me\u001b[0m\u001b[1;33m.\u001b[0m\u001b[0mappend\u001b[0m\u001b[1;33m(\u001b[0m\u001b[1;34m\"a string\"\u001b[0m\u001b[1;33m)\u001b[0m\u001b[1;33m\u001b[0m\u001b[1;33m\u001b[0m\u001b[0m\n\u001b[0m",
      "\u001b[1;32m<ipython-input-1-486c7380e368>\u001b[0m in \u001b[0;36mappend\u001b[1;34m(self, integer)\u001b[0m\n\u001b[0;32m      2\u001b[0m     \u001b[1;32mdef\u001b[0m \u001b[0mappend\u001b[0m\u001b[1;33m(\u001b[0m\u001b[0mself\u001b[0m\u001b[1;33m,\u001b[0m \u001b[0minteger\u001b[0m\u001b[1;33m)\u001b[0m\u001b[1;33m:\u001b[0m\u001b[1;33m\u001b[0m\u001b[1;33m\u001b[0m\u001b[0m\n\u001b[0;32m      3\u001b[0m         \u001b[1;32mif\u001b[0m \u001b[1;32mnot\u001b[0m \u001b[0misinstance\u001b[0m\u001b[1;33m(\u001b[0m\u001b[0minteger\u001b[0m\u001b[1;33m,\u001b[0m \u001b[0mint\u001b[0m\u001b[1;33m)\u001b[0m\u001b[1;33m:\u001b[0m\u001b[1;33m\u001b[0m\u001b[1;33m\u001b[0m\u001b[0m\n\u001b[1;32m----> 4\u001b[1;33m             \u001b[1;32mraise\u001b[0m \u001b[0mTypeError\u001b[0m\u001b[1;33m(\u001b[0m\u001b[1;34m\"Only integers can be added\"\u001b[0m\u001b[1;33m)\u001b[0m\u001b[1;33m\u001b[0m\u001b[1;33m\u001b[0m\u001b[0m\n\u001b[0m\u001b[0;32m      5\u001b[0m         \u001b[1;32mif\u001b[0m \u001b[0minteger\u001b[0m \u001b[1;33m%\u001b[0m \u001b[1;36m2\u001b[0m\u001b[1;33m:\u001b[0m\u001b[1;33m\u001b[0m\u001b[1;33m\u001b[0m\u001b[0m\n\u001b[0;32m      6\u001b[0m             \u001b[1;32mraise\u001b[0m \u001b[0mValueError\u001b[0m\u001b[1;33m(\u001b[0m\u001b[1;34m\"Only even numbers can be added\"\u001b[0m\u001b[1;33m)\u001b[0m\u001b[1;33m\u001b[0m\u001b[1;33m\u001b[0m\u001b[0m\n",
      "\u001b[1;31mTypeError\u001b[0m: Only integers can be added"
     ]
    }
   ],
   "source": [
    "e.append(\"a string\")"
   ]
  },
  {
   "cell_type": "code",
   "execution_count": 4,
   "id": "bb27c9a2",
   "metadata": {},
   "outputs": [
    {
     "ename": "ValueError",
     "evalue": "Only even numbers can be added",
     "output_type": "error",
     "traceback": [
      "\u001b[1;31m---------------------------------------------------------------------------\u001b[0m",
      "\u001b[1;31mValueError\u001b[0m                                Traceback (most recent call last)",
      "\u001b[1;32m<ipython-input-4-d9ea7f347873>\u001b[0m in \u001b[0;36m<module>\u001b[1;34m\u001b[0m\n\u001b[1;32m----> 1\u001b[1;33m \u001b[0me\u001b[0m\u001b[1;33m.\u001b[0m\u001b[0mappend\u001b[0m\u001b[1;33m(\u001b[0m\u001b[1;36m3\u001b[0m\u001b[1;33m)\u001b[0m\u001b[1;33m\u001b[0m\u001b[1;33m\u001b[0m\u001b[0m\n\u001b[0m",
      "\u001b[1;32m<ipython-input-1-486c7380e368>\u001b[0m in \u001b[0;36mappend\u001b[1;34m(self, integer)\u001b[0m\n\u001b[0;32m      4\u001b[0m             \u001b[1;32mraise\u001b[0m \u001b[0mTypeError\u001b[0m\u001b[1;33m(\u001b[0m\u001b[1;34m\"Only integers can be added\"\u001b[0m\u001b[1;33m)\u001b[0m\u001b[1;33m\u001b[0m\u001b[1;33m\u001b[0m\u001b[0m\n\u001b[0;32m      5\u001b[0m         \u001b[1;32mif\u001b[0m \u001b[0minteger\u001b[0m \u001b[1;33m%\u001b[0m \u001b[1;36m2\u001b[0m\u001b[1;33m:\u001b[0m\u001b[1;33m\u001b[0m\u001b[1;33m\u001b[0m\u001b[0m\n\u001b[1;32m----> 6\u001b[1;33m             \u001b[1;32mraise\u001b[0m \u001b[0mValueError\u001b[0m\u001b[1;33m(\u001b[0m\u001b[1;34m\"Only even numbers can be added\"\u001b[0m\u001b[1;33m)\u001b[0m\u001b[1;33m\u001b[0m\u001b[1;33m\u001b[0m\u001b[0m\n\u001b[0m\u001b[0;32m      7\u001b[0m         \u001b[0msuper\u001b[0m\u001b[1;33m(\u001b[0m\u001b[1;33m)\u001b[0m\u001b[1;33m.\u001b[0m\u001b[0mappend\u001b[0m\u001b[1;33m(\u001b[0m\u001b[0minteger\u001b[0m\u001b[1;33m)\u001b[0m\u001b[1;33m\u001b[0m\u001b[1;33m\u001b[0m\u001b[0m\n",
      "\u001b[1;31mValueError\u001b[0m: Only even numbers can be added"
     ]
    }
   ],
   "source": [
    "e.append(3)"
   ]
  },
  {
   "cell_type": "code",
   "execution_count": 5,
   "id": "24faa6fd",
   "metadata": {},
   "outputs": [],
   "source": [
    "e.append(2)"
   ]
  },
  {
   "cell_type": "code",
   "execution_count": 6,
   "id": "744c0a4d",
   "metadata": {},
   "outputs": [
    {
     "data": {
      "text/plain": [
       "[2]"
      ]
     },
     "execution_count": 6,
     "metadata": {},
     "output_type": "execute_result"
    }
   ],
   "source": [
    "e"
   ]
  },
  {
   "cell_type": "code",
   "execution_count": 7,
   "id": "af2328c8",
   "metadata": {},
   "outputs": [],
   "source": [
    "e.append(4)"
   ]
  },
  {
   "cell_type": "code",
   "execution_count": 8,
   "id": "9d4b3eaa",
   "metadata": {},
   "outputs": [
    {
     "data": {
      "text/plain": [
       "[2, 4]"
      ]
     },
     "execution_count": 8,
     "metadata": {},
     "output_type": "execute_result"
    }
   ],
   "source": [
    "e"
   ]
  },
  {
   "cell_type": "markdown",
   "id": "a0e3fa40",
   "metadata": {},
   "source": [
    "## The effects of an exception"
   ]
  },
  {
   "cell_type": "markdown",
   "id": "8faf1e02",
   "metadata": {},
   "source": [
    "When an exception is raised, it appears to stop program execution immediately.\n",
    "Any lines that were supposed to run after the exception is raised are not executed,\n",
    "and unless the exception is dealt with, the program will exit with an error message.\n",
    "Take a look at this simple function:"
   ]
  },
  {
   "cell_type": "code",
   "execution_count": 1,
   "id": "7ff18111",
   "metadata": {},
   "outputs": [],
   "source": [
    "def no_return():\n",
    "    print(\"I am about to raise an exception\")\n",
    "    raise Exception(\"This is always raised\")\n",
    "    print(\"This line will never execute\")\n",
    "    return \"I won't be returned\""
   ]
  },
  {
   "cell_type": "code",
   "execution_count": 3,
   "id": "55db7f00",
   "metadata": {},
   "outputs": [
    {
     "name": "stdout",
     "output_type": "stream",
     "text": [
      "I am about to raise an exception\n"
     ]
    },
    {
     "ename": "Exception",
     "evalue": "This is always raised",
     "output_type": "error",
     "traceback": [
      "\u001b[1;31m---------------------------------------------------------------------------\u001b[0m",
      "\u001b[1;31mException\u001b[0m                                 Traceback (most recent call last)",
      "\u001b[1;32m<ipython-input-3-7cb40636301c>\u001b[0m in \u001b[0;36m<module>\u001b[1;34m\u001b[0m\n\u001b[1;32m----> 1\u001b[1;33m \u001b[0mno_return\u001b[0m\u001b[1;33m(\u001b[0m\u001b[1;33m)\u001b[0m\u001b[1;33m\u001b[0m\u001b[1;33m\u001b[0m\u001b[0m\n\u001b[0m",
      "\u001b[1;32m<ipython-input-1-360114464443>\u001b[0m in \u001b[0;36mno_return\u001b[1;34m()\u001b[0m\n\u001b[0;32m      1\u001b[0m \u001b[1;32mdef\u001b[0m \u001b[0mno_return\u001b[0m\u001b[1;33m(\u001b[0m\u001b[1;33m)\u001b[0m\u001b[1;33m:\u001b[0m\u001b[1;33m\u001b[0m\u001b[1;33m\u001b[0m\u001b[0m\n\u001b[0;32m      2\u001b[0m     \u001b[0mprint\u001b[0m\u001b[1;33m(\u001b[0m\u001b[1;34m\"I am about to raise an exception\"\u001b[0m\u001b[1;33m)\u001b[0m\u001b[1;33m\u001b[0m\u001b[1;33m\u001b[0m\u001b[0m\n\u001b[1;32m----> 3\u001b[1;33m     \u001b[1;32mraise\u001b[0m \u001b[0mException\u001b[0m\u001b[1;33m(\u001b[0m\u001b[1;34m\"This is always raised\"\u001b[0m\u001b[1;33m)\u001b[0m\u001b[1;33m\u001b[0m\u001b[1;33m\u001b[0m\u001b[0m\n\u001b[0m\u001b[0;32m      4\u001b[0m     \u001b[0mprint\u001b[0m\u001b[1;33m(\u001b[0m\u001b[1;34m\"This line will never execute\"\u001b[0m\u001b[1;33m)\u001b[0m\u001b[1;33m\u001b[0m\u001b[1;33m\u001b[0m\u001b[0m\n\u001b[0;32m      5\u001b[0m     \u001b[1;32mreturn\u001b[0m \u001b[1;34m\"I won't be returned\"\u001b[0m\u001b[1;33m\u001b[0m\u001b[1;33m\u001b[0m\u001b[0m\n",
      "\u001b[1;31mException\u001b[0m: This is always raised"
     ]
    }
   ],
   "source": [
    "no_return()"
   ]
  },
  {
   "cell_type": "markdown",
   "id": "9349b9b6",
   "metadata": {},
   "source": [
    "## Handling exceptions"
   ]
  },
  {
   "cell_type": "markdown",
   "id": "d7f6cce2",
   "metadata": {},
   "source": [
    "We handle exceptions\n",
    "by wrapping any code that might throw one (whether it is exception code itself, or\n",
    "a call to any function or method that may have an exception raised inside it) inside\n",
    "a try...except clause. The most basic syntax looks like this:"
   ]
  },
  {
   "cell_type": "code",
   "execution_count": 2,
   "id": "c6428f41",
   "metadata": {},
   "outputs": [
    {
     "name": "stdout",
     "output_type": "stream",
     "text": [
      "I caught an exception\n",
      "executed after the exception\n"
     ]
    }
   ],
   "source": [
    "try:\n",
    "    no_return()\n",
    "except:\n",
    "    print(\"I caught an exception\")\n",
    "print(\"executed after the exception\")"
   ]
  },
  {
   "cell_type": "markdown",
   "id": "ec571c79",
   "metadata": {},
   "source": [
    "The no_return function happily informs us that it is about to raise an exception,\n",
    "but we fooled it and caught the exception. Once caught, we were able to clean up\n",
    "after ourselves (in this case, by outputting that we were handling the situation),\n",
    "and continue on our way, with no interference from that offensive function. The\n",
    "remainder of the code in the no_return function still went unexecuted, but the\n",
    "code that called the function was able to recover and continue."
   ]
  },
  {
   "cell_type": "markdown",
   "id": "d1d7dcd9",
   "metadata": {},
   "source": [
    "Note the indentation around try and except. The try clause wraps any code that\n",
    "might throw an exception. The except clause is then back on the same indentation\n",
    "level as the try line. Any code to handle the exception is indented after the except\n",
    "clause. Then normal code resumes at the original indentation level."
   ]
  },
  {
   "cell_type": "markdown",
   "id": "b1913b96",
   "metadata": {},
   "source": [
    "The problem with the preceding code is that it will catch any type of exception.\n",
    "What if we were writing some code that could raise both a TypeError and a\n",
    "ZeroDivisionError? We might want to catch the ZeroDivisionError, but\n",
    "let the TypeError propagate to the console. Can you guess the syntax?"
   ]
  },
  {
   "cell_type": "code",
   "execution_count": 3,
   "id": "001dc2da",
   "metadata": {},
   "outputs": [
    {
     "name": "stdout",
     "output_type": "stream",
     "text": [
      "Zero is not a good idea!\n",
      "2.0\n"
     ]
    },
    {
     "ename": "TypeError",
     "evalue": "unsupported operand type(s) for /: 'int' and 'str'",
     "output_type": "error",
     "traceback": [
      "\u001b[1;31m---------------------------------------------------------------------------\u001b[0m",
      "\u001b[1;31mTypeError\u001b[0m                                 Traceback (most recent call last)",
      "\u001b[1;32m<ipython-input-3-be4335bed4fb>\u001b[0m in \u001b[0;36m<module>\u001b[1;34m\u001b[0m\n\u001b[0;32m      6\u001b[0m \u001b[0mprint\u001b[0m\u001b[1;33m(\u001b[0m\u001b[0mfunny_division\u001b[0m\u001b[1;33m(\u001b[0m\u001b[1;36m0\u001b[0m\u001b[1;33m)\u001b[0m\u001b[1;33m)\u001b[0m\u001b[1;33m\u001b[0m\u001b[1;33m\u001b[0m\u001b[0m\n\u001b[0;32m      7\u001b[0m \u001b[0mprint\u001b[0m\u001b[1;33m(\u001b[0m\u001b[0mfunny_division\u001b[0m\u001b[1;33m(\u001b[0m\u001b[1;36m50.0\u001b[0m\u001b[1;33m)\u001b[0m\u001b[1;33m)\u001b[0m\u001b[1;33m\u001b[0m\u001b[1;33m\u001b[0m\u001b[0m\n\u001b[1;32m----> 8\u001b[1;33m \u001b[0mprint\u001b[0m\u001b[1;33m(\u001b[0m\u001b[0mfunny_division\u001b[0m\u001b[1;33m(\u001b[0m\u001b[1;34m\"hello\"\u001b[0m\u001b[1;33m)\u001b[0m\u001b[1;33m)\u001b[0m\u001b[1;33m\u001b[0m\u001b[1;33m\u001b[0m\u001b[0m\n\u001b[0m",
      "\u001b[1;32m<ipython-input-3-be4335bed4fb>\u001b[0m in \u001b[0;36mfunny_division\u001b[1;34m(divider)\u001b[0m\n\u001b[0;32m      1\u001b[0m \u001b[1;32mdef\u001b[0m \u001b[0mfunny_division\u001b[0m\u001b[1;33m(\u001b[0m\u001b[0mdivider\u001b[0m\u001b[1;33m)\u001b[0m\u001b[1;33m:\u001b[0m\u001b[1;33m\u001b[0m\u001b[1;33m\u001b[0m\u001b[0m\n\u001b[0;32m      2\u001b[0m     \u001b[1;32mtry\u001b[0m\u001b[1;33m:\u001b[0m\u001b[1;33m\u001b[0m\u001b[1;33m\u001b[0m\u001b[0m\n\u001b[1;32m----> 3\u001b[1;33m         \u001b[1;32mreturn\u001b[0m \u001b[1;36m100\u001b[0m \u001b[1;33m/\u001b[0m \u001b[0mdivider\u001b[0m\u001b[1;33m\u001b[0m\u001b[1;33m\u001b[0m\u001b[0m\n\u001b[0m\u001b[0;32m      4\u001b[0m     \u001b[1;32mexcept\u001b[0m \u001b[0mZeroDivisionError\u001b[0m\u001b[1;33m:\u001b[0m\u001b[1;33m\u001b[0m\u001b[1;33m\u001b[0m\u001b[0m\n\u001b[0;32m      5\u001b[0m         \u001b[1;32mreturn\u001b[0m \u001b[1;34m\"Zero is not a good idea!\"\u001b[0m\u001b[1;33m\u001b[0m\u001b[1;33m\u001b[0m\u001b[0m\n",
      "\u001b[1;31mTypeError\u001b[0m: unsupported operand type(s) for /: 'int' and 'str'"
     ]
    }
   ],
   "source": [
    "def funny_division(divider):\n",
    "    try:\n",
    "        return 100 / divider\n",
    "    except ZeroDivisionError:\n",
    "        return \"Zero is not a good idea!\"\n",
    "print(funny_division(0))\n",
    "print(funny_division(50.0))\n",
    "print(funny_division(\"hello\"))"
   ]
  },
  {
   "cell_type": "markdown",
   "id": "3b10b7cf",
   "metadata": {},
   "source": [
    "Yet if we enter a string (you were wondering how to get a\n",
    "TypeError, weren't you?), it fails with an exception. If we had used an empty\n",
    "except clause that didn't specify a ZeroDivisionError, it would have accused us\n",
    "of dividing by zero when we sent it a string, which is not a proper behavior at all."
   ]
  },
  {
   "cell_type": "code",
   "execution_count": 4,
   "id": "b81b1a8b",
   "metadata": {},
   "outputs": [
    {
     "name": "stdout",
     "output_type": "stream",
     "text": [
      "Zero is not a good idea!\n",
      "2.0\n",
      "Zero is not a good idea!\n"
     ]
    }
   ],
   "source": [
    "def funny_division(divider):\n",
    "    try:\n",
    "        return 100 / divider\n",
    "    except:\n",
    "        return \"Zero is not a good idea!\"\n",
    "print(funny_division(0))\n",
    "print(funny_division(50.0))\n",
    "print(funny_division(\"hello\"))"
   ]
  },
  {
   "cell_type": "markdown",
   "id": "e608d2c2",
   "metadata": {},
   "source": [
    "We can even catch two or more different exceptions and handle them with the same\n",
    "code. Here's an example that raises three different types of exception. It handles\n",
    "TypeError and ZeroDivisionError with the same exception handler, but it may\n",
    "also raise a ValueError if you supply the number 13:"
   ]
  },
  {
   "cell_type": "code",
   "execution_count": 6,
   "id": "7b375a8f",
   "metadata": {},
   "outputs": [
    {
     "name": "stdout",
     "output_type": "stream",
     "text": [
      "Testing 0: Enter a number other than zero\n",
      "Testing hello: Enter a number other than zero\n",
      "Testing 50.0: 2.0\n",
      "Testing 13: "
     ]
    },
    {
     "ename": "ValueError",
     "evalue": "13 is an unlucky number",
     "output_type": "error",
     "traceback": [
      "\u001b[1;31m---------------------------------------------------------------------------\u001b[0m",
      "\u001b[1;31mValueError\u001b[0m                                Traceback (most recent call last)",
      "\u001b[1;32m<ipython-input-6-12d4f292443c>\u001b[0m in \u001b[0;36m<module>\u001b[1;34m\u001b[0m\n\u001b[0;32m      8\u001b[0m \u001b[1;32mfor\u001b[0m \u001b[0mval\u001b[0m \u001b[1;32min\u001b[0m \u001b[1;33m(\u001b[0m\u001b[1;36m0\u001b[0m\u001b[1;33m,\u001b[0m \u001b[1;34m\"hello\"\u001b[0m\u001b[1;33m,\u001b[0m \u001b[1;36m50.0\u001b[0m\u001b[1;33m,\u001b[0m \u001b[1;36m13\u001b[0m\u001b[1;33m)\u001b[0m\u001b[1;33m:\u001b[0m\u001b[1;33m\u001b[0m\u001b[1;33m\u001b[0m\u001b[0m\n\u001b[0;32m      9\u001b[0m     \u001b[0mprint\u001b[0m\u001b[1;33m(\u001b[0m\u001b[1;34m\"Testing {}:\"\u001b[0m\u001b[1;33m.\u001b[0m\u001b[0mformat\u001b[0m\u001b[1;33m(\u001b[0m\u001b[0mval\u001b[0m\u001b[1;33m)\u001b[0m\u001b[1;33m,\u001b[0m \u001b[0mend\u001b[0m\u001b[1;33m=\u001b[0m\u001b[1;34m\" \"\u001b[0m\u001b[1;33m)\u001b[0m\u001b[1;33m\u001b[0m\u001b[1;33m\u001b[0m\u001b[0m\n\u001b[1;32m---> 10\u001b[1;33m     \u001b[0mprint\u001b[0m\u001b[1;33m(\u001b[0m\u001b[0mfunny_division2\u001b[0m\u001b[1;33m(\u001b[0m\u001b[0mval\u001b[0m\u001b[1;33m)\u001b[0m\u001b[1;33m)\u001b[0m\u001b[1;33m\u001b[0m\u001b[1;33m\u001b[0m\u001b[0m\n\u001b[0m",
      "\u001b[1;32m<ipython-input-6-12d4f292443c>\u001b[0m in \u001b[0;36mfunny_division2\u001b[1;34m(anumber)\u001b[0m\n\u001b[0;32m      2\u001b[0m     \u001b[1;32mtry\u001b[0m\u001b[1;33m:\u001b[0m\u001b[1;33m\u001b[0m\u001b[1;33m\u001b[0m\u001b[0m\n\u001b[0;32m      3\u001b[0m         \u001b[1;32mif\u001b[0m \u001b[0manumber\u001b[0m \u001b[1;33m==\u001b[0m \u001b[1;36m13\u001b[0m\u001b[1;33m:\u001b[0m\u001b[1;33m\u001b[0m\u001b[1;33m\u001b[0m\u001b[0m\n\u001b[1;32m----> 4\u001b[1;33m             \u001b[1;32mraise\u001b[0m \u001b[0mValueError\u001b[0m\u001b[1;33m(\u001b[0m\u001b[1;34m\"13 is an unlucky number\"\u001b[0m\u001b[1;33m)\u001b[0m\u001b[1;33m\u001b[0m\u001b[1;33m\u001b[0m\u001b[0m\n\u001b[0m\u001b[0;32m      5\u001b[0m         \u001b[1;32mreturn\u001b[0m \u001b[1;36m100\u001b[0m \u001b[1;33m/\u001b[0m \u001b[0manumber\u001b[0m\u001b[1;33m\u001b[0m\u001b[1;33m\u001b[0m\u001b[0m\n\u001b[0;32m      6\u001b[0m     \u001b[1;32mexcept\u001b[0m \u001b[1;33m(\u001b[0m\u001b[0mZeroDivisionError\u001b[0m\u001b[1;33m,\u001b[0m \u001b[0mTypeError\u001b[0m\u001b[1;33m)\u001b[0m\u001b[1;33m:\u001b[0m\u001b[1;33m\u001b[0m\u001b[1;33m\u001b[0m\u001b[0m\n",
      "\u001b[1;31mValueError\u001b[0m: 13 is an unlucky number"
     ]
    }
   ],
   "source": [
    "def funny_division2(anumber):\n",
    "    try:\n",
    "        if anumber == 13:\n",
    "            raise ValueError(\"13 is an unlucky number\")\n",
    "        return 100 / anumber\n",
    "    except (ZeroDivisionError, TypeError):\n",
    "        return \"Enter a number other than zero\"\n",
    "for val in (0, \"hello\", 50.0, 13):\n",
    "    print(\"Testing {}:\".format(val), end=\" \")\n",
    "    print(funny_division2(val))"
   ]
  },
  {
   "cell_type": "markdown",
   "id": "8d287967",
   "metadata": {},
   "source": [
    "The number 0 and the string are both caught by the except clause, and a suitable\n",
    "error message is printed. The exception from the number 13 is not caught because it\n",
    "is a ValueError, which was not included in the types of exceptions being handled.\n",
    "This is all well and good, but what if we want to catch different exceptions and do\n",
    "different things with them? Or maybe we want to do something with an exception\n",
    "and then allow it to continue to bubble up to the parent function, as if it had never\n",
    "been caught? We don't need any new syntax to deal with these cases. It's possible\n",
    "to stack except clauses, and only the first match will be executed. For the second\n",
    "question, the raise keyword, with no arguments, will reraise the last exception if\n",
    "we're already inside an exception handler. Observe in the following code:"
   ]
  },
  {
   "cell_type": "code",
   "execution_count": 9,
   "id": "f579bc3f",
   "metadata": {},
   "outputs": [
    {
     "name": "stdout",
     "output_type": "stream",
     "text": [
      "Testing 0: Enter a number other than zero\n",
      "Testing hello: Enter a numerical value\n",
      "Testing 50.0: 2.0\n",
      "Testing 13: No, No, not 13!\n"
     ]
    },
    {
     "ename": "ValueError",
     "evalue": "13 is an unlucky number",
     "output_type": "error",
     "traceback": [
      "\u001b[1;31m---------------------------------------------------------------------------\u001b[0m",
      "\u001b[1;31mValueError\u001b[0m                                Traceback (most recent call last)",
      "\u001b[1;32m<ipython-input-9-bdac33693192>\u001b[0m in \u001b[0;36m<module>\u001b[1;34m\u001b[0m\n\u001b[0;32m     13\u001b[0m \u001b[1;32mfor\u001b[0m \u001b[0mval\u001b[0m \u001b[1;32min\u001b[0m \u001b[1;33m(\u001b[0m\u001b[1;36m0\u001b[0m\u001b[1;33m,\u001b[0m \u001b[1;34m\"hello\"\u001b[0m\u001b[1;33m,\u001b[0m \u001b[1;36m50.0\u001b[0m\u001b[1;33m,\u001b[0m \u001b[1;36m13\u001b[0m\u001b[1;33m)\u001b[0m\u001b[1;33m:\u001b[0m\u001b[1;33m\u001b[0m\u001b[1;33m\u001b[0m\u001b[0m\n\u001b[0;32m     14\u001b[0m     \u001b[0mprint\u001b[0m\u001b[1;33m(\u001b[0m\u001b[1;34m\"Testing {}:\"\u001b[0m\u001b[1;33m.\u001b[0m\u001b[0mformat\u001b[0m\u001b[1;33m(\u001b[0m\u001b[0mval\u001b[0m\u001b[1;33m)\u001b[0m\u001b[1;33m,\u001b[0m \u001b[0mend\u001b[0m\u001b[1;33m=\u001b[0m\u001b[1;34m\" \"\u001b[0m\u001b[1;33m)\u001b[0m\u001b[1;33m\u001b[0m\u001b[1;33m\u001b[0m\u001b[0m\n\u001b[1;32m---> 15\u001b[1;33m     \u001b[0mprint\u001b[0m\u001b[1;33m(\u001b[0m\u001b[0mfunny_division3\u001b[0m\u001b[1;33m(\u001b[0m\u001b[0mval\u001b[0m\u001b[1;33m)\u001b[0m\u001b[1;33m)\u001b[0m\u001b[1;33m\u001b[0m\u001b[1;33m\u001b[0m\u001b[0m\n\u001b[0m",
      "\u001b[1;32m<ipython-input-9-bdac33693192>\u001b[0m in \u001b[0;36mfunny_division3\u001b[1;34m(anumber)\u001b[0m\n\u001b[0;32m      2\u001b[0m     \u001b[1;32mtry\u001b[0m\u001b[1;33m:\u001b[0m\u001b[1;33m\u001b[0m\u001b[1;33m\u001b[0m\u001b[0m\n\u001b[0;32m      3\u001b[0m         \u001b[1;32mif\u001b[0m \u001b[0manumber\u001b[0m \u001b[1;33m==\u001b[0m \u001b[1;36m13\u001b[0m\u001b[1;33m:\u001b[0m\u001b[1;33m\u001b[0m\u001b[1;33m\u001b[0m\u001b[0m\n\u001b[1;32m----> 4\u001b[1;33m             \u001b[1;32mraise\u001b[0m \u001b[0mValueError\u001b[0m\u001b[1;33m(\u001b[0m\u001b[1;34m\"13 is an unlucky number\"\u001b[0m\u001b[1;33m)\u001b[0m\u001b[1;33m\u001b[0m\u001b[1;33m\u001b[0m\u001b[0m\n\u001b[0m\u001b[0;32m      5\u001b[0m         \u001b[1;32mreturn\u001b[0m \u001b[1;36m100\u001b[0m \u001b[1;33m/\u001b[0m \u001b[0manumber\u001b[0m\u001b[1;33m\u001b[0m\u001b[1;33m\u001b[0m\u001b[0m\n\u001b[0;32m      6\u001b[0m     \u001b[1;32mexcept\u001b[0m \u001b[0mZeroDivisionError\u001b[0m\u001b[1;33m:\u001b[0m\u001b[1;33m\u001b[0m\u001b[1;33m\u001b[0m\u001b[0m\n",
      "\u001b[1;31mValueError\u001b[0m: 13 is an unlucky number"
     ]
    }
   ],
   "source": [
    "def funny_division3(anumber):\n",
    "    try:\n",
    "        if anumber == 13:\n",
    "            raise ValueError(\"13 is an unlucky number\")\n",
    "        return 100 / anumber\n",
    "    except ZeroDivisionError:\n",
    "        return \"Enter a number other than zero\"\n",
    "    except TypeError:\n",
    "        return \"Enter a numerical value\"\n",
    "    except ValueError:\n",
    "        print(\"No, No, not 13!\")\n",
    "        raise\n",
    "for val in (0, \"hello\", 50.0, 13):\n",
    "    print(\"Testing {}:\".format(val), end=\" \")\n",
    "    print(funny_division3(val))"
   ]
  },
  {
   "cell_type": "markdown",
   "id": "7d627096",
   "metadata": {},
   "source": [
    "The last line reraises the ValueError, so after outputting No, No, not 13!, it will\n",
    "raise the exception again; we'll still get the original stack trace on the console."
   ]
  },
  {
   "cell_type": "markdown",
   "id": "644896e4",
   "metadata": {},
   "source": [
    "If we stack exception clauses like we did in the preceding example, only the first\n",
    "matching clause will be run, even if more than one of them fits. How can more\n",
    "than one clause match? Remember that exceptions are objects, and can therefore be\n",
    "subclassed. As we'll see in the next section, most exceptions extend the Exception\n",
    "class (which is itself derived from BaseException). If we catch Exception before\n",
    "we catch TypeError, then only the Exception handler will be executed, because\n",
    "TypeError is an Exception by inheritance."
   ]
  },
  {
   "cell_type": "markdown",
   "id": "507c11e5",
   "metadata": {},
   "source": [
    "This can come in handy in cases where we want to handle some exceptions specifically,\n",
    "and then handle all remaining exceptions as a more general case. We can simply catch\n",
    "Exception after catching all the specific exceptions and handle the general case there."
   ]
  },
  {
   "cell_type": "markdown",
   "id": "7dc7f133",
   "metadata": {},
   "source": [
    "Sometimes, when we catch an exception, we need a reference to the Exception object\n",
    "itself. This most often happens when we define our own exceptions with custom\n",
    "arguments, but can also be relevant with standard exceptions. Most exception classes\n",
    "accept a set of arguments in their constructor, and we might want to access those\n",
    "attributes in the exception handler. If we define our own exception class, we can even\n",
    "call custom methods on it when we catch it. The syntax for capturing an exception as\n",
    "a variable uses the as keyword"
   ]
  },
  {
   "cell_type": "code",
   "execution_count": 10,
   "id": "9308ef3a",
   "metadata": {},
   "outputs": [
    {
     "name": "stdout",
     "output_type": "stream",
     "text": [
      "The exception arguments were ('This is an argument',)\n"
     ]
    }
   ],
   "source": [
    "try:\n",
    "    raise ValueError(\"This is an argument\")\n",
    "except ValueError as e:\n",
    "    print(\"The exception arguments were\", e.args)"
   ]
  },
  {
   "cell_type": "markdown",
   "id": "a698c282",
   "metadata": {},
   "source": [
    "If we run this simple snippet, it prints out the string argument that we passed into\n",
    "ValueError upon initialization."
   ]
  },
  {
   "cell_type": "markdown",
   "id": "ecdb00c4",
   "metadata": {},
   "source": [
    "We've seen several variations on the syntax for handling exceptions, but we still\n",
    "don't know how to execute code regardless of whether or not an exception has\n",
    "occurred. We also can't specify code that should be executed only if an exception\n",
    "does not occur. Two more keywords, finally and else, can provide the missing\n",
    "pieces. Neither one takes any extra arguments. The following example randomly\n",
    "picks an exception to throw and raises it. Then some not-so-complicated exception\n",
    "handling code is run that illustrates the newly introduced syntax:"
   ]
  },
  {
   "cell_type": "code",
   "execution_count": 11,
   "id": "77c7c980",
   "metadata": {},
   "outputs": [
    {
     "name": "stdout",
     "output_type": "stream",
     "text": [
      "raising <class 'ValueError'>\n",
      "Caught a ValueError\n",
      "This cleanup code is always called\n"
     ]
    }
   ],
   "source": [
    "import random\n",
    "some_exceptions = [ValueError, TypeError, IndexError, None]\n",
    "try:\n",
    "    choice = random.choice(some_exceptions)\n",
    "    print(\"raising {}\".format(choice))\n",
    "    if choice:\n",
    "        raise choice(\"An error\")\n",
    "except ValueError:\n",
    "    print(\"Caught a ValueError\")\n",
    "except TypeError:\n",
    "    print(\"Caught a TypeError\")\n",
    "except Exception as e:\n",
    "    print(\"Caught some other error: %s\" % ( e.__class__.__name__))\n",
    "else:\n",
    "    print(\"This code called if there is no exception\")\n",
    "finally:\n",
    "    print(\"This cleanup code is always called\")"
   ]
  },
  {
   "cell_type": "code",
   "execution_count": 12,
   "id": "f3d41ece",
   "metadata": {},
   "outputs": [
    {
     "name": "stdout",
     "output_type": "stream",
     "text": [
      "raising <class 'ValueError'>\n",
      "Caught a ValueError\n",
      "This cleanup code is always called\n"
     ]
    }
   ],
   "source": [
    "import random\n",
    "some_exceptions = [ValueError, TypeError, IndexError, None]\n",
    "try:\n",
    "    choice = random.choice(some_exceptions)\n",
    "    print(\"raising {}\".format(choice))\n",
    "    if choice:\n",
    "        raise choice(\"An error\")\n",
    "except ValueError:\n",
    "    print(\"Caught a ValueError\")\n",
    "except TypeError:\n",
    "    print(\"Caught a TypeError\")\n",
    "except Exception as e:\n",
    "    print(\"Caught some other error: %s\" % ( e.__class__.__name__))\n",
    "else:\n",
    "    print(\"This code called if there is no exception\")\n",
    "finally:\n",
    "    print(\"This cleanup code is always called\")"
   ]
  },
  {
   "cell_type": "code",
   "execution_count": 13,
   "id": "cb60452e",
   "metadata": {},
   "outputs": [
    {
     "name": "stdout",
     "output_type": "stream",
     "text": [
      "raising <class 'TypeError'>\n",
      "Caught a TypeError\n",
      "This cleanup code is always called\n"
     ]
    }
   ],
   "source": [
    "import random\n",
    "some_exceptions = [ValueError, TypeError, IndexError, None]\n",
    "try:\n",
    "    choice = random.choice(some_exceptions)\n",
    "    print(\"raising {}\".format(choice))\n",
    "    if choice:\n",
    "        raise choice(\"An error\")\n",
    "except ValueError:\n",
    "    print(\"Caught a ValueError\")\n",
    "except TypeError:\n",
    "    print(\"Caught a TypeError\")\n",
    "except Exception as e:\n",
    "    print(\"Caught some other error: %s\" % ( e.__class__.__name__))\n",
    "else:\n",
    "    print(\"This code called if there is no exception\")\n",
    "finally:\n",
    "    print(\"This cleanup code is always called\")"
   ]
  },
  {
   "cell_type": "code",
   "execution_count": 14,
   "id": "f330c011",
   "metadata": {},
   "outputs": [
    {
     "name": "stdout",
     "output_type": "stream",
     "text": [
      "raising None\n",
      "This code called if there is no exception\n",
      "This cleanup code is always called\n"
     ]
    }
   ],
   "source": [
    "import random\n",
    "some_exceptions = [ValueError, TypeError, IndexError, None]\n",
    "try:\n",
    "    choice = random.choice(some_exceptions)\n",
    "    print(\"raising {}\".format(choice))\n",
    "    if choice:\n",
    "        raise choice(\"An error\")\n",
    "except ValueError:\n",
    "    print(\"Caught a ValueError\")\n",
    "except TypeError:\n",
    "    print(\"Caught a TypeError\")\n",
    "except Exception as e:\n",
    "    print(\"Caught some other error: %s\" % ( e.__class__.__name__))\n",
    "else:\n",
    "    print(\"This code called if there is no exception\")\n",
    "finally:\n",
    "    print(\"This cleanup code is always called\")"
   ]
  },
  {
   "cell_type": "markdown",
   "id": "382a5536",
   "metadata": {},
   "source": [
    "Note how the print statement in the finally clause is executed no matter what\n",
    "happens. This is extremely useful when we need to perform certain tasks after\n",
    "our code has finished running (even if an exception has occurred). Some common\n",
    "examples include:      \n",
    "             \n",
    "• Cleaning up an open database connection     \n",
    "      \n",
    "• Closing an open file       \n",
    "       \n",
    "• Sending a closing handshake over the network"
   ]
  },
  {
   "cell_type": "markdown",
   "id": "06c26b37",
   "metadata": {},
   "source": [
    "The finally clause is also very important when we execute a return statement\n",
    "from inside a try clause. The finally handle will still be executed before the\n",
    "value is returned."
   ]
  },
  {
   "cell_type": "markdown",
   "id": "bbb89f85",
   "metadata": {},
   "source": [
    "Also, pay attention to the output when no exception is raised: both the else and the\n",
    "finally clauses are executed. The else clause may seem redundant, as the code that\n",
    "should be executed only when no exception is raised could just be placed after the\n",
    "entire try...except block. The difference is that the else block will still be executed\n",
    "if an exception is caught and handled. We'll see more on this when we discuss using\n",
    "exceptions as flow control later.     \n",
    "       \n",
    "Any of the except, else, and finally clauses can be omitted after a try block\n",
    "(although else by itself is invalid). If you include more than one, the except clauses\n",
    "must come first, then the else clause, with the finally clause at the end. The order\n",
    "of the except clauses normally goes from most specific to most generic."
   ]
  },
  {
   "cell_type": "markdown",
   "id": "5b48cafb",
   "metadata": {},
   "source": [
    "## The exception hierarchy"
   ]
  },
  {
   "cell_type": "markdown",
   "id": "58285739",
   "metadata": {},
   "source": [
    "most exceptions are subclasses of the Exception class. But\n",
    "this is not true of all exceptions. Exception itself actually inherits from a class called\n",
    "BaseException. In fact, all exceptions must extend the BaseException class or one\n",
    "of its subclasses."
   ]
  },
  {
   "cell_type": "markdown",
   "id": "2d16b389",
   "metadata": {},
   "source": [
    "There are two key exceptions, SystemExit and KeyboardInterrupt, that derive\n",
    "directly from BaseException instead of Exception. The SystemExit exception is\n",
    "raised whenever the program exits naturally, typically because we called the sys.\n",
    "exit function somewhere in our code (for example, when the user selected an exit\n",
    "menu item, clicked the \"close\" button on a window, or entered a command to shut\n",
    "down a server). The exception is designed to allow us to clean up code before the\n",
    "program ultimately exits, so we generally don't need to handle it explicitly (because\n",
    "cleanup code happens inside a finally clause)."
   ]
  },
  {
   "cell_type": "markdown",
   "id": "65f6f015",
   "metadata": {},
   "source": [
    "If we do handle it, we would normally reraise the exception, since catching it would\n",
    "stop the program from exiting. There are, of course, situations where we might want\n",
    "to stop the program exiting, for example, if there are unsaved changes and we want\n",
    "to prompt the user if they really want to exit. Usually, if we handle SystemExit at\n",
    "all, it's because we want to do something special with it, or are anticipating it directly.\n",
    "We especially don't want it to be accidentally caught in generic clauses that catch all\n",
    "normal exceptions. This is why it derives directly from BaseException."
   ]
  },
  {
   "cell_type": "markdown",
   "id": "c627b32c",
   "metadata": {},
   "source": [
    "The KeyboardInterrupt exception is common in command-line programs.\n",
    "It is thrown when the user explicitly interrupts program execution with an\n",
    "OS-dependent key combination (normally, Ctrl + C). This is a standard way for\n",
    "the user to deliberately interrupt a running program, and like SystemExit, it\n",
    "should almost always respond by terminating the program. Also, like SystemExit,\n",
    "it should handle any cleanup tasks inside finally blocks."
   ]
  },
  {
   "cell_type": "markdown",
   "id": "cbf44049",
   "metadata": {},
   "source": [
    "When we use the except: clause without specifying any type of exception, it will\n",
    "catch all subclasses of BaseException; which is to say, it will catch all exceptions,\n",
    "including the two special ones. Since we almost always want these to get special\n",
    "treatment, it is unwise to use the except: statement without arguments. If you want\n",
    "to catch all exceptions other than SystemExit and KeyboardInterrupt, explicitly\n",
    "catch Exception.      \n",
    "         \n",
    "Furthermore, if you do want to catch all exceptions, I suggest using the syntax\n",
    "except BaseException: instead of a raw except:. This helps explicitly tell future\n",
    "readers of your code that you are intentionally handling the special case exceptions."
   ]
  },
  {
   "cell_type": "markdown",
   "id": "076d726b",
   "metadata": {},
   "source": [
    "## Defining our own exceptions"
   ]
  },
  {
   "cell_type": "markdown",
   "id": "4fe7d68d",
   "metadata": {},
   "source": [
    "Often, when we want to raise an exception, we find that none of the built-in exceptions\n",
    "are suitable. Luckily, it's trivial to define new exceptions of our own."
   ]
  },
  {
   "cell_type": "markdown",
   "id": "638198e5",
   "metadata": {},
   "source": [
    "All we have to do is inherit from the Exception class. We don't even have to add any\n",
    "content to the class! We can, of course, extend BaseException directly, but then it\n",
    "will not be caught by generic except Exception clauses."
   ]
  },
  {
   "cell_type": "code",
   "execution_count": 15,
   "id": "34190b32",
   "metadata": {},
   "outputs": [
    {
     "ename": "InvalidWithdrawal",
     "evalue": "You don't have $50 in your account",
     "output_type": "error",
     "traceback": [
      "\u001b[1;31m---------------------------------------------------------------------------\u001b[0m",
      "\u001b[1;31mInvalidWithdrawal\u001b[0m                         Traceback (most recent call last)",
      "\u001b[1;32m<ipython-input-15-213f71ae9281>\u001b[0m in \u001b[0;36m<module>\u001b[1;34m\u001b[0m\n\u001b[0;32m      1\u001b[0m \u001b[1;32mclass\u001b[0m \u001b[0mInvalidWithdrawal\u001b[0m\u001b[1;33m(\u001b[0m\u001b[0mException\u001b[0m\u001b[1;33m)\u001b[0m\u001b[1;33m:\u001b[0m\u001b[1;33m\u001b[0m\u001b[1;33m\u001b[0m\u001b[0m\n\u001b[0;32m      2\u001b[0m     \u001b[1;32mpass\u001b[0m\u001b[1;33m\u001b[0m\u001b[1;33m\u001b[0m\u001b[0m\n\u001b[1;32m----> 3\u001b[1;33m \u001b[1;32mraise\u001b[0m \u001b[0mInvalidWithdrawal\u001b[0m\u001b[1;33m(\u001b[0m\u001b[1;34m\"You don't have $50 in your account\"\u001b[0m\u001b[1;33m)\u001b[0m\u001b[1;33m\u001b[0m\u001b[1;33m\u001b[0m\u001b[0m\n\u001b[0m",
      "\u001b[1;31mInvalidWithdrawal\u001b[0m: You don't have $50 in your account"
     ]
    }
   ],
   "source": [
    "class InvalidWithdrawal(Exception):\n",
    "    pass\n",
    "raise InvalidWithdrawal(\"You don't have $50 in your account\")"
   ]
  },
  {
   "cell_type": "markdown",
   "id": "505e4e6b",
   "metadata": {},
   "source": [
    "The last line illustrates how to raise the newly defined exception. We are able to pass\n",
    "an arbitrary number of arguments into the exception. Often a string message is used,\n",
    "but any object that might be useful in a later exception handler can be stored. The\n",
    "Exception.__init__ method is designed to accept any arguments and store them\n",
    "as a tuple in an attribute named args. This makes exceptions easier to define without\n",
    "needing to override __init__."
   ]
  },
  {
   "cell_type": "markdown",
   "id": "caf823b1",
   "metadata": {},
   "source": [
    "Of course, if we do want to customize the initializer, we are free to do so. Here's\n",
    "an exception whose initializer accepts the current balance and the amount the user\n",
    "wanted to withdraw. In addition, it adds a method to calculate how overdrawn the\n",
    "request was:"
   ]
  },
  {
   "cell_type": "code",
   "execution_count": 16,
   "id": "d183796c",
   "metadata": {},
   "outputs": [
    {
     "ename": "InvalidWithdrawal",
     "evalue": "account doesn't have $50",
     "output_type": "error",
     "traceback": [
      "\u001b[1;31m---------------------------------------------------------------------------\u001b[0m",
      "\u001b[1;31mInvalidWithdrawal\u001b[0m                         Traceback (most recent call last)",
      "\u001b[1;32m<ipython-input-16-cc1e38f128e2>\u001b[0m in \u001b[0;36m<module>\u001b[1;34m\u001b[0m\n\u001b[0;32m      6\u001b[0m     \u001b[1;32mdef\u001b[0m \u001b[0moverage\u001b[0m\u001b[1;33m(\u001b[0m\u001b[0mself\u001b[0m\u001b[1;33m)\u001b[0m\u001b[1;33m:\u001b[0m\u001b[1;33m\u001b[0m\u001b[1;33m\u001b[0m\u001b[0m\n\u001b[0;32m      7\u001b[0m         \u001b[1;32mreturn\u001b[0m \u001b[0mself\u001b[0m\u001b[1;33m.\u001b[0m\u001b[0mamount\u001b[0m \u001b[1;33m-\u001b[0m \u001b[0mself\u001b[0m\u001b[1;33m.\u001b[0m\u001b[0mbalance\u001b[0m\u001b[1;33m\u001b[0m\u001b[1;33m\u001b[0m\u001b[0m\n\u001b[1;32m----> 8\u001b[1;33m \u001b[1;32mraise\u001b[0m \u001b[0mInvalidWithdrawal\u001b[0m\u001b[1;33m(\u001b[0m\u001b[1;36m25\u001b[0m\u001b[1;33m,\u001b[0m \u001b[1;36m50\u001b[0m\u001b[1;33m)\u001b[0m\u001b[1;33m\u001b[0m\u001b[1;33m\u001b[0m\u001b[0m\n\u001b[0m",
      "\u001b[1;31mInvalidWithdrawal\u001b[0m: account doesn't have $50"
     ]
    }
   ],
   "source": [
    "class InvalidWithdrawal(Exception):\n",
    "    def __init__(self, balance, amount):\n",
    "        super().__init__(\"account doesn't have ${}\".format(amount))\n",
    "        self.amount = amount\n",
    "        self.balance = balance\n",
    "    def overage(self):\n",
    "        return self.amount - self.balance\n",
    "raise InvalidWithdrawal(25, 50)"
   ]
  },
  {
   "cell_type": "markdown",
   "id": "4d681b2b",
   "metadata": {},
   "source": [
    "The raise statement at the end illustrates how to construct this exception. As you\n",
    "can see, we can do anything with an exception that we would do with other objects.\n",
    "We could catch an exception and pass it around as a working object, although it\n",
    "is more common to include a reference to the working object as an attribute on an\n",
    "exception and pass that around instead."
   ]
  },
  {
   "cell_type": "code",
   "execution_count": 17,
   "id": "9102d7ad",
   "metadata": {},
   "outputs": [
    {
     "name": "stdout",
     "output_type": "stream",
     "text": [
      "I'm sorry, but your withdrawal is more than your balance by $25\n"
     ]
    }
   ],
   "source": [
    "try:\n",
    "    raise InvalidWithdrawal(25, 50)\n",
    "except InvalidWithdrawal as e:\n",
    "    print(\"I'm sorry, but your withdrawal is more than your balance by ${}\".format(e.overage()))"
   ]
  },
  {
   "cell_type": "markdown",
   "id": "f9769133",
   "metadata": {},
   "source": [
    "Here we see a valid use of the as keyword. By convention, most Python coders\n",
    "name the exception variable e, although, as usual, you are free to call it ex,\n",
    "exception, or aunt_sally if you prefer."
   ]
  },
  {
   "cell_type": "markdown",
   "id": "230841f1",
   "metadata": {},
   "source": [
    "There are many reasons for defining our own exceptions. It is often useful to add\n",
    "information to the exception or log it in some way. But the utility of custom exceptions\n",
    "truly comes to light when creating a framework, library, or API that is intended for\n",
    "access by other programmers. In that case, be careful to ensure your code is raising\n",
    "exceptions that make sense to the client programmer. They should be easy to handle\n",
    "and clearly describe what went on. The client programmer should easily see how to\n",
    "fix the error (if it reflects a bug in their code) or handle the exception (if it's a situation\n",
    "they need to be made aware of)."
   ]
  },
  {
   "cell_type": "markdown",
   "id": "a347910b",
   "metadata": {},
   "source": [
    "Exceptions aren't exceptional. Novice programmers tend to think of exceptions as\n",
    "only useful for exceptional circumstances. However, the definition of exceptional\n",
    "circumstances can be vague and subject to interpretation. Consider the following\n",
    "two functions:"
   ]
  },
  {
   "cell_type": "code",
   "execution_count": 18,
   "id": "9a7191bb",
   "metadata": {},
   "outputs": [],
   "source": [
    "def divide_with_exception(number, divisor):\n",
    "    try:\n",
    "        print(\"{} / {} = {}\".format(number, divisor, number / divisor * 1.0))\n",
    "    except ZeroDivisionError:\n",
    "        print(\"You can't divide by zero\")\n",
    "def divide_with_if(number, divisor):\n",
    "    if divisor == 0:\n",
    "        print(\"You can't divide by zero\")\n",
    "    else:\n",
    "        print(\"{} / {} = {}\".format(number, divisor, number / divisor * 1.0))"
   ]
  },
  {
   "cell_type": "markdown",
   "id": "bf21369e",
   "metadata": {},
   "source": [
    "These two functions behave identically. If divisor is zero, an error message is\n",
    "printed; otherwise, a message printing the result of division is displayed. We\n",
    "could avoid a ZeroDivisionError ever being thrown by testing for it with an if\n",
    "statement. Similarly, we can avoid an IndexError by explicitly checking whether\n",
    "or not the parameter is within the confines of the list, and a KeyError by checking\n",
    "if the key is in a dictionary."
   ]
  },
  {
   "cell_type": "markdown",
   "id": "d7c820ee",
   "metadata": {},
   "source": [
    "But we shouldn't do this. For one thing, we might write an if statement that checks\n",
    "whether or not the index is lower than the parameters of the list, but forget to check\n",
    "negative values."
   ]
  },
  {
   "cell_type": "markdown",
   "id": "20ac5db9",
   "metadata": {},
   "source": [
    "Python programmers tend to follow a model of Ask forgiveness rather than permission,\n",
    "which is to say, they execute code and then deal with anything that goes wrong. The\n",
    "alternative, to look before you leap, is generally frowned upon. There are a few reasons\n",
    "for this, but the main one is that it shouldn't be necessary to burn CPU cycles looking\n",
    "for an unusual situation that is not going to arise in the normal path through the\n",
    "code. Therefore, it is wise to use exceptions for exceptional circumstances, even if\n",
    "those circumstances are only a little bit exceptional. Taking this argument further,\n",
    "we can actually see that the exception syntax is also effective for flow control. Like\n",
    "an if statement, exceptions can be used for decision making, branching, and\n",
    "message passing."
   ]
  },
  {
   "cell_type": "markdown",
   "id": "acf57dfd",
   "metadata": {},
   "source": [
    "Imagine an inventory application for a company that sells widgets and gadgets. When\n",
    "a customer makes a purchase, the item can either be available, in which case the item\n",
    "is removed from inventory and the number of items left is returned, or it might be out\n",
    "of stock. Now, being out of stock is a perfectly normal thing to happen in an inventory\n",
    "application. It is certainly not an exceptional circumstance. But what do we return if\n",
    "it's out of stock? A string saying out of stock? A negative number? In both cases, the\n",
    "calling method would have to check whether the return value is a positive integer or\n",
    "something else, to determine if it is out of stock. That seems a bit messy. Instead, we\n",
    "can raise OutOfStockException and use the try statement to direct program flow\n",
    "control. Make sense? In addition, we want to make sure we don't sell the same item to\n",
    "two different customers, or sell an item that isn't in stock yet. One way to facilitate this\n",
    "is to lock each type of item to ensure only one person can update it at a time. The user\n",
    "must lock the item, manipulate the item (purchase, add stock, count items left…), and\n",
    "then unlock the item. Here's an incomplete Inventory example with docstrings that\n",
    "describes what some of the methods should do:"
   ]
  },
  {
   "cell_type": "code",
   "execution_count": 2,
   "id": "7e6fcf6a",
   "metadata": {},
   "outputs": [],
   "source": [
    "class Inventory:\n",
    "    def lock(self, item_type):\n",
    "        '''Select the type of item that is going to\n",
    "        be manipulated. This method will lock the\n",
    "        item so nobody else can manipulate the\n",
    "        inventory until it's returned. This prevents\n",
    "        selling the same item to two different\n",
    "        customers.'''\n",
    "        pass\n",
    "    def unlock(self, item_type):\n",
    "        '''Release the given type so that other\n",
    "        customers can access it.'''\n",
    "        pass\n",
    "    def purchase(self, item_type):\n",
    "        '''If the item is not locked, raise an\n",
    "        exception. If the item_type does not exist,\n",
    "        raise an exception. If the item is currently\n",
    "        out of stock, raise an exception. If the item\n",
    "        is available, subtract one item and return\n",
    "        the number of items left.'''\n",
    "        pass"
   ]
  },
  {
   "cell_type": "markdown",
   "id": "1ed1e135",
   "metadata": {},
   "source": [
    "We could hand this object prototype to a developer and have them implement the\n",
    "methods to do exactly as they say while we work on the code that needs to make\n",
    "a purchase. We'll use Python's robust exception handling to consider different\n",
    "branches, depending on how the purchase was made:"
   ]
  },
  {
   "cell_type": "code",
   "execution_count": 6,
   "id": "46896274",
   "metadata": {},
   "outputs": [
    {
     "name": "stdout",
     "output_type": "stream",
     "text": [
      "Purchase complete. There are None widgets left\n"
     ]
    }
   ],
   "source": [
    "item_type = 'widget'\n",
    "inv = Inventory()\n",
    "inv.lock(item_type)\n",
    "try:\n",
    "    num_left = inv.purchase(item_type)\n",
    "except InvalidItemType:\n",
    "    print(\"Sorry, we don't sell {}\".format(item_type))\n",
    "except OutOfStock:\n",
    "    print(\"Sorry, that item is out of stock.\")\n",
    "else:\n",
    "    print(\"Purchase complete. There are {} {}s left\".format(num_left, item_type))\n",
    "finally:\n",
    "    inv.unlock(item_type)"
   ]
  },
  {
   "cell_type": "markdown",
   "id": "2c1777a2",
   "metadata": {},
   "source": [
    "Pay attention to how all the possible exception handling clauses are used to ensure\n",
    "the correct actions happen at the correct time. Even though OutOfStock is not\n",
    "a terribly exceptional circumstance, we are able to use an exception to handle it\n",
    "suitably. This same code could be written with an if...elif...else structure, but it\n",
    "wouldn't be as easy to read or maintain."
   ]
  },
  {
   "cell_type": "markdown",
   "id": "0c073d4c",
   "metadata": {},
   "source": [
    "We can also use exceptions to pass messages between different methods. For\n",
    "example, if we wanted to inform the customer as to what date the item is expected to\n",
    "be in stock again, we could ensure our OutOfStock object requires a back_in_stock\n",
    "parameter when it is constructed. Then, when we handle the exception, we can check\n",
    "that value and provide additional information to the customer. The information\n",
    "attached to the object can be easily passed between two different parts of the\n",
    "program. The exception could even provide a method that instructs the inventory\n",
    "object to reorder or backorder an item."
   ]
  },
  {
   "cell_type": "markdown",
   "id": "5c3272bb",
   "metadata": {},
   "source": [
    "Using exceptions for flow control can make for some handy program designs. The\n",
    "important thing to take from this discussion is that exceptions are not a bad thing\n",
    "that we should try to avoid. Having an exception occur does not mean that you\n",
    "should have prevented this exceptional circumstance from happening. Rather, it is\n",
    "just a powerful way to communicate information between two sections of code that\n",
    "may not be directly calling each other."
   ]
  },
  {
   "cell_type": "markdown",
   "id": "76f6e725",
   "metadata": {},
   "source": [
    "## Case study"
   ]
  },
  {
   "cell_type": "markdown",
   "id": "c1422b5c",
   "metadata": {},
   "source": [
    "Today, we'll be designing a simple central authentication and authorization system.\n",
    "The entire system will be placed in one module, and other code will be able to query\n",
    "that module object for authentication and authorization purposes. We should admit,\n",
    "from the start, that we aren't security experts, and that the system we are designing\n",
    "may be full of security holes. Our purpose is to study exceptions, not to secure a\n",
    "system. It will be sufficient, however, for a basic login and permission system that\n",
    "other code can interact with. Later, if that other code needs to be made more secure,\n",
    "we can have a security or cryptography expert review or rewrite our module,\n",
    "preferably without changing the API."
   ]
  },
  {
   "cell_type": "markdown",
   "id": "cc434f2a",
   "metadata": {},
   "source": [
    "Authentication is the process of ensuring a user is really the person they say they\n",
    "are. We'll follow the lead of common web systems today, which use a username\n",
    "and private password combination. Other methods of authentication include voice\n",
    "recognition, fingerprint or retinal scanners, and identification cards.             \n",
    "               \n",
    "Authorization, on the other hand, is all about determining whether a given\n",
    "(authenticated) user is permitted to perform a specific action. We'll create a basic\n",
    "permission list system that stores a list of the specific people allowed to perform\n",
    "each action.                  \n",
    "                 \n",
    "In addition, we'll add some administrative features to allow new users to be added\n",
    "to the system. For brevity, we'll leave out editing of passwords or changing of\n",
    "permissions once they've been added, but these (highly necessary) features can\n",
    "certainly be added in the future."
   ]
  },
  {
   "cell_type": "markdown",
   "id": "0e952678",
   "metadata": {},
   "source": [
    "There's a simple analysis; now let's proceed with design. We're obviously going to\n",
    "need a User class that stores the username and an encrypted password. This class\n",
    "will also allow a user to log in by checking whether a supplied password is valid. We\n",
    "probably won't need a Permission class, as those can just be strings mapped to a list\n",
    "of users using a dictionary. We should have a central Authenticator class that\n",
    "handles user management and logging in or out. The last piece of the puzzle is an\n",
    "Authorizor class that deals with permissions and checking whether a user can\n",
    "perform an activity. We'll provide a single instance of each of these classes in the\n",
    "auth module so that other modules can use this central mechanism for all their\n",
    "authentication and authorization needs. Of course, if they want to instantiate private\n",
    "instances of these classes, for non-central authorization activities, they are free to do so."
   ]
  },
  {
   "cell_type": "markdown",
   "id": "d1c455e2",
   "metadata": {},
   "source": [
    "We'll also be defining several exceptions as we go along. We'll start with a special\n",
    "AuthException base class that accepts a username and optional user object as\n",
    "parameters; most of our self-defined exceptions will inherit from this one."
   ]
  },
  {
   "cell_type": "markdown",
   "id": "7b9e2b3d",
   "metadata": {},
   "source": [
    "Let's build the User class first; it seems simple enough. A new user can be initialized\n",
    "with a username and password. The password will be stored encrypted to reduce\n",
    "the chances of its being stolen. We'll also need a check_password method to test\n",
    "whether a supplied password is the correct one. Here is the class in full:"
   ]
  },
  {
   "cell_type": "code",
   "execution_count": 1,
   "id": "ec8fdffa",
   "metadata": {},
   "outputs": [],
   "source": [
    "import hashlib\n",
    "class User:\n",
    "    def __init__(self, username, password):\n",
    "        '''Create a new user object. The password\n",
    "        will be encrypted before storing.'''\n",
    "        self.username = username\n",
    "        self.password = self._encrypt_pw(password)\n",
    "        self.is_logged_in = False\n",
    "    def _encrypt_pw(self, password):\n",
    "        '''Encrypt the password with the username and return\n",
    "        the sha digest.'''\n",
    "        hash_string = (self.username + password)\n",
    "        hash_string = hash_string.encode(\"utf8\")\n",
    "        return hashlib.sha256(hash_string).hexdigest()\n",
    "    def check_password(self, password):\n",
    "        '''Return True if the password is valid for this\n",
    "        user, false otherwise.'''\n",
    "        encrypted = self._encrypt_pw(password)\n",
    "        return encrypted == self.password"
   ]
  },
  {
   "cell_type": "markdown",
   "id": "489b9adb",
   "metadata": {},
   "source": [
    "Since the code for encrypting a password is required in both __init__ and check_\n",
    "password, we pull it out to its own method. This way, it only needs to be changed\n",
    "in one place if someone realizes it is insecure and needs improvement. This class\n",
    "could easily be extended to include mandatory or optional personal details, such\n",
    "as names, contact information, and birth dates."
   ]
  },
  {
   "cell_type": "markdown",
   "id": "8c495e53",
   "metadata": {},
   "source": [
    "Before we write code to add users (which will happen in the as-yet undefined\n",
    "Authenticator class), we should examine some use cases. If all goes well, we can\n",
    "add a user with a username and password; the User object is created and inserted\n",
    "into a dictionary. But in what ways can all not go well? Well, clearly we don't want\n",
    "to add a user with a username that already exists in the dictionary. If we did so, we'd\n",
    "overwrite an existing user's data and the new user might have access to that user's\n",
    "privileges. So, we'll need a UsernameAlreadyExists exception. Also, for security's\n",
    "sake, we should probably raise an exception if the password is too short. Both of\n",
    "these exceptions will extend AuthException, which we mentioned earlier. So,\n",
    "before writing the Authenticator class, let's define these three exception classes:"
   ]
  },
  {
   "cell_type": "code",
   "execution_count": 2,
   "id": "1a60cab4",
   "metadata": {},
   "outputs": [],
   "source": [
    "class AuthException(Exception):\n",
    "    def __init__(self, username, user=None):\n",
    "        super().__init__(username, user)\n",
    "        self.username = username\n",
    "        self.user = user\n",
    "class UsernameAlreadyExists(AuthException):\n",
    "    pass\n",
    "class PasswordTooShort(AuthException):\n",
    "    pass"
   ]
  },
  {
   "cell_type": "markdown",
   "id": "86121ced",
   "metadata": {},
   "source": [
    "The AuthException requires a username and has an optional user parameter.\n",
    "This second parameter should be an instance of the User class associated with\n",
    "that username. The two specific exceptions we're defining simply need to inform\n",
    "the calling class of an exceptional circumstance, so we don't need to add any extra\n",
    "methods to them."
   ]
  },
  {
   "cell_type": "markdown",
   "id": "1eb6f360",
   "metadata": {},
   "source": [
    "Now let's start on the Authenticator class. It can simply be a mapping of usernames\n",
    "to user objects, so we'll start with a dictionary in the initialization function. The method\n",
    "for adding a user needs to check the two conditions (password length and previously\n",
    "existing users) before creating a new User instance and adding it to the dictionary:"
   ]
  },
  {
   "cell_type": "code",
   "execution_count": 3,
   "id": "4409f551",
   "metadata": {},
   "outputs": [],
   "source": [
    "class Authenticator:\n",
    "    def __init__(self):\n",
    "        '''Construct an authenticator to manage\n",
    "        users logging in and out.'''\n",
    "        self.users = {}\n",
    "    def add_user(self, username, password):\n",
    "        if username in self.users:\n",
    "            raise UsernameAlreadyExists(username)\n",
    "        if len(password) < 6:\n",
    "            raise PasswordTooShort(username)\n",
    "        self.users[username] = User(username, password)"
   ]
  },
  {
   "cell_type": "markdown",
   "id": "84f254b6",
   "metadata": {},
   "source": [
    "We could, of course, extend the password validation to raise exceptions for passwords\n",
    "that are too easy to crack in other ways, if we desired. Now let's prepare the login\n",
    "method. If we weren't thinking about exceptions just now, we might just want the\n",
    "method to return True or False, depending on whether the login was successful or\n",
    "not. But we are thinking about exceptions, and this could be a good place to use them\n",
    "for a not-so-exceptional circumstance. We could raise different exceptions, for example,\n",
    "if the username does not exist or the password does not match. This will allow anyone\n",
    "trying to log a user in to elegantly handle the situation using a try/except/else\n",
    "clause. So, first we add these new exceptions:"
   ]
  },
  {
   "cell_type": "code",
   "execution_count": 4,
   "id": "289f0b00",
   "metadata": {},
   "outputs": [],
   "source": [
    "class InvalidUsername(AuthException):\n",
    "    pass\n",
    "class InvalidPassword(AuthException):\n",
    "    pass"
   ]
  },
  {
   "cell_type": "markdown",
   "id": "fcfc2b2a",
   "metadata": {},
   "source": [
    "Then we can define a simple login method to our Authenticator class that raises\n",
    "these exceptions if necessary. If not, it flags the user as logged in and returns:"
   ]
  },
  {
   "cell_type": "code",
   "execution_count": 5,
   "id": "922228ac",
   "metadata": {},
   "outputs": [],
   "source": [
    "def login(self, username, password):\n",
    "    try:\n",
    "        user = self.users[username]\n",
    "    except KeyError:\n",
    "        raise InvalidUsername(username)\n",
    "    if not user.check_password(password):\n",
    "        raise InvalidPassword(username, user)\n",
    "    user.is_logged_in = True\n",
    "    return True"
   ]
  },
  {
   "cell_type": "markdown",
   "id": "67bc601e",
   "metadata": {},
   "source": [
    "Notice how the KeyError is handled. This could have been handled using if\n",
    "username not in self.users: instead, but we chose to handle the exception\n",
    "directly. We end up eating up this first exception and raising a brand new one of\n",
    "our own that better suits the user-facing API."
   ]
  },
  {
   "cell_type": "markdown",
   "id": "229aa1aa",
   "metadata": {},
   "source": [
    "We can also add a method to check whether a particular username is logged in.\n",
    "Deciding whether to use an exception here is trickier. Should we raise an exception if\n",
    "the username does not exist? Should we raise an exception if the user is not logged in?"
   ]
  },
  {
   "cell_type": "markdown",
   "id": "9fd7b927",
   "metadata": {},
   "source": [
    "To answer these questions, we need to think about how the method would be\n",
    "accessed. Most often, this method will be used to answer the yes/no question,\n",
    "\"Should I allow them access to <something>?\" The answer will either be, \"Yes, the\n",
    "username is valid and they are logged in\", or \"No, the username is not valid or they\n",
    "are not logged in\". Therefore, a Boolean return value is sufficient. There is no need\n",
    "to use exceptions here, just for the sake of using an exception."
   ]
  },
  {
   "cell_type": "code",
   "execution_count": 6,
   "id": "2a612aea",
   "metadata": {},
   "outputs": [],
   "source": [
    "def is_logged_in(self, username):\n",
    "    if username in self.users:\n",
    "        return self.users[username].is_logged_in\n",
    "    return False"
   ]
  },
  {
   "cell_type": "markdown",
   "id": "fa1b65be",
   "metadata": {},
   "source": [
    "Finally, we can add a default authenticator instance to our module so that the client\n",
    "code can access it easily using auth.authenticator:"
   ]
  },
  {
   "cell_type": "code",
   "execution_count": 19,
   "id": "ea081569",
   "metadata": {},
   "outputs": [],
   "source": [
    "authenticator = Authenticator()"
   ]
  },
  {
   "cell_type": "markdown",
   "id": "b6ecf21a",
   "metadata": {},
   "source": [
    "This line goes at the module level, outside any class definition, so the authenticator\n",
    "variable can be accessed as auth.authenticator. Now we can start on the\n",
    "Authorizor class, which maps permissions to users. The Authorizor class should\n",
    "not permit user access to a permission if they are not logged in, so they'll need\n",
    "a reference to a specific authenticator. We'll also need to set up the permission\n",
    "dictionary upon initialization:"
   ]
  },
  {
   "cell_type": "code",
   "execution_count": 8,
   "id": "88f1d10e",
   "metadata": {},
   "outputs": [],
   "source": [
    "class Authorizor:\n",
    "    def __init__(self, authenticator):\n",
    "        self.authenticator = authenticator\n",
    "        self.permissions = {}"
   ]
  },
  {
   "cell_type": "markdown",
   "id": "8a247645",
   "metadata": {},
   "source": [
    "Now we can write methods to add new permissions and to set up which users are\n",
    "associated with each permission:"
   ]
  },
  {
   "cell_type": "code",
   "execution_count": 9,
   "id": "936b9b84",
   "metadata": {},
   "outputs": [],
   "source": [
    "def add_permission(self, perm_name):\n",
    "    '''Create a new permission that users\n",
    "    can be added to'''\n",
    "    try:\n",
    "        perm_set = self.permissions[perm_name]\n",
    "    except KeyError:\n",
    "        self.permissions[perm_name] = set()\n",
    "    else:\n",
    "        raise PermissionError(\"Permission Exists\")\n",
    "def permit_user(self, perm_name, username):\n",
    "    '''Grant the given permission to the user'''\n",
    "    try:\n",
    "        perm_set = self.permissions[perm_name]\n",
    "    except KeyError:\n",
    "        raise PermissionError(\"Permission does not exist\")\n",
    "    else:\n",
    "        if username not in self.authenticator.users:\n",
    "            raise InvalidUsername(username)\n",
    "        perm_set.add(username)"
   ]
  },
  {
   "cell_type": "markdown",
   "id": "b915d397",
   "metadata": {},
   "source": [
    "The first method allows us to create a new permission, unless it already exists, in\n",
    "which case an exception is raised. The second allows us to add a username to a\n",
    "permission, unless either the permission or the username doesn't yet exist."
   ]
  },
  {
   "cell_type": "markdown",
   "id": "dd027272",
   "metadata": {},
   "source": [
    "We use set instead of list for usernames, so that even if you grant a user\n",
    "permission more than once, the nature of sets means the user is only in the set\n",
    "once. We'll discuss sets further in a later chapter"
   ]
  },
  {
   "cell_type": "markdown",
   "id": "f59a55b9",
   "metadata": {},
   "source": [
    "A PermissionError is raised in both methods. This new error doesn't require\n",
    "a username, so we'll make it extend Exception directly, instead of our custom\n",
    "AuthException:"
   ]
  },
  {
   "cell_type": "code",
   "execution_count": 10,
   "id": "a0e4a42c",
   "metadata": {},
   "outputs": [],
   "source": [
    "class PermissionError(Exception):\n",
    "    pass"
   ]
  },
  {
   "cell_type": "markdown",
   "id": "f6d4c1b4",
   "metadata": {},
   "source": [
    "Finally, we can add a method to check whether a user has a specific permission\n",
    "or not. In order for them to be granted access, they have to be both logged into the\n",
    "authenticator and in the set of people who have been granted access to that privilege.\n",
    "If either of these conditions is unsatisfied, an exception is raised:"
   ]
  },
  {
   "cell_type": "code",
   "execution_count": 11,
   "id": "72145245",
   "metadata": {},
   "outputs": [],
   "source": [
    "def check_permission(self, perm_name, username):\n",
    "    if not self.authenticator.is_logged_in(username):\n",
    "        raise NotLoggedInError(username)\n",
    "    try:\n",
    "        perm_set = self.permissions[perm_name]\n",
    "    except KeyError:\n",
    "        raise PermissionError(\"Permission does not exist\")\n",
    "    else:\n",
    "        if username not in perm_set:\n",
    "            raise NotPermittedError(username)\n",
    "        else:\n",
    "            return True"
   ]
  },
  {
   "cell_type": "markdown",
   "id": "1413cde5",
   "metadata": {},
   "source": [
    "There are two new exceptions in here; they both take usernames, so we'll define\n",
    "them as subclasses of AuthException:"
   ]
  },
  {
   "cell_type": "code",
   "execution_count": 12,
   "id": "7c7cca94",
   "metadata": {},
   "outputs": [],
   "source": [
    "class NotLoggedInError(AuthException):\n",
    "    pass\n",
    "class NotPermittedError(AuthException):\n",
    "    pass"
   ]
  },
  {
   "cell_type": "markdown",
   "id": "888c869a",
   "metadata": {},
   "source": [
    "Finally, we can add a default authorizor to go with our default authenticator:"
   ]
  },
  {
   "cell_type": "code",
   "execution_count": 13,
   "id": "52d12748",
   "metadata": {},
   "outputs": [],
   "source": [
    "authorizor = Authorizor(authenticator)"
   ]
  },
  {
   "cell_type": "markdown",
   "id": "90dae9ed",
   "metadata": {},
   "source": [
    "That completes a basic authentication/authorization system. We can test the system\n",
    "at the Python prompt, checking to see whether a user, joe, is permitted to do tasks in\n",
    "the paint department:"
   ]
  },
  {
   "cell_type": "code",
   "execution_count": 18,
   "id": "3294ba57",
   "metadata": {},
   "outputs": [
    {
     "ename": "AttributeError",
     "evalue": "module 'auth' has no attribute 'authenticator'",
     "output_type": "error",
     "traceback": [
      "\u001b[1;31m---------------------------------------------------------------------------\u001b[0m",
      "\u001b[1;31mAttributeError\u001b[0m                            Traceback (most recent call last)",
      "\u001b[1;32m<ipython-input-18-6d20e8c7a5bf>\u001b[0m in \u001b[0;36m<module>\u001b[1;34m\u001b[0m\n\u001b[0;32m      1\u001b[0m \u001b[1;32mimport\u001b[0m \u001b[0mauth\u001b[0m\u001b[1;33m\u001b[0m\u001b[1;33m\u001b[0m\u001b[0m\n\u001b[1;32m----> 2\u001b[1;33m \u001b[0mauth\u001b[0m\u001b[1;33m.\u001b[0m\u001b[0mauthenticator\u001b[0m\u001b[1;33m.\u001b[0m\u001b[0madd_user\u001b[0m\u001b[1;33m(\u001b[0m\u001b[1;34m\"joe\"\u001b[0m\u001b[1;33m,\u001b[0m \u001b[1;34m\"joepassword\"\u001b[0m\u001b[1;33m)\u001b[0m\u001b[1;33m\u001b[0m\u001b[1;33m\u001b[0m\u001b[0m\n\u001b[0m\u001b[0;32m      3\u001b[0m \u001b[0mauth\u001b[0m\u001b[1;33m.\u001b[0m\u001b[0mauthorizor\u001b[0m\u001b[1;33m.\u001b[0m\u001b[0madd_permission\u001b[0m\u001b[1;33m(\u001b[0m\u001b[1;34m\"paint\"\u001b[0m\u001b[1;33m)\u001b[0m\u001b[1;33m\u001b[0m\u001b[1;33m\u001b[0m\u001b[0m\n\u001b[0;32m      4\u001b[0m \u001b[0mauth\u001b[0m\u001b[1;33m.\u001b[0m\u001b[0mauthorizor\u001b[0m\u001b[1;33m.\u001b[0m\u001b[0mcheck_permission\u001b[0m\u001b[1;33m(\u001b[0m\u001b[1;34m\"paint\"\u001b[0m\u001b[1;33m,\u001b[0m \u001b[1;34m\"joe\"\u001b[0m\u001b[1;33m)\u001b[0m\u001b[1;33m\u001b[0m\u001b[1;33m\u001b[0m\u001b[0m\n",
      "\u001b[1;31mAttributeError\u001b[0m: module 'auth' has no attribute 'authenticator'"
     ]
    }
   ],
   "source": [
    "import auth\n",
    "auth.authenticator.add_user(\"joe\", \"joepassword\")\n",
    "auth.authorizor.add_permission(\"paint\")\n",
    "auth.authorizor.check_permission(\"paint\", \"joe\")"
   ]
  },
  {
   "cell_type": "code",
   "execution_count": null,
   "id": "d61829b0",
   "metadata": {},
   "outputs": [],
   "source": [
    "auth.authenticator.is_logged_in(\"joe\")"
   ]
  },
  {
   "cell_type": "code",
   "execution_count": null,
   "id": "fffb5733",
   "metadata": {},
   "outputs": [],
   "source": [
    "auth.authenticator.login(\"joe\", \"joepassword\")"
   ]
  },
  {
   "cell_type": "code",
   "execution_count": null,
   "id": "94934729",
   "metadata": {},
   "outputs": [],
   "source": [
    "auth.authorizor.check_permission(\"paint\", \"joe\")"
   ]
  },
  {
   "cell_type": "code",
   "execution_count": null,
   "id": "c354e2ee",
   "metadata": {},
   "outputs": [],
   "source": [
    "auth.authorizor.check_permission(\"mix\", \"joe\")"
   ]
  },
  {
   "cell_type": "code",
   "execution_count": null,
   "id": "d3d3e9d8",
   "metadata": {},
   "outputs": [],
   "source": [
    "auth.authorizor.permit_user(\"mix\", \"joe\")"
   ]
  },
  {
   "cell_type": "code",
   "execution_count": null,
   "id": "29cca490",
   "metadata": {},
   "outputs": [],
   "source": [
    "auth.authorizor.permit_user(\"paint\", \"joe\")"
   ]
  },
  {
   "cell_type": "code",
   "execution_count": null,
   "id": "e7beef84",
   "metadata": {},
   "outputs": [],
   "source": [
    "auth.authorizor.check_permission(\"paint\", \"joe\")"
   ]
  },
  {
   "cell_type": "markdown",
   "id": "1c8d616f",
   "metadata": {},
   "source": [
    "While verbose, the preceding output shows all of our code and most of our\n",
    "exceptions in action, but to really understand the API we've defined, we should\n",
    "write some exception handling code that actually uses it. Here's a basic menu\n",
    "interface that allows certain users to change or test a program:"
   ]
  },
  {
   "cell_type": "code",
   "execution_count": 20,
   "id": "a35a2cb7",
   "metadata": {},
   "outputs": [
    {
     "ename": "AttributeError",
     "evalue": "module 'auth' has no attribute 'authenticator'",
     "output_type": "error",
     "traceback": [
      "\u001b[1;31m---------------------------------------------------------------------------\u001b[0m",
      "\u001b[1;31mAttributeError\u001b[0m                            Traceback (most recent call last)",
      "\u001b[1;32m<ipython-input-20-ac6daf760c7a>\u001b[0m in \u001b[0;36m<module>\u001b[1;34m\u001b[0m\n\u001b[0;32m      1\u001b[0m \u001b[1;32mimport\u001b[0m \u001b[0mauth\u001b[0m\u001b[1;33m\u001b[0m\u001b[1;33m\u001b[0m\u001b[0m\n\u001b[0;32m      2\u001b[0m \u001b[1;31m# Set up a test user and permission\u001b[0m\u001b[1;33m\u001b[0m\u001b[1;33m\u001b[0m\u001b[1;33m\u001b[0m\u001b[0m\n\u001b[1;32m----> 3\u001b[1;33m \u001b[0mauth\u001b[0m\u001b[1;33m.\u001b[0m\u001b[0mauthenticator\u001b[0m\u001b[1;33m.\u001b[0m\u001b[0madd_user\u001b[0m\u001b[1;33m(\u001b[0m\u001b[1;34m\"joe\"\u001b[0m\u001b[1;33m,\u001b[0m \u001b[1;34m\"joepassword\"\u001b[0m\u001b[1;33m)\u001b[0m\u001b[1;33m\u001b[0m\u001b[1;33m\u001b[0m\u001b[0m\n\u001b[0m\u001b[0;32m      4\u001b[0m \u001b[0mauth\u001b[0m\u001b[1;33m.\u001b[0m\u001b[0mauthorizor\u001b[0m\u001b[1;33m.\u001b[0m\u001b[0madd_permission\u001b[0m\u001b[1;33m(\u001b[0m\u001b[1;34m\"test program\"\u001b[0m\u001b[1;33m)\u001b[0m\u001b[1;33m\u001b[0m\u001b[1;33m\u001b[0m\u001b[0m\n\u001b[0;32m      5\u001b[0m \u001b[0mauth\u001b[0m\u001b[1;33m.\u001b[0m\u001b[0mauthorizor\u001b[0m\u001b[1;33m.\u001b[0m\u001b[0madd_permission\u001b[0m\u001b[1;33m(\u001b[0m\u001b[1;34m\"change program\"\u001b[0m\u001b[1;33m)\u001b[0m\u001b[1;33m\u001b[0m\u001b[1;33m\u001b[0m\u001b[0m\n",
      "\u001b[1;31mAttributeError\u001b[0m: module 'auth' has no attribute 'authenticator'"
     ]
    }
   ],
   "source": [
    "import auth\n",
    "# Set up a test user and permission\n",
    "auth.authenticator.add_user(\"joe\", \"joepassword\")\n",
    "auth.authorizor.add_permission(\"test program\")\n",
    "auth.authorizor.add_permission(\"change program\")\n",
    "auth.authorizor.permit_user(\"test program\", \"joe\")\n",
    "class Editor:\n",
    "    def __init__(self):\n",
    "        self.username = None\n",
    "        self.menu_map = {\n",
    "        \"login\": self.login,\n",
    "        \"test\": self.test,\n",
    "        \"change\": self.change,\n",
    "        \"quit\": self.quit\n",
    "        }\n",
    "    def login(self):\n",
    "        logged_in = False\n",
    "        while not logged_in:\n",
    "            username = input(\"username: \")\n",
    "            password = input(\"password: \")\n",
    "            try:\n",
    "                logged_in = auth.authenticator.login(username, password)\n",
    "            except auth.InvalidUsername:\n",
    "                print(\"Sorry, that username does not exist\")\n",
    "            except auth.InvalidPassword:\n",
    "                print(\"Sorry, incorrect password\")\n",
    "            else:\n",
    "                self.username = username\n",
    "    def is_permitted(self, permission):\n",
    "        try:\n",
    "            auth.authorizor.check_permission(permission, self.username)\n",
    "        except auth.NotLoggedInError as e:\n",
    "            print(\"{} is not logged in\".format(e.username))\n",
    "            return False\n",
    "        except auth.NotPermittedError as e:\n",
    "            print(\"{} cannot {}\".format(e.username, permission))\n",
    "            return False\n",
    "        else:\n",
    "            return True\n",
    "    def test(self):\n",
    "        if self.is_permitted(\"test program\"):\n",
    "            print(\"Testing program now...\")\n",
    "    def change(self):\n",
    "        if self.is_permitted(\"change program\"):\n",
    "            print(\"Changing program now...\")\n",
    "    def quit(self):\n",
    "        raise SystemExit()\n",
    "    def menu(self):\n",
    "        try:\n",
    "            answer = \"\"\n",
    "            while True:\n",
    "                print(\"\"\"\n",
    "                Please enter a command:\n",
    "                \\tlogin\\tLogin\n",
    "                \\ttest\\tTest the program\n",
    "                \\tchange\\tChange the program\n",
    "                \\tquit\\tQuit\n",
    "                    \"\"\")\n",
    "                answer = input(\"enter a command: \").lower()\n",
    "                try:\n",
    "                    func = self.menu_map[answer]\n",
    "                except KeyError:\n",
    "                    print(\"{} is not a valid option\".format(answer))\n",
    "                else:\n",
    "                    func()\n",
    "        finally:\n",
    "            print(\"Thank you for testing the auth module\")\n",
    "    Editor().menu()"
   ]
  },
  {
   "cell_type": "markdown",
   "id": "a3865276",
   "metadata": {},
   "source": [
    "This rather long example is conceptually very simple. The is_permitted method is\n",
    "probably the most interesting; this is a mostly internal method that is called by both\n",
    "test and change to ensure the user is permitted access before continuing. Of course,\n",
    "those two methods are stubs, but we aren't writing an editor here; we're illustrating\n",
    "the use of exceptions and exception handlers by testing an authentication and\n",
    "authorization framework!"
   ]
  },
  {
   "cell_type": "code",
   "execution_count": null,
   "id": "a847673d",
   "metadata": {},
   "outputs": [],
   "source": []
  }
 ],
 "metadata": {
  "kernelspec": {
   "display_name": "Python 3 (ipykernel)",
   "language": "python",
   "name": "python3"
  },
  "language_info": {
   "codemirror_mode": {
    "name": "ipython",
    "version": 3
   },
   "file_extension": ".py",
   "mimetype": "text/x-python",
   "name": "python",
   "nbconvert_exporter": "python",
   "pygments_lexer": "ipython3",
   "version": "3.6.13"
  }
 },
 "nbformat": 4,
 "nbformat_minor": 5
}

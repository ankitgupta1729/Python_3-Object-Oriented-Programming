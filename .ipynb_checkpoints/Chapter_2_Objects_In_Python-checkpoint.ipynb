{
 "cells": [
  {
   "cell_type": "markdown",
   "id": "10282e79",
   "metadata": {},
   "source": [
    "## Creating Python classes"
   ]
  },
  {
   "cell_type": "markdown",
   "id": "44d1ecb4",
   "metadata": {},
   "source": [
    "The simplest class in Python 3 looks like this:"
   ]
  },
  {
   "cell_type": "code",
   "execution_count": 1,
   "id": "a46ff760",
   "metadata": {},
   "outputs": [],
   "source": [
    "class MyFirstClass:\n",
    "    pass"
   ]
  },
  {
   "cell_type": "markdown",
   "id": "5f3f0ded",
   "metadata": {},
   "source": [
    "There's our first object-oriented program! The class definition starts with the class keyword. This is followed by a name (of our choice) identifying the class, and is terminated with a colon."
   ]
  },
  {
   "cell_type": "markdown",
   "id": "2e62d19a",
   "metadata": {},
   "source": [
    "Naming Convention:\n",
    "\n",
    "The class name must follow standard Python variable naming rules (it must start with a letter or underscore, and can only be comprised of letters, underscores, or numbers). In addition, the Python style guide\n",
    "(search the web for \"PEP 8\") recommends that classes should be named\n",
    "using <b>CamelCase</b> notation (start with a capital letter; any subsequent\n",
    "words should also start with a capital)."
   ]
  },
  {
   "cell_type": "markdown",
   "id": "443ef423",
   "metadata": {},
   "source": [
    "We might think there isn't much we can do with this most basic class, but it does\n",
    "allow us to instantiate objects of that class. We can load the class into the Python 3\n",
    "interpreter, so we can interactively play with it. To do this, save the class definition\n",
    "mentioned earlier into a file named first_class.py and then run the command\n",
    "python -i first_class.py. The -i argument tells Python to \"run the code\n",
    "and then drop to the interactive interpreter\". The following interpreter session\n",
    "demonstrates basic interaction with this class:    \n",
    "a = MyFirstClass()     \n",
    "b = MyFirstClass()      \n",
    "print(a)      \n",
    "<__main__.MyFirstClass object at 0xb7b7faec>     \n",
    "print(b)     \n",
    "<__main__.MyFirstClass object at 0xb7b7fbac>   "
   ]
  },
  {
   "cell_type": "code",
   "execution_count": 2,
   "id": "c25b840b",
   "metadata": {},
   "outputs": [
    {
     "name": "stdout",
     "output_type": "stream",
     "text": [
      "<__main__.MyFirstClass object at 0x0000029F43968AC8>\n",
      "<__main__.MyFirstClass object at 0x0000029F43968A90>\n"
     ]
    }
   ],
   "source": [
    "a = MyFirstClass()\n",
    "b = MyFirstClass()\n",
    "print(a)\n",
    "print(b)"
   ]
  },
  {
   "cell_type": "markdown",
   "id": "37c4647f",
   "metadata": {},
   "source": [
    "This code instantiates two objects from the new class, named a and b. Creating an\n",
    "instance of a class is a simple matter of typing the class name followed by a pair\n",
    "of parentheses. It looks much like a normal function call, but Python knows we're\n",
    "\"calling\" a class and not a function, so it understands that its job is to create a new\n",
    "object. When printed, the two objects tell us which class they are and what memory\n",
    "address they live at. Memory addresses aren't used much in Python code, but here,\n",
    "they demonstrate that there are two distinct objects involved"
   ]
  },
  {
   "cell_type": "markdown",
   "id": "9d9b3a88",
   "metadata": {},
   "source": [
    "## Adding attributes"
   ]
  },
  {
   "cell_type": "markdown",
   "id": "913966d2",
   "metadata": {},
   "source": [
    "What do we have to do to assign an attribute to a given object?"
   ]
  },
  {
   "cell_type": "markdown",
   "id": "865c4bd8",
   "metadata": {},
   "source": [
    "It turns out that we don't have to do anything special in the class definition. We can\n",
    "set arbitrary attributes on an instantiated object using the dot notation:"
   ]
  },
  {
   "cell_type": "code",
   "execution_count": 3,
   "id": "de13182b",
   "metadata": {},
   "outputs": [],
   "source": [
    "# defining the python class\n",
    "class Point:\n",
    "    pass\n",
    "\n",
    "# instantiate the class or creating the two objects of the class\n",
    "p1 = Point()\n",
    "p2 = Point()\n",
    "\n",
    "# assigning the attribute values to the attributes\n",
    "\n",
    "p1.x = 5\n",
    "p1.y = 4\n",
    "\n",
    "p2.x = 3\n",
    "p2.y = 6"
   ]
  },
  {
   "cell_type": "code",
   "execution_count": 4,
   "id": "10ab48dd",
   "metadata": {},
   "outputs": [
    {
     "name": "stdout",
     "output_type": "stream",
     "text": [
      "5 4\n",
      "3 6\n"
     ]
    }
   ],
   "source": [
    "print(p1.x, p1.y)\n",
    "print(p2.x, p2.y)"
   ]
  },
  {
   "cell_type": "markdown",
   "id": "804c10ee",
   "metadata": {},
   "source": [
    "This code creates an empty Point class with no data or behaviors.\n",
    "Then it creates two instances of that class and assigns each of those instances x and y coordinates to\n",
    "identify a point in two dimensions.\n",
    "\n",
    "All we need to do to assign a value to an attribute on an object is use the <object>.<attribute> = <value> syntax.\n",
    "\n",
    "This is sometimes referred to as <b>dot notation</b>.\n",
    "    \n",
    "<b>The value can be anything: a Python primitive, a built-in data type, or another object. It can even be a function or another class!</b>"
   ]
  },
  {
   "cell_type": "markdown",
   "id": "14fe5198",
   "metadata": {},
   "source": [
    "## Making it do something"
   ]
  },
  {
   "cell_type": "markdown",
   "id": "abbb3503",
   "metadata": {},
   "source": [
    "Now, having objects with attributes is great, but object-oriented programming is\n",
    "really about the interaction between objects. We're interested in invoking actions that\n",
    "cause things to happen to those attributes. It is time to add behaviors to our classes."
   ]
  },
  {
   "cell_type": "markdown",
   "id": "62febe0d",
   "metadata": {},
   "source": [
    "Let's model a couple of actions on our Point class. We can start with a\n",
    "called reset that moves the point to the origin (the origin is the point where x and\n",
    "y are both zero). This is a good introductory action because it doesn't require any\n",
    "parameters:"
   ]
  },
  {
   "cell_type": "code",
   "execution_count": 5,
   "id": "c72b2815",
   "metadata": {},
   "outputs": [
    {
     "name": "stdout",
     "output_type": "stream",
     "text": [
      "0 0\n"
     ]
    }
   ],
   "source": [
    "class Point:\n",
    "    def reset(self):\n",
    "        self.x = 0\n",
    "        self.y = 0\n",
    "p = Point()\n",
    "p.reset()\n",
    "print(p.x, p.y)"
   ]
  },
  {
   "cell_type": "markdown",
   "id": "257bbecc",
   "metadata": {},
   "source": [
    "A method in Python is formatted identically to a function. It starts with the keyword\n",
    "def followed by a space and the name of the method. This is followed by a set of\n",
    "parentheses containing the parameter list (we'll discuss that self parameter in\n",
    "just a moment), and terminated with a colon. The next line is indented to contain\n",
    "the statements inside the method. These statements can be arbitrary Python code\n",
    "operating on the object itself and any parameters passed in as the method sees fit."
   ]
  },
  {
   "cell_type": "markdown",
   "id": "3059fd23",
   "metadata": {},
   "source": [
    "## Talking to yourself"
   ]
  },
  {
   "cell_type": "markdown",
   "id": "b035bc09",
   "metadata": {},
   "source": [
    "The one difference between methods and normal functions is that all methods have\n",
    "one required argument. This argument is conventionally named self; I've never seen\n",
    "a programmer use any other name for this variable (convention is a very powerful\n",
    "thing). There's nothing stopping you, however, from calling it this or even Martha.\n",
    "\n",
    "<b>The self argument to a method is simply a reference to the object that the method\n",
    "is being invoked on. We can access attributes and methods of that object as if it were\n",
    "any another object. This is exactly what we do inside the reset method when we set\n",
    "the x and y attributes of the self object.</b>"
   ]
  },
  {
   "cell_type": "markdown",
   "id": "e1d9cf78",
   "metadata": {},
   "source": [
    "<b>Notice that when we call the p.reset() method, we do not have to pass the self\n",
    "argument into it. Python automatically takes care of this for us. It knows we're calling\n",
    "a method on the p object, so it automatically passes that object to the method.</b>"
   ]
  },
  {
   "cell_type": "markdown",
   "id": "637269e0",
   "metadata": {},
   "source": [
    "<b>However, the method really is just a function that happens to be on a class. Instead\n",
    "of calling the method on the object, we can invoke the function on the class, explicitly\n",
    "passing our object as the self argument:</b>"
   ]
  },
  {
   "cell_type": "code",
   "execution_count": 6,
   "id": "86e968c5",
   "metadata": {},
   "outputs": [
    {
     "name": "stdout",
     "output_type": "stream",
     "text": [
      "0 0\n"
     ]
    }
   ],
   "source": [
    "p = Point()\n",
    "Point.reset(p)\n",
    "print(p.x, p.y)"
   ]
  },
  {
   "cell_type": "markdown",
   "id": "0c47b707",
   "metadata": {},
   "source": [
    "The output is the same as the previous example because internally, the exact same\n",
    "process has occurred."
   ]
  },
  {
   "cell_type": "code",
   "execution_count": 7,
   "id": "cff17f77",
   "metadata": {},
   "outputs": [
    {
     "ename": "TypeError",
     "evalue": "reset() takes 0 positional arguments but 1 was given",
     "output_type": "error",
     "traceback": [
      "\u001b[1;31m---------------------------------------------------------------------------\u001b[0m",
      "\u001b[1;31mTypeError\u001b[0m                                 Traceback (most recent call last)",
      "\u001b[1;32m<ipython-input-7-f450ce715668>\u001b[0m in \u001b[0;36m<module>\u001b[1;34m\u001b[0m\n\u001b[0;32m      5\u001b[0m         \u001b[1;32mpass\u001b[0m\u001b[1;33m\u001b[0m\u001b[1;33m\u001b[0m\u001b[0m\n\u001b[0;32m      6\u001b[0m \u001b[0mp\u001b[0m \u001b[1;33m=\u001b[0m \u001b[0mPoint\u001b[0m\u001b[1;33m(\u001b[0m\u001b[1;33m)\u001b[0m\u001b[1;33m\u001b[0m\u001b[1;33m\u001b[0m\u001b[0m\n\u001b[1;32m----> 7\u001b[1;33m \u001b[0mp\u001b[0m\u001b[1;33m.\u001b[0m\u001b[0mreset\u001b[0m\u001b[1;33m(\u001b[0m\u001b[1;33m)\u001b[0m\u001b[1;33m\u001b[0m\u001b[1;33m\u001b[0m\u001b[0m\n\u001b[0m",
      "\u001b[1;31mTypeError\u001b[0m: reset() takes 0 positional arguments but 1 was given"
     ]
    }
   ],
   "source": [
    "#What happens if we forget to include the self argument in our class definition?\n",
    "#Python will bail with an error message:\n",
    "class Point:\n",
    "    def reset():\n",
    "        pass\n",
    "p = Point()\n",
    "p.reset()"
   ]
  },
  {
   "cell_type": "markdown",
   "id": "acd36411",
   "metadata": {},
   "source": [
    "## More arguments"
   ]
  },
  {
   "cell_type": "markdown",
   "id": "e80da52c",
   "metadata": {},
   "source": [
    "So, how do we pass multiple arguments to a method? Let's add a new method that\n",
    "allows us to move a point to an arbitrary position, not just to the origin. We can\n",
    "also include one that accepts another Point object as input and returns the distance\n",
    "between them:"
   ]
  },
  {
   "cell_type": "code",
   "execution_count": null,
   "id": "75814d04",
   "metadata": {},
   "outputs": [],
   "source": [
    "import math\n",
    "class Point:\n",
    "    def move(self, x, y):\n",
    "        self.x = x\n",
    "        self.y = y\n",
    "    def reset(self):\n",
    "        self.move(0, 0)\n",
    "    def calculate_distance(self, other_point):\n",
    "        return math.sqrt((self.x - other_point.x)**2 + (self.y - other_point.y)**2)"
   ]
  },
  {
   "cell_type": "code",
   "execution_count": null,
   "id": "b682d950",
   "metadata": {},
   "outputs": [],
   "source": [
    "# how to use it:\n",
    "point1 = Point()\n",
    "point2 = Point()"
   ]
  },
  {
   "cell_type": "code",
   "execution_count": null,
   "id": "f532079b",
   "metadata": {},
   "outputs": [],
   "source": [
    "point1.reset()"
   ]
  },
  {
   "cell_type": "code",
   "execution_count": null,
   "id": "15a5ec49",
   "metadata": {},
   "outputs": [],
   "source": [
    "#for point1, x=0,y=0"
   ]
  },
  {
   "cell_type": "code",
   "execution_count": null,
   "id": "9f96dadd",
   "metadata": {},
   "outputs": [],
   "source": [
    "point2.move(5,0)"
   ]
  },
  {
   "cell_type": "code",
   "execution_count": null,
   "id": "4bb1ecc8",
   "metadata": {},
   "outputs": [],
   "source": [
    "#for point2, x=5,y=0"
   ]
  },
  {
   "cell_type": "code",
   "execution_count": null,
   "id": "3c60aa14",
   "metadata": {},
   "outputs": [],
   "source": [
    "print(point2.calculate_distance(point1))"
   ]
  },
  {
   "cell_type": "code",
   "execution_count": null,
   "id": "32092f3e",
   "metadata": {},
   "outputs": [],
   "source": [
    "# self.x=point1.x and other_point.x=point2.x and same for y"
   ]
  },
  {
   "cell_type": "code",
   "execution_count": null,
   "id": "8c426896",
   "metadata": {},
   "outputs": [],
   "source": [
    "assert (point2.calculate_distance(point1) ==point1.calculate_distance(point2))"
   ]
  },
  {
   "cell_type": "markdown",
   "id": "78b30138",
   "metadata": {},
   "source": [
    "The assert keyword is used when debugging code.\n",
    "\n",
    "The assert keyword lets you test if a condition in your code returns True, if not, the program will raise an AssertionError.\n",
    "\n",
    "You can write a message to be written if the code returns False, check the example below.\n"
   ]
  },
  {
   "cell_type": "code",
   "execution_count": null,
   "id": "d982123c",
   "metadata": {},
   "outputs": [],
   "source": [
    "x = \"hello\"\n",
    "\n",
    "#if condition returns True, then nothing happens:\n",
    "assert x == \"hello\"\n",
    "\n",
    "#if condition returns False, AssertionError is raised:\n",
    "assert x == \"goodbye\""
   ]
  },
  {
   "cell_type": "code",
   "execution_count": null,
   "id": "5e733584",
   "metadata": {},
   "outputs": [],
   "source": [
    "point1.move(3,4)\n",
    "print(point1.calculate_distance(point2))\n",
    "print(point1.calculate_distance(point1))"
   ]
  },
  {
   "cell_type": "markdown",
   "id": "dd845e3e",
   "metadata": {},
   "source": [
    "## Initializing the object"
   ]
  },
  {
   "cell_type": "markdown",
   "id": "9544cfbe",
   "metadata": {},
   "source": [
    "Most object-oriented programming languages have the concept of a constructor,\n",
    "a special method that creates and initializes the object when it is created"
   ]
  },
  {
   "cell_type": "markdown",
   "id": "9dd6ee08",
   "metadata": {},
   "source": [
    "The Python initialization method is the same as any other method, except it has a\n",
    "special name, __init__. The leading and trailing double underscores mean this is\n",
    "a special method that the Python interpreter will treat as a special case."
   ]
  },
  {
   "cell_type": "markdown",
   "id": "9fd5cf12",
   "metadata": {},
   "source": [
    "Never name a function of your own with leading and trailing double\n",
    "underscores. It may mean nothing to Python, but there's always the\n",
    "possibility that the designers of Python will add a function that has a\n",
    "special purpose with that name in the future, and when they do, your\n",
    "code will break."
   ]
  },
  {
   "cell_type": "markdown",
   "id": "a104be6f",
   "metadata": {},
   "source": [
    "Let's start with an initialization function on our Point class that requires the user to\n",
    "supply x and y coordinates when the Point object is instantiated:"
   ]
  },
  {
   "cell_type": "code",
   "execution_count": null,
   "id": "6d306185",
   "metadata": {},
   "outputs": [],
   "source": [
    "class Point:\n",
    "    def __init__(self, x, y):\n",
    "        self.move(x, y)\n",
    "    def move(self, x, y):\n",
    "        self.x = x\n",
    "        self.y = y\n",
    "    def reset(self):\n",
    "        self.move(0, 0)"
   ]
  },
  {
   "cell_type": "code",
   "execution_count": null,
   "id": "7db0099f",
   "metadata": {},
   "outputs": [],
   "source": [
    "# Constructing a Point\n",
    "point = Point(3, 5)\n",
    "print(point.x, point.y)"
   ]
  },
  {
   "cell_type": "markdown",
   "id": "1ec13980",
   "metadata": {},
   "source": [
    "Now, our point can never go without a y coordinate! If we try to construct a\n",
    "point without including the proper initialization parameters, it will fail with a not\n",
    "enough arguments error similar to the one we received earlier when we forgot the\n",
    "self argument."
   ]
  },
  {
   "cell_type": "markdown",
   "id": "46ea70e0",
   "metadata": {},
   "source": [
    "What if we don't want to make those two arguments required? Well, then we can\n",
    "use the same syntax Python functions use to provide default arguments. The\n",
    "keyword argument syntax appends an equals sign after each variable name. If the\n",
    "calling object does not provide this argument, then the default argument is used\n",
    "instead. The variables will still be available to the function, but they will have the\n",
    "values specified in the argument list."
   ]
  },
  {
   "cell_type": "code",
   "execution_count": null,
   "id": "57c5f1e5",
   "metadata": {},
   "outputs": [],
   "source": [
    "# class Point:\n",
    "#     def __init__(self, x=0, y=0):\n",
    "#         self.move(x, y)\n",
    "#     def move(self, x, y):\n",
    "#         self.x = x\n",
    "#         self.y = y\n",
    "#     def reset(self):\n",
    "#         self.move(0, 0)\n",
    "# # Constructing a Point\n",
    "# point = Point()\n",
    "# print(point.x, point.y)"
   ]
  },
  {
   "cell_type": "markdown",
   "id": "086c115f",
   "metadata": {},
   "source": [
    "Most of the time, we put our initialization statements in an __init__ function. But as\n",
    "mentioned earlier, Python has a constructor in addition to its initialization function.\n",
    "You may never need to use the other Python constructor, but it helps to know it\n",
    "exists, so we'll cover it briefly."
   ]
  },
  {
   "cell_type": "markdown",
   "id": "6e1b4707",
   "metadata": {},
   "source": [
    "The constructor function is called __new__ as opposed to __init__, and accepts\n",
    "exactly one argument; the class that is being constructed (it is called before the object\n",
    "is constructed, so there is no self argument). It also has to return the newly created\n",
    "object. This has interesting possibilities when it comes to the complicated art of\n",
    "metaprogramming, but is not very useful in day-to-day programming. In practice,\n",
    "you will rarely, if ever, need to use __new__ and __init__ will be sufficient"
   ]
  },
  {
   "cell_type": "markdown",
   "id": "6db3efcc",
   "metadata": {},
   "source": [
    "## Explaining yourself"
   ]
  },
  {
   "cell_type": "markdown",
   "id": "700028bd",
   "metadata": {},
   "source": [
    "Python is an extremely easy-to-read programming language; some might say it\n",
    "is self-documenting. However, when doing object-oriented programming, it is\n",
    "important to write API documentation that clearly summarizes what each object\n",
    "and method does. Keeping documentation up-to-date is difficult; the best way to\n",
    "do it is to write it right into our code."
   ]
  },
  {
   "cell_type": "markdown",
   "id": "b7dcf1d1",
   "metadata": {},
   "source": [
    "Python supports this through the use of docstrings. Each class, function, or\n",
    "method header can have a standard Python string as the first line following the\n",
    "definition (the line that ends in a colon). This line should be indented the same\n",
    "as the following code"
   ]
  },
  {
   "cell_type": "markdown",
   "id": "09669337",
   "metadata": {},
   "source": [
    "Docstrings are simply Python strings enclosed with apostrophe (') or quote (\")\n",
    "characters. Often, docstrings are quite long and span multiple lines (the style guide\n",
    "suggests that the line length should not exceed 80 characters), which can\n",
    "be formatted as multi-line strings, enclosed in matching triple apostrophe (''')\n",
    "or triple quote (\"\"\") characters."
   ]
  },
  {
   "cell_type": "markdown",
   "id": "54fa4928",
   "metadata": {},
   "source": [
    "To illustrate the use of docstrings, we will end this section with our completely\n",
    "documented Point class:"
   ]
  },
  {
   "cell_type": "code",
   "execution_count": null,
   "id": "6cd695ed",
   "metadata": {},
   "outputs": [],
   "source": [
    "import math\n",
    "class Point:\n",
    "    'Represents a point in two-dimensional geometric coordinates'\n",
    "    def __init__(self, x=0, y=0):\n",
    "        '''Initialize the position of a new point. The x and y\n",
    "        coordinates can be specified. If they are not, the\n",
    "        point defaults to the origin.'''\n",
    "        self.move(x, y)\n",
    "    def move(self, x, y):\n",
    "        \"Move the point to a new location in 2D space.\"\n",
    "        self.x = x\n",
    "        self.y = y\n",
    "    def reset(self):\n",
    "        'Reset the point back to the geometric origin: 0, 0'\n",
    "        self.move(0, 0)\n",
    "    def calculate_distance(self, other_point):\n",
    "        \"\"\"Calculate the distance from this point to a second\n",
    "        point passed as a parameter.\n",
    "        This function uses the Pythagorean Theorem to calculate\n",
    "        the distance between the two points. The distance is\n",
    "        returned as a float.\"\"\"\n",
    "        return math.sqrt((self.x - other_point.x)**2 +(self.y - other_point.y)**2)"
   ]
  },
  {
   "cell_type": "markdown",
   "id": "fb5c34f1",
   "metadata": {},
   "source": [
    "Try typing or loading (remember, it's python -i filename.py) this file into the\n",
    "interactive interpreter. Then, enter help(Point)<enter> at the Python prompt.\n",
    "You should see nicely formatted documentation for the class"
   ]
  },
  {
   "cell_type": "code",
   "execution_count": null,
   "id": "9a6ec4e9",
   "metadata": {},
   "outputs": [],
   "source": [
    "help(Point)"
   ]
  },
  {
   "cell_type": "markdown",
   "id": "0d5755be",
   "metadata": {},
   "source": [
    "## Modules and packages"
   ]
  },
  {
   "cell_type": "markdown",
   "id": "e603e9ce",
   "metadata": {},
   "source": [
    "Now, we know how to create classes and instantiate objects, but how do we organize\n",
    "them? For small programs, we can just put all our classes into one file and add a little\n",
    "script at the end of the file to start them interacting. However, as our projects grow,\n",
    "it can become difficult to find the one class that needs to be edited among the many\n",
    "classes we've defined. This is where modules come in. Modules are simply Python\n",
    "files, nothing more. The single file in our small program is a module. Two Python\n",
    "files are two modules. If we have two files in the same folder, we can load a class\n",
    "from one module for use in the other module."
   ]
  },
  {
   "cell_type": "markdown",
   "id": "a6a22305",
   "metadata": {},
   "source": [
    "The import statement is used for importing modules or specific classes or functions\n",
    "from modules."
   ]
  },
  {
   "cell_type": "markdown",
   "id": "fe2cd4b0",
   "metadata": {},
   "source": [
    "Here's a concrete example. Assume we have a module called database.py that\n",
    "contains a class called Database, and a second module called products.py that is\n",
    "responsible for product-related queries. At this point, we don't need to think too\n",
    "much about the contents of these files. What we know is that products.py needs to\n",
    "instantiate the Database class from database.py so that it can execute queries on\n",
    "the product table in the database."
   ]
  },
  {
   "cell_type": "markdown",
   "id": "bfe3787f",
   "metadata": {},
   "source": [
    "There are several variations on the import statement syntax that can be used to\n",
    "access the class:"
   ]
  },
  {
   "cell_type": "code",
   "execution_count": null,
   "id": "958a5c40",
   "metadata": {},
   "outputs": [],
   "source": [
    "# import database\n",
    "# db = database.Database()\n",
    "# # Do queries on db"
   ]
  },
  {
   "cell_type": "markdown",
   "id": "de4f7ed2",
   "metadata": {},
   "source": [
    "This version imports the database module into the products namespace (the list\n",
    "of names currently accessible in a module or function), so any class or function in\n",
    "the database module can be accessed using the database.<something> notation.\n",
    "Alternatively, we can import just the one class we need using the from...import\n",
    "syntax:"
   ]
  },
  {
   "cell_type": "code",
   "execution_count": null,
   "id": "0673c270",
   "metadata": {},
   "outputs": [],
   "source": [
    "# from database import Database\n",
    "# db = Database()\n",
    "# # Do queries on db"
   ]
  },
  {
   "cell_type": "markdown",
   "id": "58cfdd5a",
   "metadata": {},
   "source": [
    "If, for some reason, products already has a class called Database, and we don't\n",
    "want the two names to be confused, we can rename the class when used inside the\n",
    "products module:"
   ]
  },
  {
   "cell_type": "code",
   "execution_count": null,
   "id": "a8fce675",
   "metadata": {},
   "outputs": [],
   "source": [
    "# from database import Database as DB\n",
    "# db = DB()\n",
    "# # Do queries on db"
   ]
  },
  {
   "cell_type": "markdown",
   "id": "e48ae858",
   "metadata": {},
   "source": [
    "We can also import multiple items in one statement. If our database module also\n",
    "contains a Query class, we can import both classes using:"
   ]
  },
  {
   "cell_type": "code",
   "execution_count": null,
   "id": "2bab6426",
   "metadata": {},
   "outputs": [],
   "source": [
    "# from database import Database, Query"
   ]
  },
  {
   "cell_type": "markdown",
   "id": "357cb8a6",
   "metadata": {},
   "source": [
    "Some sources say that we can import all classes and functions from the database\n",
    "module using this syntax:"
   ]
  },
  {
   "cell_type": "code",
   "execution_count": null,
   "id": "1de79bd4",
   "metadata": {},
   "outputs": [],
   "source": [
    "# from database import *"
   ]
  },
  {
   "cell_type": "markdown",
   "id": "e3c5a45b",
   "metadata": {},
   "source": [
    "Don't do this. Every experienced Python programmer will tell you that you should\n",
    "never use this syntax. They'll use obscure justifications such as \"it clutters up the\n",
    "namespace\", which doesn't make much sense to beginners. One way to learn why\n",
    "to avoid this syntax is to use it and try to understand your code two years later.\n",
    "But we can save some time and two years of poorly written code with a quick\n",
    "explanation now!"
   ]
  },
  {
   "cell_type": "markdown",
   "id": "b6dd392f",
   "metadata": {},
   "source": [
    "When we explicitly import the database class at the top of our file using from\n",
    "database import Database, we can easily see where the Database class comes from.\n",
    "We might use db = Database() 400 lines later in the file, and we can quickly look at\n",
    "the imports to see where that Database class came from. Then, if we need clarification\n",
    "as to how to use the Database class, we can visit the original file (or import the module\n",
    "in the interactive interpreter and use the help(database.Database) command).\n",
    "However, if we use the from database import * syntax, it takes a lot longer to find\n",
    "where that class is located. Code maintenance becomes a nightmare."
   ]
  },
  {
   "cell_type": "markdown",
   "id": "710f94ac",
   "metadata": {},
   "source": [
    "## Organizing the modules"
   ]
  },
  {
   "cell_type": "markdown",
   "id": "db2aec62",
   "metadata": {},
   "source": [
    "As a project grows into a collection of more and more modules, we may find that\n",
    "we want to add another level of abstraction, some kind of nested hierarchy on our\n",
    "modules' levels. However, we can't put modules inside modules; one file can hold\n",
    "only one file after all, and modules are nothing more than Python files."
   ]
  },
  {
   "cell_type": "markdown",
   "id": "d153f3c1",
   "metadata": {},
   "source": [
    "Files, however, can go in folders and so can modules. A package is a collection of\n",
    "modules in a folder. The name of the package is the name of the folder. All we need to\n",
    "do to tell Python that a folder is a package is place a (normally empty) file in the folder\n",
    "named __init__.py. If we forget this file, we won't be able to import modules from\n",
    "that folder."
   ]
  },
  {
   "cell_type": "markdown",
   "id": "184bec2e",
   "metadata": {},
   "source": [
    "Let's put our modules inside an ecommerce package in our working folder, which\n",
    "will also contain a main.py file to start the program. Let's additionally add another\n",
    "package in the ecommerce package for various payment options. The folder\n",
    "hierarchy will look like this:"
   ]
  },
  {
   "cell_type": "code",
   "execution_count": null,
   "id": "db743349",
   "metadata": {},
   "outputs": [],
   "source": [
    "# parent_directory/\n",
    "#     main.py\n",
    "#     ecommerce/\n",
    "#         __init__.py\n",
    "#         database.py\n",
    "#         products.py\n",
    "#         payments/\n",
    "#             __init__.py\n",
    "#             square.py\n",
    "#             stripe.py"
   ]
  },
  {
   "cell_type": "markdown",
   "id": "f41190f5",
   "metadata": {},
   "source": [
    "When importing modules or classes between packages, we have to be cautious about\n",
    "the syntax. In Python 3, there are two ways of importing modules: absolute imports\n",
    "and relative imports."
   ]
  },
  {
   "cell_type": "markdown",
   "id": "4371f4c2",
   "metadata": {},
   "source": [
    "### Absolute imports"
   ]
  },
  {
   "cell_type": "markdown",
   "id": "1388d16a",
   "metadata": {},
   "source": [
    "Absolute imports specify the complete path to the module, function, or path we\n",
    "want to import. If we need access to the Product class inside the products module,\n",
    "we could use any of these syntaxes to do an absolute import:"
   ]
  },
  {
   "cell_type": "code",
   "execution_count": null,
   "id": "1b04860c",
   "metadata": {},
   "outputs": [],
   "source": [
    "# import ecommerce.products\n",
    "# product = ecommerce.products.Product()"
   ]
  },
  {
   "cell_type": "code",
   "execution_count": null,
   "id": "fd75d607",
   "metadata": {},
   "outputs": [],
   "source": [
    "# from ecommerce.products import Product\n",
    "# product = Product()"
   ]
  },
  {
   "cell_type": "code",
   "execution_count": null,
   "id": "c0edbaee",
   "metadata": {},
   "outputs": [],
   "source": [
    "# from ecommerce import products\n",
    "# product = products.Product()"
   ]
  },
  {
   "cell_type": "markdown",
   "id": "b6e7c924",
   "metadata": {},
   "source": [
    "The import statements use the period operator to separate packages or modules."
   ]
  },
  {
   "cell_type": "markdown",
   "id": "837c0854",
   "metadata": {},
   "source": [
    "These statements will work from any module. We could instantiate a Product\n",
    "class using this syntax in main.py, in the database module, or in either of the two\n",
    "payment modules. Indeed, assuming the packages are available to Python, it will be\n",
    "able to import them. For example, the packages can also be installed to the Python\n",
    "site packages folder, or the PYTHONPATH environment variable could be customized\n",
    "to dynamically tell Python what folders to search for packages and modules it is\n",
    "going to import."
   ]
  },
  {
   "cell_type": "markdown",
   "id": "1220446e",
   "metadata": {},
   "source": [
    "## Relative imports"
   ]
  },
  {
   "cell_type": "markdown",
   "id": "840cf6f8",
   "metadata": {},
   "source": [
    "When working with related modules in a package, it seems kind of silly to specify\n",
    "the full path; we know what our parent module is named. This is where relative\n",
    "imports come in. Relative imports are basically a way of saying find a class, function,\n",
    "or module as it is positioned relative to the current module. For example, if we are\n",
    "working in the products module and we want to import the Database class from\n",
    "the database module next to it, we could use a relative import"
   ]
  },
  {
   "cell_type": "code",
   "execution_count": null,
   "id": "e51ad996",
   "metadata": {},
   "outputs": [],
   "source": [
    "# from .database import Database"
   ]
  },
  {
   "cell_type": "markdown",
   "id": "3e18bbb5",
   "metadata": {},
   "source": [
    "The period in front of database says \"use the database module inside the current\n",
    "package\". In this case, the current package is the package containing the\n",
    "products.py file we are currently editing, that is, the ecommerce package."
   ]
  },
  {
   "cell_type": "markdown",
   "id": "fef3a93a",
   "metadata": {},
   "source": [
    "If we were editing the paypal module inside the ecommerce.payments package,\n",
    "we would want to say \"use the database package inside the parent package\" instead.\n",
    "This is easily done with two periods, as shown here:"
   ]
  },
  {
   "cell_type": "code",
   "execution_count": null,
   "id": "1444385a",
   "metadata": {},
   "outputs": [],
   "source": [
    "# from ..database import Database"
   ]
  },
  {
   "cell_type": "markdown",
   "id": "3d232ee5",
   "metadata": {},
   "source": [
    "We can use more periods to go further up the hierarchy. Of course, we can also\n",
    "go down one side and back up the other. We don't have a deep enough example\n",
    "hierarchy to illustrate this properly, but the following would be a valid import if\n",
    "we had an ecommerce.contact package containing an email module and wanted\n",
    "to import the send_mail function into our paypal module:"
   ]
  },
  {
   "cell_type": "code",
   "execution_count": null,
   "id": "1cb20583",
   "metadata": {},
   "outputs": [],
   "source": [
    "# from ..contact.email import send_mail"
   ]
  },
  {
   "cell_type": "markdown",
   "id": "9a8d3292",
   "metadata": {},
   "source": [
    "Remember the __init__.py file that defines a directory as a package? This file can\n",
    "contain any variable or class declarations we like, and they will be available as part of\n",
    "the package"
   ]
  },
  {
   "cell_type": "markdown",
   "id": "08e7e6f4",
   "metadata": {},
   "source": [
    "In our example, if the ecommerce/__init__.py file contained this line:"
   ]
  },
  {
   "cell_type": "code",
   "execution_count": null,
   "id": "c74b911a",
   "metadata": {},
   "outputs": [],
   "source": [
    "# from .database import db"
   ]
  },
  {
   "cell_type": "markdown",
   "id": "b066e1ad",
   "metadata": {},
   "source": [
    "We can then access the db attribute from main.py or any other file using this import:"
   ]
  },
  {
   "cell_type": "code",
   "execution_count": null,
   "id": "6abced13",
   "metadata": {},
   "outputs": [],
   "source": [
    "# from ecommerce import db"
   ]
  },
  {
   "cell_type": "markdown",
   "id": "c32bc848",
   "metadata": {},
   "source": [
    "It might help to think of the __init__.py file as if it was an ecommerce.py file if that\n",
    "file were a module instead of a package. This can also be useful if you put all your\n",
    "code in a single module and later decide to break it up into a package of modules.\n",
    "The __init__.py file for the new package can still be the main point of contact for\n",
    "other modules talking to it, but the code can be internally organized into several\n",
    "different modules or subpackages"
   ]
  },
  {
   "cell_type": "markdown",
   "id": "9eb4efe8",
   "metadata": {},
   "source": [
    "I recommend not putting all your code in an __init__.py file, though. Programmers\n",
    "do not expect actual logic to happen in this file, and much like with from x import\n",
    "*, it can trip them up if they are looking for the declaration of a particular piece of\n",
    "code and can't find it until they check __init__.py."
   ]
  },
  {
   "cell_type": "markdown",
   "id": "bb13e93d",
   "metadata": {},
   "source": [
    "## Organizing module contents"
   ]
  },
  {
   "cell_type": "markdown",
   "id": "9c10477b",
   "metadata": {},
   "source": [
    "Inside any one module, we can specify variables, classes, or functions. They can be\n",
    "a handy way to store the global state without namespace conflicts. For example, we\n",
    "have been importing the Database class into various modules and then instantiating\n",
    "it, but it might make more sense to have only one database object globally available\n",
    "from the database module. The database module might look like this:"
   ]
  },
  {
   "cell_type": "code",
   "execution_count": null,
   "id": "7b3ac9d5",
   "metadata": {},
   "outputs": [],
   "source": [
    "class Database:\n",
    "    # the database implementation\n",
    "    pass\n",
    "database = Database()"
   ]
  },
  {
   "cell_type": "markdown",
   "id": "c743f83e",
   "metadata": {},
   "source": [
    "A problem with the preceding class is that the database object is created\n",
    "immediately when the module is first imported, which is usually when the program\n",
    "starts up. This isn't always ideal since connecting to a database can take a while,\n",
    "slowing down startup, or the database connection information may not yet be\n",
    "available. We could delay creating the database until it is actually needed by calling\n",
    "an initialize_database function to create the module-level variable:"
   ]
  },
  {
   "cell_type": "code",
   "execution_count": null,
   "id": "0cb81e77",
   "metadata": {},
   "outputs": [],
   "source": [
    "class Database:\n",
    "    # the database implementation\n",
    "    pass\n",
    "database = None\n",
    "def initialize_database():\n",
    "    global database\n",
    "    database = Database()"
   ]
  },
  {
   "cell_type": "markdown",
   "id": "1b65d8c4",
   "metadata": {},
   "source": [
    "The global keyword tells Python that the database variable inside initialize_\n",
    "database is the module level one we just defined. If we had not specified the\n",
    "variable as global, Python would have created a new local variable that would be\n",
    "discarded when the method exits, leaving the module-level value unchanged."
   ]
  },
  {
   "cell_type": "markdown",
   "id": "03df158a",
   "metadata": {},
   "source": [
    "As these two examples illustrate, all module-level code is executed immediately at\n",
    "the time it is imported. However, if it is inside a method or function, the function will\n",
    "be created, but its internal code will not be executed until the function is called. This\n",
    "can be a tricky thing for scripts (such as the main script in our e-commerce example)\n",
    "that perform execution. Often, we will write a program that does something useful,\n",
    "and then later find that we want to import a function or class from that module in a\n",
    "different program. However, as soon as we import it, any code at the module level is\n",
    "immediately executed. If we are not careful, we can end up running the first program\n",
    "when we really only meant to access a couple functions inside that module."
   ]
  },
  {
   "cell_type": "markdown",
   "id": "d79de565",
   "metadata": {},
   "source": [
    "To solve this, we should always put our startup code in a function (conventionally,\n",
    "called main) and only execute that function when we know we are running the\n",
    "module as a script, but not when our code is being imported from a different script.\n",
    "But how do we know this?"
   ]
  },
  {
   "cell_type": "code",
   "execution_count": null,
   "id": "155919e5",
   "metadata": {},
   "outputs": [],
   "source": [
    "class UsefulClass:\n",
    "    '''This class might be useful to other modules.'''\n",
    "    pass\n",
    "def main():\n",
    "    '''creates a useful class and does something with it for our\n",
    "    module.'''\n",
    "    useful = UsefulClass()\n",
    "    print(useful)\n",
    "if __name__ == \"__main__\":\n",
    "    main()"
   ]
  },
  {
   "cell_type": "markdown",
   "id": "d8a28650",
   "metadata": {},
   "source": [
    "Every module has a __name__ special variable (remember, Python uses double\n",
    "underscores for special variables, such as a class's __init__ method) that specifies\n",
    "the name of the module when it was imported. When the module is executed directly\n",
    "with python module.py, it is never imported, so the __name__ is arbitrarily set to the\n",
    "string \"__main__\". Make it a policy to wrap all your scripts in an if __name__ ==\n",
    "\"__main__\": test, just in case you write a function you will find useful to be imported\n",
    "by other code someday"
   ]
  },
  {
   "cell_type": "markdown",
   "id": "ab908a37",
   "metadata": {},
   "source": [
    "Classes can be defined anywhere. They are typically defined at\n",
    "the module level, but they can also be defined inside a function or method, like this"
   ]
  },
  {
   "cell_type": "code",
   "execution_count": null,
   "id": "d856b1a8",
   "metadata": {},
   "outputs": [],
   "source": [
    "def format_string(string, formatter=None):\n",
    "    '''Format a string using the formatter object, which\n",
    "    is expected to have a format() method that accepts\n",
    "    a string.'''\n",
    "    class DefaultFormatter:\n",
    "        '''Format a string in title case.'''\n",
    "        def format(self, string):\n",
    "            return str(string).title()\n",
    "    if not formatter:\n",
    "        formatter = DefaultFormatter()\n",
    "    return formatter.format(string)"
   ]
  },
  {
   "cell_type": "code",
   "execution_count": null,
   "id": "b297acbc",
   "metadata": {},
   "outputs": [],
   "source": [
    "hello_string = \"hello world, how are you today?\"\n",
    "print(\" input: \" + hello_string)\n",
    "print(\"output: \" + format_string(hello_string))"
   ]
  },
  {
   "cell_type": "markdown",
   "id": "31a715e1",
   "metadata": {},
   "source": [
    "The format_string function accepts a string and optional formatter object, and then\n",
    "applies the formatter to that string. If no formatter is supplied, it creates a formatter\n",
    "of its own as a local class and instantiates it. Since it is created inside the scope of\n",
    "the function, this class cannot be accessed from anywhere outside of that function.\n",
    "Similarly, functions can be defined inside other functions as well; in general, any\n",
    "Python statement can be executed at any time.\n",
    "These inner classes and functions are occasionally useful for one-off items that don't\n",
    "require or deserve their own scope at the module level, or only make sense inside a\n",
    "single method. However, it is not common to see Python code that frequently uses\n",
    "this technique."
   ]
  },
  {
   "cell_type": "markdown",
   "id": "f0de6ed7",
   "metadata": {},
   "source": [
    "## Who can access my data?"
   ]
  },
  {
   "cell_type": "markdown",
   "id": "ca9072b3",
   "metadata": {},
   "source": [
    "Most object-oriented programming languages have a concept of access control.\n",
    "This is related to abstraction. Some attributes and methods on an object are marked\n",
    "private, meaning only that object can access them. Others are marked protected,\n",
    "meaning only that class and any subclasses have access. The rest are public, meaning\n",
    "any other object is allowed to access them."
   ]
  },
  {
   "cell_type": "markdown",
   "id": "b312bafe",
   "metadata": {},
   "source": [
    "Python doesn't do this. Python doesn't really believe in enforcing laws that might\n",
    "someday get in your way. Instead, it provides unenforced guidelines and best\n",
    "practices. Technically, all methods and attributes on a class are publicly available. If\n",
    "we want to suggest that a method should not be used publicly, we can put a note in\n",
    "docstrings indicating that the method is meant for internal use only (preferably, with\n",
    "an explanation of how the public-facing API works!)."
   ]
  },
  {
   "cell_type": "markdown",
   "id": "7d1ed530",
   "metadata": {},
   "source": [
    "By convention, we should also prefix an attribute or method with an underscore\n",
    "character, _. Python programmers will interpret this as \"this is an internal variable,\n",
    "think three times before accessing it directly\". But there is nothing inside the interpreter\n",
    "to stop them from accessing it if they think it is in their best interest to do so. Because\n",
    "if they think so, why should we stop them? We may not have any idea what future\n",
    "uses our classes may be put to"
   ]
  },
  {
   "cell_type": "markdown",
   "id": "6beb5d33",
   "metadata": {},
   "source": [
    "There's another thing you can do to strongly suggest that outside objects don't access\n",
    "a property or method: prefix it with a double underscore, __."
   ]
  },
  {
   "cell_type": "markdown",
   "id": "45ca1aad",
   "metadata": {},
   "source": [
    "This basically means that the method can still be\n",
    "called by outside objects if they really want to do it, but it requires extra work and is a\n",
    "strong indicator that you demand that your attribute remains private. For example:"
   ]
  },
  {
   "cell_type": "code",
   "execution_count": null,
   "id": "80686a82",
   "metadata": {},
   "outputs": [],
   "source": [
    "class SecretString:\n",
    "    '''A not-at-all secure way to store a secret string.'''\n",
    "    def __init__(self, plain_string, pass_phrase):\n",
    "        self.__plain_string = plain_string\n",
    "        self.__pass_phrase = pass_phrase\n",
    "    def decrypt(self, pass_phrase):\n",
    "        '''Only show the string if the pass_phrase is correct.'''\n",
    "        if pass_phrase == self.__pass_phrase:\n",
    "            return self.__plain_string\n",
    "        else:\n",
    "            return ''"
   ]
  },
  {
   "cell_type": "code",
   "execution_count": null,
   "id": "a13ca44e",
   "metadata": {},
   "outputs": [],
   "source": [
    "secret_string = SecretString(\"ACME: Top Secret\", \"antwerp\")"
   ]
  },
  {
   "cell_type": "code",
   "execution_count": null,
   "id": "7715df3f",
   "metadata": {},
   "outputs": [],
   "source": [
    "print(secret_string.decrypt(\"antwerp\"))"
   ]
  },
  {
   "cell_type": "code",
   "execution_count": null,
   "id": "c8cf4bca",
   "metadata": {},
   "outputs": [],
   "source": [
    "print(secret_string.__plain_text)"
   ]
  },
  {
   "cell_type": "markdown",
   "id": "e1dd3f9f",
   "metadata": {},
   "source": [
    "It looks like it works; nobody can access our plain_text attribute without the\n",
    "passphrase, so it must be safe. Before we get too excited, though, let's see how\n",
    "easy it can be to hack our security:"
   ]
  },
  {
   "cell_type": "code",
   "execution_count": null,
   "id": "bf9a4b99",
   "metadata": {},
   "outputs": [],
   "source": [
    "print(secret_string._SecretString__plain_string)"
   ]
  },
  {
   "cell_type": "markdown",
   "id": "94546e13",
   "metadata": {},
   "source": [
    "Oh no! Somebody has hacked our secret string. Good thing we checked! This is\n",
    "Python name mangling at work. When we use a double underscore, the property\n",
    "is prefixed with _<classname>. When methods in the class internally access the\n",
    "variable, they are automatically unmangled. When external classes wish to access\n",
    "it, they have to do the name mangling themselves. So, name mangling does not\n",
    "guarantee privacy, it only strongly recommends it. Most Python programmers\n",
    "will not touch a double underscore variable on another object unless they have an\n",
    "extremely compelling reason to do so."
   ]
  },
  {
   "cell_type": "markdown",
   "id": "956959ac",
   "metadata": {},
   "source": [
    "## Third-party libraries"
   ]
  },
  {
   "cell_type": "markdown",
   "id": "9a79d396",
   "metadata": {},
   "source": [
    "Python ships with a lovely standard library, which is a collection of packages\n",
    "and modules that are available on every machine that runs Python. However,\n",
    "you'll soon find that it doesn't contain everything you need. When this happens,\n",
    "you have two options:\n",
    "    \n",
    "    • Write a supporting package yourself\n",
    "    • Use somebody else's code"
   ]
  },
  {
   "cell_type": "markdown",
   "id": "6db1ce43",
   "metadata": {},
   "source": [
    "We won't be covering the details about turning your packages into libraries, but\n",
    "if you have a problem you need to solve and you don't feel like coding it (the best\n",
    "programmers are extremely lazy and prefer to reuse existing, proven code, rather than\n",
    "write their own), you can probably find the library you want on the Python Package\n",
    "Index (PyPI) at http://pypi.python.org/. Once you've identified a package that\n",
    "you want to install, you can use a tool called pip to install it. However, pip does not\n",
    "come with Python, but Python 3.4 contains a useful tool called ensurepip, which\n",
    "will install it:\n",
    "    python -m ensurepip"
   ]
  },
  {
   "cell_type": "markdown",
   "id": "1f0cff92",
   "metadata": {},
   "source": [
    "Once pip is installed and you know the name of the package you want to install,\n",
    "you can install it using syntax such as:     \n",
    "     \n",
    "pip install requests"
   ]
  },
  {
   "cell_type": "markdown",
   "id": "e54a55cc",
   "metadata": {},
   "source": [
    "However, if you do this, you'll either be installing the third-party library directly\n",
    "into your system Python directory, or more likely, get an error that you don't\n",
    "have permission to do so. You could force the installation as an administrator, but\n",
    "common consensus in the Python community is that you should only use system\n",
    "installers to install the third-party library to your system Python directory."
   ]
  },
  {
   "cell_type": "markdown",
   "id": "ea55e2f8",
   "metadata": {},
   "source": [
    "Instead, Python 3.4 supplies the venv tool. This utility basically gives you a mini\n",
    "Python installation called a virtual environment in your working directory. When you\n",
    "activate the mini Python, commands related to Python will work on that directory\n",
    "instead of the system directory. So when you run pip or python, it won't touch the\n",
    "system Python at all"
   ]
  },
  {
   "cell_type": "code",
   "execution_count": null,
   "id": "598e4353",
   "metadata": {},
   "outputs": [],
   "source": [
    "# cd project_directory\n",
    "# python -m venv env\n",
    "# source env/bin/activate # on Linux or MacOS\n",
    "# env/bin/activate.bat # on Windows"
   ]
  },
  {
   "cell_type": "markdown",
   "id": "336be9f2",
   "metadata": {},
   "source": [
    "Virtual environments are a terrific way to keep your third-party dependencies\n",
    "separate. It is common to have different projects that depend on different versions\n",
    "of a particular library (for example, an older website might run on Django 1.5, while\n",
    "newer versions run on Django 1.8). Keeping each project in separate virtualenvs\n",
    "makes it easy to work in either version of Django. Further, it prevents conflicts\n",
    "between system-installed packages and pip installed packages if you try to install\n",
    "the same package using different tools"
   ]
  },
  {
   "cell_type": "markdown",
   "id": "de972d90",
   "metadata": {},
   "source": [
    "## Case study"
   ]
  },
  {
   "cell_type": "markdown",
   "id": "ba62a632",
   "metadata": {},
   "source": [
    "To tie it all together, let's build a simple command-line notebook application. This is\n",
    "a fairly simple task, so we won't be experimenting with multiple packages. We will,\n",
    "however, see common usage of classes, functions, methods, and docstrings."
   ]
  },
  {
   "cell_type": "markdown",
   "id": "3cbcfbe4",
   "metadata": {},
   "source": [
    "Let's start with a quick analysis: notes are short memos stored in a notebook. Each\n",
    "note should record the day it was written and can have tags added for easy querying.\n",
    "It should be possible to modify notes. We also need to be able to search for notes.\n",
    "All of these things should be done from the command line."
   ]
  },
  {
   "cell_type": "markdown",
   "id": "9e503f40",
   "metadata": {},
   "source": [
    "The obvious object is the Note object; less obvious one is a Notebook container object.\n",
    "Tags and dates also seem to be objects, but we can use dates from Python's standard\n",
    "library and a comma-separated string for tags. To avoid complexity, in the prototype,\n",
    "let's not define separate classes for these objects."
   ]
  },
  {
   "cell_type": "markdown",
   "id": "366e5f01",
   "metadata": {},
   "source": [
    "Note objects have attributes for memo itself, tags, and creation_date. Each note will\n",
    "also need a unique integer id so that users can select them in a menu interface. Notes\n",
    "could have a method to modify note content and another for tags, or we could just\n",
    "let the notebook access those attributes directly. To make searching easier, we should\n",
    "put a match method on the Note object. This method will accept a string and can tell\n",
    "us if a note matches the string without accessing the attributes directly. This way, if\n",
    "we want to modify the search parameters (to search tags instead of note contents, for\n",
    "example, or to make the search case-insensitive), we only have to do it in one place."
   ]
  },
  {
   "cell_type": "markdown",
   "id": "e02a18d4",
   "metadata": {},
   "source": [
    "The Notebook object obviously has the list of notes as an attribute. It will also need\n",
    "a search method that returns a list of filtered notes."
   ]
  },
  {
   "cell_type": "markdown",
   "id": "1e33f822",
   "metadata": {},
   "source": [
    "But how do we interact with these objects? We've specified a command-line app,\n",
    "which can mean either that we run the program with different options to add or edit\n",
    "commands, or we have some kind of a menu that allows us to pick different things to\n",
    "do to the notebook. We should try to design it such that either interface is supported\n",
    "and future interfaces, such as a GUI toolkit or web-based interface, could be added in\n",
    "the future."
   ]
  },
  {
   "cell_type": "markdown",
   "id": "341ab423",
   "metadata": {},
   "source": [
    "Before writing any code, let's define the folder structure for this project. The menu\n",
    "interface should clearly be in its own module, since it will be an executable script,\n",
    "and we may have other executable scripts accessing the notebook in the future. The\n",
    "Notebook and Note objects can live together in one module. These modules can both\n",
    "exist in the same top-level directory without having to put them in a package. An\n",
    "empty command_option.py module can help remind us in the future that we were\n",
    "planning to add new user interfaces.   \n",
    "     \n",
    "parent_directory/    \n",
    "notebook.py    \n",
    "menu.py   \n",
    "command_option.py    "
   ]
  },
  {
   "cell_type": "code",
   "execution_count": 8,
   "id": "8ce5de7d",
   "metadata": {},
   "outputs": [],
   "source": [
    "import datetime\n",
    "# Store the next available id for all new notes\n",
    "last_id = 0"
   ]
  },
  {
   "cell_type": "code",
   "execution_count": null,
   "id": "1c123e80",
   "metadata": {},
   "outputs": [],
   "source": [
    "class Note:\n",
    "    '''Represent a note in the notebook. Match against a\n",
    "    Objects in Python string in searches and store tags for each note.'''\n",
    "    def __init__(self, memo, tags=''):\n",
    "        '''initialize a note with memo and optional\n",
    "        space-separated tags. Automatically set the note's\n",
    "        creation date and a unique id.'''\n",
    "        self.memo = memo\n",
    "        self.tags = tags\n",
    "        self.creation_date = datetime.date.today()\n",
    "        global last_id\n",
    "        last_id += 1\n",
    "        self.id = last_id\n",
    "    def match(self, filter):\n",
    "        '''Determine if this note matches the filter\n",
    "        text. Return True if it matches, False otherwise.\n",
    "        Search is case sensitive and matches both text and\n",
    "        tags.'''\n",
    "        return filter in self.memo or filter in self.tags"
   ]
  }
 ],
 "metadata": {
  "kernelspec": {
   "display_name": "Python 3 (ipykernel)",
   "language": "python",
   "name": "python3"
  },
  "language_info": {
   "codemirror_mode": {
    "name": "ipython",
    "version": 3
   },
   "file_extension": ".py",
   "mimetype": "text/x-python",
   "name": "python",
   "nbconvert_exporter": "python",
   "pygments_lexer": "ipython3",
   "version": "3.6.13"
  }
 },
 "nbformat": 4,
 "nbformat_minor": 5
}
